{
 "cells": [
  {
   "cell_type": "markdown",
   "metadata": {},
   "source": [
    "Millions of people use Yandex search every day. \n",
    "The Yandex team puts a lot of effort into making the service more useful and convenient. \n",
    "This requires a good understanding of what problems users solve using search.\n",
    "For example, there is a hypothesis that users searching on mobile devices and on desktop solve different problems. You are invited to test this hypothesis by comparing queries on different platforms.\n",
    "\n",
    "data.json contains a selection of requests to Yandex Search for several days.\n",
    "Each query is described by a dictionary with the following parameters:\n",
    "```\n",
    "    query - query text\n",
    "    datetime - datetime of the query\n",
    "    platform - (touch - mobile device, desktop - computers)\n",
    "```\n",
    "During the interview, you will be asked to answer a number of questions based on the available data.\n",
    "\n",
    "While working on the task, you will be allowed to use any additional materials, search engines, etc.\n",
    "\n",
    "**Examples of questions that can be asked**\n",
    "1. Output the top 10 most frequent requests in each platform (desktop, touch). What differences do you see?\n",
    "2. Explore how the total traffic differs during the day. How can we explain the difference?\n",
    "3. Highlight the query topics that are contrasting for mobile and computers. Are the differences statistically significant?"
   ]
  },
  {
   "cell_type": "code",
   "execution_count": 1,
   "metadata": {},
   "outputs": [],
   "source": [
    "# Your script"
   ]
  },
  {
   "cell_type": "code",
   "execution_count": null,
   "metadata": {},
   "outputs": [],
   "source": []
  }
 ],
 "metadata": {
  "kernelspec": {
   "display_name": "Python 3 (ipykernel)",
   "language": "python",
   "name": "python3"
  },
  "language_info": {
   "codemirror_mode": {
    "name": "ipython",
    "version": 3
   },
   "file_extension": ".py",
   "mimetype": "text/x-python",
   "name": "python",
   "nbconvert_exporter": "python",
   "pygments_lexer": "ipython3",
   "version": "3.10.9"
  }
 },
 "nbformat": 4,
 "nbformat_minor": 4
}
