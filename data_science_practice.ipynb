{
 "cells": [
  {
   "cell_type": "code",
   "execution_count": 1,
   "id": "8ea6a6a0",
   "metadata": {},
   "outputs": [],
   "source": [
    "# https://vkvideo.ru/playlist/-202163717_4/video-202163717_456239939\n",
    "# similar conversion dataset: https://github.com/30lm32/ml-ab-testing/blob/master/model.ipynb"
   ]
  },
  {
   "cell_type": "code",
   "execution_count": 2,
   "id": "58340989",
   "metadata": {},
   "outputs": [],
   "source": [
    "import pandas as pd\n",
    "import numpy as np\n",
    "import matplotlib.pyplot as plt\n",
    "import seaborn as sns\n",
    "\n",
    "import warnings\n",
    "warnings.simplefilter(action=\"ignore\", category=FutureWarning)\n",
    "\n",
    "from IPython.core.interactiveshell import InteractiveShell\n",
    "InteractiveShell.ast_node_interactivity = \"all\""
   ]
  },
  {
   "cell_type": "code",
   "execution_count": 13,
   "id": "2560803f",
   "metadata": {},
   "outputs": [
    {
     "data": {
      "text/html": [
       "<div>\n",
       "<style scoped>\n",
       "    .dataframe tbody tr th:only-of-type {\n",
       "        vertical-align: middle;\n",
       "    }\n",
       "\n",
       "    .dataframe tbody tr th {\n",
       "        vertical-align: top;\n",
       "    }\n",
       "\n",
       "    .dataframe thead th {\n",
       "        text-align: right;\n",
       "    }\n",
       "</style>\n",
       "<table border=\"1\" class=\"dataframe\">\n",
       "  <thead>\n",
       "    <tr style=\"text-align: right;\">\n",
       "      <th></th>\n",
       "      <th>user_id</th>\n",
       "      <th>timestamp</th>\n",
       "      <th>group</th>\n",
       "      <th>landing_page</th>\n",
       "      <th>converted</th>\n",
       "    </tr>\n",
       "  </thead>\n",
       "  <tbody>\n",
       "    <tr>\n",
       "      <th>0</th>\n",
       "      <td>851104</td>\n",
       "      <td>2017-01-21 22:11:48.556739</td>\n",
       "      <td>control</td>\n",
       "      <td>old_page</td>\n",
       "      <td>0</td>\n",
       "    </tr>\n",
       "    <tr>\n",
       "      <th>1</th>\n",
       "      <td>804228</td>\n",
       "      <td>2017-01-12 08:01:45.159739</td>\n",
       "      <td>control</td>\n",
       "      <td>old_page</td>\n",
       "      <td>0</td>\n",
       "    </tr>\n",
       "    <tr>\n",
       "      <th>2</th>\n",
       "      <td>661590</td>\n",
       "      <td>2017-01-11 16:55:06.154213</td>\n",
       "      <td>treatment</td>\n",
       "      <td>new_page</td>\n",
       "      <td>0</td>\n",
       "    </tr>\n",
       "    <tr>\n",
       "      <th>3</th>\n",
       "      <td>853541</td>\n",
       "      <td>2017-01-08 18:28:03.143765</td>\n",
       "      <td>treatment</td>\n",
       "      <td>new_page</td>\n",
       "      <td>0</td>\n",
       "    </tr>\n",
       "    <tr>\n",
       "      <th>4</th>\n",
       "      <td>864975</td>\n",
       "      <td>2017-01-21 01:52:26.210827</td>\n",
       "      <td>control</td>\n",
       "      <td>old_page</td>\n",
       "      <td>1</td>\n",
       "    </tr>\n",
       "    <tr>\n",
       "      <th>...</th>\n",
       "      <td>...</td>\n",
       "      <td>...</td>\n",
       "      <td>...</td>\n",
       "      <td>...</td>\n",
       "      <td>...</td>\n",
       "    </tr>\n",
       "    <tr>\n",
       "      <th>294473</th>\n",
       "      <td>751197</td>\n",
       "      <td>2017-01-03 22:28:38.630509</td>\n",
       "      <td>control</td>\n",
       "      <td>old_page</td>\n",
       "      <td>0</td>\n",
       "    </tr>\n",
       "    <tr>\n",
       "      <th>294474</th>\n",
       "      <td>945152</td>\n",
       "      <td>2017-01-12 00:51:57.078372</td>\n",
       "      <td>control</td>\n",
       "      <td>old_page</td>\n",
       "      <td>0</td>\n",
       "    </tr>\n",
       "    <tr>\n",
       "      <th>294475</th>\n",
       "      <td>734608</td>\n",
       "      <td>2017-01-22 11:45:03.439544</td>\n",
       "      <td>control</td>\n",
       "      <td>old_page</td>\n",
       "      <td>0</td>\n",
       "    </tr>\n",
       "    <tr>\n",
       "      <th>294476</th>\n",
       "      <td>697314</td>\n",
       "      <td>2017-01-15 01:20:28.957438</td>\n",
       "      <td>control</td>\n",
       "      <td>old_page</td>\n",
       "      <td>0</td>\n",
       "    </tr>\n",
       "    <tr>\n",
       "      <th>294477</th>\n",
       "      <td>715931</td>\n",
       "      <td>2017-01-16 12:40:24.467417</td>\n",
       "      <td>treatment</td>\n",
       "      <td>new_page</td>\n",
       "      <td>0</td>\n",
       "    </tr>\n",
       "  </tbody>\n",
       "</table>\n",
       "<p>294478 rows × 5 columns</p>\n",
       "</div>"
      ],
      "text/plain": [
       "        user_id                   timestamp      group landing_page  converted\n",
       "0        851104  2017-01-21 22:11:48.556739    control     old_page          0\n",
       "1        804228  2017-01-12 08:01:45.159739    control     old_page          0\n",
       "2        661590  2017-01-11 16:55:06.154213  treatment     new_page          0\n",
       "3        853541  2017-01-08 18:28:03.143765  treatment     new_page          0\n",
       "4        864975  2017-01-21 01:52:26.210827    control     old_page          1\n",
       "...         ...                         ...        ...          ...        ...\n",
       "294473   751197  2017-01-03 22:28:38.630509    control     old_page          0\n",
       "294474   945152  2017-01-12 00:51:57.078372    control     old_page          0\n",
       "294475   734608  2017-01-22 11:45:03.439544    control     old_page          0\n",
       "294476   697314  2017-01-15 01:20:28.957438    control     old_page          0\n",
       "294477   715931  2017-01-16 12:40:24.467417  treatment     new_page          0\n",
       "\n",
       "[294478 rows x 5 columns]"
      ]
     },
     "execution_count": 13,
     "metadata": {},
     "output_type": "execute_result"
    }
   ],
   "source": [
    "df = pd.read_csv('ab_data.csv')\n",
    "df"
   ]
  },
  {
   "cell_type": "code",
   "execution_count": 15,
   "id": "f0c4d11e",
   "metadata": {},
   "outputs": [
    {
     "data": {
      "text/html": [
       "<div>\n",
       "<style scoped>\n",
       "    .dataframe tbody tr th:only-of-type {\n",
       "        vertical-align: middle;\n",
       "    }\n",
       "\n",
       "    .dataframe tbody tr th {\n",
       "        vertical-align: top;\n",
       "    }\n",
       "\n",
       "    .dataframe thead th {\n",
       "        text-align: right;\n",
       "    }\n",
       "</style>\n",
       "<table border=\"1\" class=\"dataframe\">\n",
       "  <thead>\n",
       "    <tr style=\"text-align: right;\">\n",
       "      <th></th>\n",
       "      <th>group</th>\n",
       "      <th>user_id</th>\n",
       "      <th>converted</th>\n",
       "      <th>conversion</th>\n",
       "    </tr>\n",
       "  </thead>\n",
       "  <tbody>\n",
       "    <tr>\n",
       "      <th>0</th>\n",
       "      <td>control</td>\n",
       "      <td>147202</td>\n",
       "      <td>17723</td>\n",
       "      <td>12.039918</td>\n",
       "    </tr>\n",
       "    <tr>\n",
       "      <th>1</th>\n",
       "      <td>treatment</td>\n",
       "      <td>147276</td>\n",
       "      <td>17514</td>\n",
       "      <td>11.891958</td>\n",
       "    </tr>\n",
       "  </tbody>\n",
       "</table>\n",
       "</div>"
      ],
      "text/plain": [
       "       group  user_id  converted  conversion\n",
       "0    control   147202      17723   12.039918\n",
       "1  treatment   147276      17514   11.891958"
      ]
     },
     "execution_count": 15,
     "metadata": {},
     "output_type": "execute_result"
    }
   ],
   "source": [
    "metrics = df.groupby('group', as_index=False).agg({'user_id': 'count',\n",
    "                                                   'converted': 'sum'})\n",
    "metrics['conversion'] = 100*metrics['converted']/metrics['user_id']\n",
    "metrics"
   ]
  },
  {
   "cell_type": "markdown",
   "id": "9bcf5cd9",
   "metadata": {},
   "source": [
    "### Проверка различий конверсии"
   ]
  },
  {
   "cell_type": "code",
   "execution_count": 16,
   "id": "a7cef54a",
   "metadata": {},
   "outputs": [],
   "source": [
    "import statsmodels.stats.proportion as proportion"
   ]
  },
  {
   "cell_type": "code",
   "execution_count": 18,
   "id": "af276126",
   "metadata": {},
   "outputs": [],
   "source": [
    "chi2stat, pval, table = proportion.proportions_chisquare(metrics['converted'],\n",
    "                                                         metrics['user_id'])"
   ]
  },
  {
   "cell_type": "code",
   "execution_count": 19,
   "id": "0b5c6459",
   "metadata": {},
   "outputs": [
    {
     "data": {
      "text/plain": [
       "0.21611613269757673"
      ]
     },
     "execution_count": 19,
     "metadata": {},
     "output_type": "execute_result"
    }
   ],
   "source": [
    "pval"
   ]
  },
  {
   "cell_type": "markdown",
   "id": "589db57d",
   "metadata": {},
   "source": [
    "### Мощность\n",
    "\n",
    "А были у нас шансы вообще увидеть статистическую разницу \\\n",
    "Низкая мощность – больше шанс, что разницы не существует \\\n",
    "80% мощность означает, что в 80 случаев из 100 мы сможем обнаружить разницу"
   ]
  },
  {
   "cell_type": "code",
   "execution_count": 20,
   "id": "cc37b30d",
   "metadata": {},
   "outputs": [],
   "source": [
    "import statsmodels.stats.power as smp"
   ]
  },
  {
   "cell_type": "code",
   "execution_count": 22,
   "id": "6162d26f",
   "metadata": {},
   "outputs": [
    {
     "data": {
      "text/plain": [
       "0.37315286694134825"
      ]
     },
     "execution_count": 22,
     "metadata": {},
     "output_type": "execute_result"
    }
   ],
   "source": [
    "chipower = smp.GofChisquarePower()\n",
    "\n",
    "conversion_control = metrics['conversion'].values[0]/100\n",
    "conversion_test = metrics['conversion'].values[1]/100\n",
    "nobs = min(metrics['user_id'])\n",
    "\n",
    "def chi2_effect_size(p0, p1):\n",
    "    return np.sqrt(((p0 - p1)**2/p0))\n",
    "    \n",
    "chipower.solve_power(effect_size = chi2_effect_size(conversion_control,\n",
    "                                                   conversion_test),\n",
    "                     nobs= nobs,\n",
    "                     alpha = 0.05,\n",
    "                     power = None)  # было мало шансов увидеть стат значимую разницу"
   ]
  },
  {
   "cell_type": "markdown",
   "id": "6bd2def3",
   "metadata": {},
   "source": [
    "### Минимальный обнаруживаемый эффект\n",
    "\n",
    "Наименьшая разница между группами, которую мы можем разглядеть с желаемой уверенностью\n",
    "\n",
    "Если мы говорим, что стат. значимой разницы нет, то это не означает, что разницы вовсе нет\n",
    "\n",
    "Правильнее говорить, если разница и есть, то она не может быть обнаружена на рассматриваемом объеме данных\n",
    "\n",
    "#### Вычисление кол-ва наблюдений, необходимых для получаемого уровня мощности"
   ]
  },
  {
   "cell_type": "code",
   "execution_count": 28,
   "id": "c3675a76",
   "metadata": {},
   "outputs": [
    {
     "data": {
      "text/plain": [
       "863319"
      ]
     },
     "execution_count": 28,
     "metadata": {},
     "output_type": "execute_result"
    }
   ],
   "source": [
    "size_of_each_test_group = chipower.\\\n",
    "solve_power(effect_size= chi2_effect_size(conversion_control,\n",
    "                                           conversion_test),\n",
    "             nobs = None,\n",
    "             alpha=0.05,\n",
    "             power=0.8\n",
    "            )\n",
    "int(size_of_each_test_group*2)"
   ]
  },
  {
   "cell_type": "markdown",
   "id": "87bf290e",
   "metadata": {},
   "source": [
    "### Bootstrap"
   ]
  },
  {
   "cell_type": "code",
   "execution_count": null,
   "id": "ba78af73",
   "metadata": {},
   "outputs": [],
   "source": [
    "import bootstrapped.bootstrap as bs \n",
    "import bootstrapped.stats_functions as bs_stats\n",
    "import bootstrapped.compare_functions as bs_compare\n",
    "\n",
    "test = df[df['test group'] == 'ad']['total ads'].values\n",
    "ctrl = df[df['test group'] == 'psa']['total ads'].values\n",
    "boot_results = bs.bootstrap_ab(test, ctrl,\n",
    "                               stat_func = bs_stats.mean,\n",
    "                              compare_func = bs_compare.difference,\n",
    "                              return_distribution=True)\n",
    "# получаем массив разниц\n",
    "# если ноль входит в ДИ, то стат. разница не обнаружена"
   ]
  },
  {
   "cell_type": "markdown",
   "id": "9610ce30",
   "metadata": {},
   "source": [
    "https://vkteam.medium.com/practitioners-guide-to-statistical-tests-ed2d580ef04f"
   ]
  },
  {
   "cell_type": "markdown",
   "id": "af7bc174",
   "metadata": {},
   "source": [
    "CTR – clickthrough rate, number of clicks\n",
    "\n",
    "$M=\\frac{1}{|Users|}\\sum_{u \\in Users} clicks_u$\n",
    "\n",
    "АБ-Тесты могут быть характеризованы: \n",
    "* FPR – вероятность отвергнуть H0 при истинной H0\n",
    "* Sensitivity – вероятность отвергнуть H0 при ошибочной H0\n",
    "\n",
    "FPR=0 если будем всегда принимать H0\n",
    "Sensitivity = 100 если всегда будем отвергать H0\n",
    "\n",
    "Trade-off между FPR и Sensitivity будет ROC кривая\n",
    "Идеально когда низкий FPR и высокий Sensitivity\n",
    "\n",
    "Распределение просмотров рекламы является лог-нормальное распределение\n",
    "Распределение CTR обычно является бета-распределение"
   ]
  },
  {
   "cell_type": "markdown",
   "id": "9c5cb12f",
   "metadata": {},
   "source": [
    "### Practicum Yandex"
   ]
  },
  {
   "cell_type": "code",
   "execution_count": 103,
   "id": "8647bdac",
   "metadata": {},
   "outputs": [
    {
     "data": {
      "text/plain": [
       "2.3276017578560886"
      ]
     },
     "execution_count": 103,
     "metadata": {},
     "output_type": "execute_result"
    }
   ],
   "source": [
    "p1 = 0.0512\n",
    "p2 =  0.0526\n",
    "mde = 0.000765\n",
    "n1 = 1321882\n",
    "n2 = 1322630\n",
    "ese = np.sqrt((p1*(1-p1)/n1) + (p2*(1-p2)/n2))\n",
    "z_prop = (p2 - p1 - mde)/ese\n",
    "z_prop"
   ]
  },
  {
   "cell_type": "code",
   "execution_count": 110,
   "id": "32445753",
   "metadata": {},
   "outputs": [
    {
     "data": {
      "text/plain": [
       "0.9801188664699144"
      ]
     },
     "execution_count": 110,
     "metadata": {},
     "output_type": "execute_result"
    }
   ],
   "source": [
    "import scipy\n",
    "perc = 1.5/100\n",
    "mde = 0.051*perc\n",
    "var = 0.048\n",
    "n = 2645900\n",
    "zb = np.sqrt(n/(2*var))*mde + scipy.stats.norm.ppf(0.05/2)  # z-значение\n",
    "scipy.stats.norm.cdf(zb)  # мощность при расч. MDE и n"
   ]
  },
  {
   "cell_type": "markdown",
   "id": "0ab109f5",
   "metadata": {},
   "source": [
    "### Pandas"
   ]
  },
  {
   "cell_type": "code",
   "execution_count": null,
   "id": "ace135e9",
   "metadata": {},
   "outputs": [],
   "source": []
  }
 ],
 "metadata": {
  "kernelspec": {
   "display_name": "Python 3 (ipykernel)",
   "language": "python",
   "name": "python3"
  },
  "language_info": {
   "codemirror_mode": {
    "name": "ipython",
    "version": 3
   },
   "file_extension": ".py",
   "mimetype": "text/x-python",
   "name": "python",
   "nbconvert_exporter": "python",
   "pygments_lexer": "ipython3",
   "version": "3.10.9"
  }
 },
 "nbformat": 4,
 "nbformat_minor": 5
}
