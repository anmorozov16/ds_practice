{
 "cells": [
  {
   "cell_type": "code",
   "execution_count": 1,
   "id": "8ea6a6a0",
   "metadata": {},
   "outputs": [],
   "source": [
    "# https://vkvideo.ru/playlist/-202163717_4/video-202163717_456239939\n",
    "# similar conversion dataset: https://github.com/30lm32/ml-ab-testing/blob/master/model.ipynb"
   ]
  },
  {
   "cell_type": "code",
<<<<<<< HEAD
   "execution_count": 221,
=======
   "execution_count": 6,
>>>>>>> 58
   "id": "58340989",
   "metadata": {
    "ExecuteTime": {
     "end_time": "2024-12-18T18:40:01.386558Z",
     "start_time": "2024-12-18T18:40:01.383170Z"
    }
   },
   "outputs": [],
   "source": [
    "import pandas as pd\n",
    "import numpy as np\n",
    "import matplotlib.pyplot as plt\n",
    "import seaborn as sns\n",
    "import datetime\n",
    "\n",
    "import warnings\n",
    "warnings.simplefilter(action=\"ignore\", category=FutureWarning)\n",
    "\n",
    "from IPython.core.interactiveshell import InteractiveShell\n",
    "InteractiveShell.ast_node_interactivity = \"all\""
   ]
  },
  {
   "cell_type": "code",
   "execution_count": 13,
   "id": "2560803f",
   "metadata": {},
   "outputs": [
    {
     "data": {
      "text/html": [
       "<div>\n",
       "<style scoped>\n",
       "    .dataframe tbody tr th:only-of-type {\n",
       "        vertical-align: middle;\n",
       "    }\n",
       "\n",
       "    .dataframe tbody tr th {\n",
       "        vertical-align: top;\n",
       "    }\n",
       "\n",
       "    .dataframe thead th {\n",
       "        text-align: right;\n",
       "    }\n",
       "</style>\n",
       "<table border=\"1\" class=\"dataframe\">\n",
       "  <thead>\n",
       "    <tr style=\"text-align: right;\">\n",
       "      <th></th>\n",
       "      <th>user_id</th>\n",
       "      <th>timestamp</th>\n",
       "      <th>group</th>\n",
       "      <th>landing_page</th>\n",
       "      <th>converted</th>\n",
       "    </tr>\n",
       "  </thead>\n",
       "  <tbody>\n",
       "    <tr>\n",
       "      <th>0</th>\n",
       "      <td>851104</td>\n",
       "      <td>2017-01-21 22:11:48.556739</td>\n",
       "      <td>control</td>\n",
       "      <td>old_page</td>\n",
       "      <td>0</td>\n",
       "    </tr>\n",
       "    <tr>\n",
       "      <th>1</th>\n",
       "      <td>804228</td>\n",
       "      <td>2017-01-12 08:01:45.159739</td>\n",
       "      <td>control</td>\n",
       "      <td>old_page</td>\n",
       "      <td>0</td>\n",
       "    </tr>\n",
       "    <tr>\n",
       "      <th>2</th>\n",
       "      <td>661590</td>\n",
       "      <td>2017-01-11 16:55:06.154213</td>\n",
       "      <td>treatment</td>\n",
       "      <td>new_page</td>\n",
       "      <td>0</td>\n",
       "    </tr>\n",
       "    <tr>\n",
       "      <th>3</th>\n",
       "      <td>853541</td>\n",
       "      <td>2017-01-08 18:28:03.143765</td>\n",
       "      <td>treatment</td>\n",
       "      <td>new_page</td>\n",
       "      <td>0</td>\n",
       "    </tr>\n",
       "    <tr>\n",
       "      <th>4</th>\n",
       "      <td>864975</td>\n",
       "      <td>2017-01-21 01:52:26.210827</td>\n",
       "      <td>control</td>\n",
       "      <td>old_page</td>\n",
       "      <td>1</td>\n",
       "    </tr>\n",
       "    <tr>\n",
       "      <th>...</th>\n",
       "      <td>...</td>\n",
       "      <td>...</td>\n",
       "      <td>...</td>\n",
       "      <td>...</td>\n",
       "      <td>...</td>\n",
       "    </tr>\n",
       "    <tr>\n",
       "      <th>294473</th>\n",
       "      <td>751197</td>\n",
       "      <td>2017-01-03 22:28:38.630509</td>\n",
       "      <td>control</td>\n",
       "      <td>old_page</td>\n",
       "      <td>0</td>\n",
       "    </tr>\n",
       "    <tr>\n",
       "      <th>294474</th>\n",
       "      <td>945152</td>\n",
       "      <td>2017-01-12 00:51:57.078372</td>\n",
       "      <td>control</td>\n",
       "      <td>old_page</td>\n",
       "      <td>0</td>\n",
       "    </tr>\n",
       "    <tr>\n",
       "      <th>294475</th>\n",
       "      <td>734608</td>\n",
       "      <td>2017-01-22 11:45:03.439544</td>\n",
       "      <td>control</td>\n",
       "      <td>old_page</td>\n",
       "      <td>0</td>\n",
       "    </tr>\n",
       "    <tr>\n",
       "      <th>294476</th>\n",
       "      <td>697314</td>\n",
       "      <td>2017-01-15 01:20:28.957438</td>\n",
       "      <td>control</td>\n",
       "      <td>old_page</td>\n",
       "      <td>0</td>\n",
       "    </tr>\n",
       "    <tr>\n",
       "      <th>294477</th>\n",
       "      <td>715931</td>\n",
       "      <td>2017-01-16 12:40:24.467417</td>\n",
       "      <td>treatment</td>\n",
       "      <td>new_page</td>\n",
       "      <td>0</td>\n",
       "    </tr>\n",
       "  </tbody>\n",
       "</table>\n",
       "<p>294478 rows × 5 columns</p>\n",
       "</div>"
      ],
      "text/plain": [
       "        user_id                   timestamp      group landing_page  converted\n",
       "0        851104  2017-01-21 22:11:48.556739    control     old_page          0\n",
       "1        804228  2017-01-12 08:01:45.159739    control     old_page          0\n",
       "2        661590  2017-01-11 16:55:06.154213  treatment     new_page          0\n",
       "3        853541  2017-01-08 18:28:03.143765  treatment     new_page          0\n",
       "4        864975  2017-01-21 01:52:26.210827    control     old_page          1\n",
       "...         ...                         ...        ...          ...        ...\n",
       "294473   751197  2017-01-03 22:28:38.630509    control     old_page          0\n",
       "294474   945152  2017-01-12 00:51:57.078372    control     old_page          0\n",
       "294475   734608  2017-01-22 11:45:03.439544    control     old_page          0\n",
       "294476   697314  2017-01-15 01:20:28.957438    control     old_page          0\n",
       "294477   715931  2017-01-16 12:40:24.467417  treatment     new_page          0\n",
       "\n",
       "[294478 rows x 5 columns]"
      ]
     },
     "execution_count": 13,
     "metadata": {},
     "output_type": "execute_result"
    }
   ],
   "source": [
    "df = pd.read_csv('ab_data.csv')\n",
    "df"
   ]
  },
  {
   "cell_type": "code",
   "execution_count": 15,
   "id": "f0c4d11e",
   "metadata": {},
   "outputs": [
    {
     "data": {
      "text/html": [
       "<div>\n",
       "<style scoped>\n",
       "    .dataframe tbody tr th:only-of-type {\n",
       "        vertical-align: middle;\n",
       "    }\n",
       "\n",
       "    .dataframe tbody tr th {\n",
       "        vertical-align: top;\n",
       "    }\n",
       "\n",
       "    .dataframe thead th {\n",
       "        text-align: right;\n",
       "    }\n",
       "</style>\n",
       "<table border=\"1\" class=\"dataframe\">\n",
       "  <thead>\n",
       "    <tr style=\"text-align: right;\">\n",
       "      <th></th>\n",
       "      <th>group</th>\n",
       "      <th>user_id</th>\n",
       "      <th>converted</th>\n",
       "      <th>conversion</th>\n",
       "    </tr>\n",
       "  </thead>\n",
       "  <tbody>\n",
       "    <tr>\n",
       "      <th>0</th>\n",
       "      <td>control</td>\n",
       "      <td>147202</td>\n",
       "      <td>17723</td>\n",
       "      <td>12.039918</td>\n",
       "    </tr>\n",
       "    <tr>\n",
       "      <th>1</th>\n",
       "      <td>treatment</td>\n",
       "      <td>147276</td>\n",
       "      <td>17514</td>\n",
       "      <td>11.891958</td>\n",
       "    </tr>\n",
       "  </tbody>\n",
       "</table>\n",
       "</div>"
      ],
      "text/plain": [
       "       group  user_id  converted  conversion\n",
       "0    control   147202      17723   12.039918\n",
       "1  treatment   147276      17514   11.891958"
      ]
     },
     "execution_count": 15,
     "metadata": {},
     "output_type": "execute_result"
    }
   ],
   "source": [
    "metrics = df.groupby('group', as_index=False).agg({'user_id': 'count',\n",
    "                                                   'converted': 'sum'})\n",
    "metrics['conversion'] = 100*metrics['converted']/metrics['user_id']\n",
    "metrics"
   ]
  },
  {
   "cell_type": "markdown",
   "id": "9bcf5cd9",
   "metadata": {},
   "source": [
    "### Проверка различий конверсии"
   ]
  },
  {
   "cell_type": "code",
   "execution_count": 16,
   "id": "a7cef54a",
   "metadata": {},
   "outputs": [],
   "source": [
    "import statsmodels.stats.proportion as proportion"
   ]
  },
  {
   "cell_type": "code",
   "execution_count": 18,
   "id": "af276126",
   "metadata": {},
   "outputs": [],
   "source": [
    "chi2stat, pval, table = proportion.proportions_chisquare(metrics['converted'],\n",
    "                                                         metrics['user_id'])"
   ]
  },
  {
   "cell_type": "code",
   "execution_count": 19,
   "id": "0b5c6459",
   "metadata": {},
   "outputs": [
    {
     "data": {
      "text/plain": [
       "0.21611613269757673"
      ]
     },
     "execution_count": 19,
     "metadata": {},
     "output_type": "execute_result"
    }
   ],
   "source": [
    "pval"
   ]
  },
  {
   "cell_type": "markdown",
   "id": "589db57d",
   "metadata": {},
   "source": [
    "### Мощность\n",
    "\n",
    "А были у нас шансы вообще увидеть статистическую разницу \\\n",
    "Низкая мощность – больше шанс, что разницы не существует \\\n",
    "80% мощность означает, что в 80 случаев из 100 мы сможем обнаружить разницу"
   ]
  },
  {
   "cell_type": "code",
   "execution_count": 20,
   "id": "cc37b30d",
   "metadata": {},
   "outputs": [],
   "source": [
    "import statsmodels.stats.power as smp"
   ]
  },
  {
   "cell_type": "code",
   "execution_count": 22,
   "id": "6162d26f",
   "metadata": {},
   "outputs": [
    {
     "data": {
      "text/plain": [
       "0.37315286694134825"
      ]
     },
     "execution_count": 22,
     "metadata": {},
     "output_type": "execute_result"
    }
   ],
   "source": [
    "chipower = smp.GofChisquarePower()\n",
    "\n",
    "conversion_control = metrics['conversion'].values[0]/100\n",
    "conversion_test = metrics['conversion'].values[1]/100\n",
    "nobs = min(metrics['user_id'])\n",
    "\n",
    "def chi2_effect_size(p0, p1):\n",
    "    return np.sqrt(((p0 - p1)**2/p0))\n",
    "    \n",
    "chipower.solve_power(effect_size = chi2_effect_size(conversion_control,\n",
    "                                                   conversion_test),\n",
    "                     nobs= nobs,\n",
    "                     alpha = 0.05,\n",
    "                     power = None)  # было мало шансов увидеть стат значимую разницу"
   ]
  },
  {
   "cell_type": "markdown",
   "id": "6bd2def3",
   "metadata": {},
   "source": [
    "### Минимальный обнаруживаемый эффект\n",
    "\n",
    "Наименьшая разница между группами, которую мы можем разглядеть с желаемой уверенностью\n",
    "\n",
    "Если мы говорим, что стат. значимой разницы нет, то это не означает, что разницы вовсе нет\n",
    "\n",
    "Правильнее говорить, если разница и есть, то она не может быть обнаружена на рассматриваемом объеме данных\n",
    "\n",
    "#### Вычисление кол-ва наблюдений, необходимых для получаемого уровня мощности"
   ]
  },
  {
   "cell_type": "code",
   "execution_count": 28,
   "id": "c3675a76",
   "metadata": {},
   "outputs": [
    {
     "data": {
      "text/plain": [
       "863319"
      ]
     },
     "execution_count": 28,
     "metadata": {},
     "output_type": "execute_result"
    }
   ],
   "source": [
    "size_of_each_test_group = chipower.\\\n",
    "solve_power(effect_size= chi2_effect_size(conversion_control,\n",
    "                                           conversion_test),\n",
    "             nobs = None,\n",
    "             alpha=0.05,\n",
    "             power=0.8\n",
    "            )\n",
    "int(size_of_each_test_group*2)"
   ]
  },
  {
   "cell_type": "markdown",
   "id": "87bf290e",
   "metadata": {},
   "source": [
    "### Bootstrap"
   ]
  },
  {
   "cell_type": "code",
   "execution_count": null,
   "id": "ba78af73",
   "metadata": {},
   "outputs": [],
   "source": [
    "import bootstrapped.bootstrap as bs \n",
    "import bootstrapped.stats_functions as bs_stats\n",
    "import bootstrapped.compare_functions as bs_compare\n",
    "\n",
    "test = df[df['test group'] == 'ad']['total ads'].values\n",
    "ctrl = df[df['test group'] == 'psa']['total ads'].values\n",
    "boot_results = bs.bootstrap_ab(test, ctrl,\n",
    "                               stat_func = bs_stats.mean,\n",
    "                              compare_func = bs_compare.difference,\n",
    "                              return_distribution=True)\n",
    "# получаем массив разниц\n",
    "# если ноль входит в ДИ, то стат. разница не обнаружена"
   ]
  },
  {
   "cell_type": "markdown",
   "id": "9610ce30",
   "metadata": {},
   "source": [
    "https://vkteam.medium.com/practitioners-guide-to-statistical-tests-ed2d580ef04f"
   ]
  },
  {
   "cell_type": "markdown",
   "id": "af7bc174",
   "metadata": {},
   "source": [
    "CTR – clickthrough rate, number of clicks\n",
    "\n",
    "$M=\\frac{1}{|Users|}\\sum_{u \\in Users} clicks_u$\n",
    "\n",
    "АБ-Тесты могут быть характеризованы: \n",
    "* FPR – вероятность отвергнуть H0 при истинной H0\n",
    "* Sensitivity – вероятность отвергнуть H0 при ошибочной H0\n",
    "\n",
    "FPR=0 если будем всегда принимать H0\n",
    "Sensitivity = 100 если всегда будем отвергать H0\n",
    "\n",
    "Trade-off между FPR и Sensitivity будет ROC кривая\n",
    "Идеально когда низкий FPR и высокий Sensitivity\n",
    "\n",
    "Распределение просмотров рекламы является лог-нормальное распределение\n",
    "Распределение CTR обычно является бета-распределение"
   ]
  },
  {
   "cell_type": "markdown",
   "id": "9c5cb12f",
   "metadata": {},
   "source": [
    "### Practicum Yandex"
   ]
  },
  {
   "cell_type": "code",
   "execution_count": 103,
   "id": "8647bdac",
   "metadata": {},
   "outputs": [
    {
     "data": {
      "text/plain": [
       "2.3276017578560886"
      ]
     },
     "execution_count": 103,
     "metadata": {},
     "output_type": "execute_result"
    }
   ],
   "source": [
    "p1 = 0.0512\n",
    "p2 =  0.0526\n",
    "mde = 0.000765\n",
    "n1 = 1321882\n",
    "n2 = 1322630\n",
    "ese = np.sqrt((p1*(1-p1)/n1) + (p2*(1-p2)/n2))\n",
    "z_prop = (p2 - p1 - mde)/ese\n",
    "z_prop"
   ]
  },
  {
   "cell_type": "code",
   "execution_count": 110,
   "id": "32445753",
   "metadata": {},
   "outputs": [
    {
     "data": {
      "text/plain": [
       "0.9801188664699144"
      ]
     },
     "execution_count": 110,
     "metadata": {},
     "output_type": "execute_result"
    }
   ],
   "source": [
    "import scipy\n",
    "perc = 1.5/100\n",
    "mde = 0.051*perc\n",
    "var = 0.048\n",
    "n = 2645900\n",
    "zb = np.sqrt(n/(2*var))*mde + scipy.stats.norm.ppf(0.05/2)  # z-значение\n",
    "scipy.stats.norm.cdf(zb)  # мощность при расч. MDE и n"
   ]
  },
  {
   "cell_type": "markdown",
   "id": "0ab109f5",
   "metadata": {},
   "source": [
    "### Pandas"
   ]
  },
  {
   "cell_type": "code",
   "execution_count": 2,
   "id": "ace135e9",
   "metadata": {
    "ExecuteTime": {
     "end_time": "2024-12-18T12:26:37.145957Z",
     "start_time": "2024-12-18T12:26:37.143251Z"
    }
   },
   "outputs": [],
   "source": [
    "# https://www.machinelearningplus.com/python/101-pandas-exercises-python/"
   ]
  },
  {
   "cell_type": "code",
   "execution_count": 237,
   "id": "4fc70e00",
   "metadata": {
    "ExecuteTime": {
     "end_time": "2024-12-18T19:38:40.182127Z",
     "start_time": "2024-12-18T19:38:40.176624Z"
    }
   },
   "outputs": [
    {
     "data": {
      "text/plain": [
       "0    1\n",
       "1    2\n",
       "2    3\n",
       "dtype: int64"
      ]
     },
     "execution_count": 237,
     "metadata": {},
     "output_type": "execute_result"
    }
   ],
   "source": [
    "# How to get the items of series A not present in series B?\n",
    "ser1 = pd.Series([1, 2, 3, 4, 5])\n",
    "ser2 = pd.Series([4, 5, 6, 7, 8])\n",
    "\n",
    "ser1[~ser1.isin(ser2)] "
   ]
  },
  {
   "cell_type": "code",
   "execution_count": 9,
   "id": "fd64a2dc",
   "metadata": {
    "ExecuteTime": {
     "end_time": "2024-12-18T12:47:30.108216Z",
     "start_time": "2024-12-18T12:47:30.103990Z"
    }
   },
   "outputs": [
    {
     "data": {
      "text/plain": [
       "0    1\n",
       "1    2\n",
       "2    3\n",
       "3    6\n",
       "4    7\n",
       "5    8\n",
       "dtype: int64"
      ]
     },
     "execution_count": 9,
     "metadata": {},
     "output_type": "execute_result"
    }
   ],
   "source": [
    "#How to get the items not common to both series A and series B?\n",
    "\n",
    "pd.Series(list(set(ser1).symmetric_difference(set(ser2))))"
   ]
  },
  {
   "cell_type": "code",
   "execution_count": 240,
   "id": "4d18bfcd",
   "metadata": {
    "ExecuteTime": {
     "end_time": "2024-12-18T19:38:54.906044Z",
     "start_time": "2024-12-18T19:38:54.902473Z"
    }
   },
   "outputs": [
    {
     "data": {
      "text/plain": [
       "{1, 2, 3, 6, 7, 8}"
      ]
     },
     "execution_count": 240,
     "metadata": {},
     "output_type": "execute_result"
    }
   ],
   "source": [
    "set(ser1) ^ set(ser2)"
   ]
  },
  {
   "cell_type": "code",
   "execution_count": 24,
   "id": "3f261b63",
   "metadata": {
    "ExecuteTime": {
     "end_time": "2024-12-18T12:52:50.306616Z",
     "start_time": "2024-12-18T12:52:50.301129Z"
    }
   },
   "outputs": [
    {
     "data": {
      "text/plain": [
       "1        7\n",
       "3        3\n",
       "4    Other\n",
       "Name: count, dtype: object"
      ]
     },
     "execution_count": 24,
     "metadata": {},
     "output_type": "execute_result"
    }
   ],
   "source": [
    "# 8. How to get the minimum, 25th percentile, median, 75th, and max of a numeric series?\n",
    "ser = pd.Series(np.random.randint(1, 5, [12]))\n",
    "ser.value_counts().apply(lambda x: 'Other' if x < ser.value_counts().iloc[1] else x)"
   ]
  },
  {
   "cell_type": "code",
   "execution_count": 34,
   "id": "a37a3ef7",
   "metadata": {
    "ExecuteTime": {
     "end_time": "2024-12-18T12:59:36.471351Z",
     "start_time": "2024-12-18T12:59:36.465619Z"
    }
   },
   "outputs": [
    {
     "data": {
      "text/plain": [
       "0      9th\n",
       "1      1st\n",
       "2      8th\n",
       "3     10th\n",
       "4      7th\n",
       "5      9th\n",
       "6      8th\n",
       "7      2nd\n",
       "8      7th\n",
       "9      4th\n",
       "10     6th\n",
       "11     6th\n",
       "12     3rd\n",
       "13     5th\n",
       "14     3rd\n",
       "15     4th\n",
       "16    10th\n",
       "17     5th\n",
       "18     1st\n",
       "19     2nd\n",
       "dtype: category\n",
       "Categories (10, object): ['1st' < '2nd' < '3rd' < '4th' ... '7th' < '8th' < '9th' < '10th']"
      ]
     },
     "execution_count": 34,
     "metadata": {},
     "output_type": "execute_result"
    }
   ],
   "source": [
    "# 11. How to bin a numeric series to 10 groups of equal size?\n",
    "\n",
    "ser = pd.Series(np.random.random(20))\n",
    "\n",
    "\n",
    "pd.qcut(ser, q=np.arange(0,1.1,0.1), \n",
    "        labels=['1st', '2nd', '3rd', '4th', '5th', '6th', '7th', '8th', '9th', '10th']\n",
    "       )"
   ]
  },
  {
   "cell_type": "code",
   "execution_count": 49,
   "id": "ab8a6c5a",
   "metadata": {
    "ExecuteTime": {
     "end_time": "2024-12-18T13:05:39.583406Z",
     "start_time": "2024-12-18T13:05:39.577390Z"
    }
   },
   "outputs": [
    {
     "data": {
      "text/plain": [
       "0    3\n",
       "1    6\n",
       "2    9\n",
       "3    6\n",
       "4    3\n",
       "5    9\n",
       "6    5\n",
       "dtype: int32"
      ]
     },
     "execution_count": 49,
     "metadata": {},
     "output_type": "execute_result"
    },
    {
     "data": {
      "text/plain": [
       "array([[0],\n",
       "       [1],\n",
       "       [2],\n",
       "       [3],\n",
       "       [4],\n",
       "       [5]], dtype=int64)"
      ]
     },
     "execution_count": 49,
     "metadata": {},
     "output_type": "execute_result"
    }
   ],
   "source": [
    "# 13. How to find the positions of numbers that are multiples of 3 from a series?\n",
    "\n",
    "ser = pd.Series(np.random.randint(1, 10, 7))\n",
    "ser\n",
    "np.argwhere(ser % 3 == 0)"
   ]
  },
  {
   "cell_type": "code",
   "execution_count": 53,
   "id": "fc7029d1",
   "metadata": {
    "ExecuteTime": {
     "end_time": "2024-12-18T13:07:02.362306Z",
     "start_time": "2024-12-18T13:07:02.357288Z"
    }
   },
   "outputs": [
    {
     "data": {
      "text/plain": [
       "0     a\n",
       "4     e\n",
       "8     i\n",
       "14    o\n",
       "20    u\n",
       "dtype: object"
      ]
     },
     "execution_count": 53,
     "metadata": {},
     "output_type": "execute_result"
    }
   ],
   "source": [
    "# 14. How to extract items at given positions from a series\n",
    "\n",
    "ser = pd.Series(list('abcdefghijklmnopqrstuvwxyz'))\n",
    "pos = [0, 4, 8, 14, 20]\n",
    "ser.take(pos)"
   ]
  },
  {
   "cell_type": "code",
   "execution_count": 65,
   "id": "d79daa0c",
   "metadata": {
    "ExecuteTime": {
     "end_time": "2024-12-18T13:14:34.763737Z",
     "start_time": "2024-12-18T13:14:34.749445Z"
    }
   },
   "outputs": [
    {
     "data": {
      "text/plain": [
       "0    0\n",
       "1    1\n",
       "2    2\n",
       "3    3\n",
       "4    4\n",
       "5    a\n",
       "6    b\n",
       "7    c\n",
       "8    d\n",
       "9    e\n",
       "dtype: object"
      ]
     },
     "execution_count": 65,
     "metadata": {},
     "output_type": "execute_result"
    },
    {
     "data": {
      "text/html": [
       "<div>\n",
       "<style scoped>\n",
       "    .dataframe tbody tr th:only-of-type {\n",
       "        vertical-align: middle;\n",
       "    }\n",
       "\n",
       "    .dataframe tbody tr th {\n",
       "        vertical-align: top;\n",
       "    }\n",
       "\n",
       "    .dataframe thead th {\n",
       "        text-align: right;\n",
       "    }\n",
       "</style>\n",
       "<table border=\"1\" class=\"dataframe\">\n",
       "  <thead>\n",
       "    <tr style=\"text-align: right;\">\n",
       "      <th></th>\n",
       "      <th>0</th>\n",
       "      <th>1</th>\n",
       "      <th>2</th>\n",
       "      <th>3</th>\n",
       "      <th>4</th>\n",
       "    </tr>\n",
       "  </thead>\n",
       "  <tbody>\n",
       "    <tr>\n",
       "      <th>0</th>\n",
       "      <td>0</td>\n",
       "      <td>1</td>\n",
       "      <td>2</td>\n",
       "      <td>3</td>\n",
       "      <td>4</td>\n",
       "    </tr>\n",
       "    <tr>\n",
       "      <th>1</th>\n",
       "      <td>a</td>\n",
       "      <td>b</td>\n",
       "      <td>c</td>\n",
       "      <td>d</td>\n",
       "      <td>e</td>\n",
       "    </tr>\n",
       "  </tbody>\n",
       "</table>\n",
       "</div>"
      ],
      "text/plain": [
       "   0  1  2  3  4\n",
       "0  0  1  2  3  4\n",
       "1  a  b  c  d  e"
      ]
     },
     "execution_count": 65,
     "metadata": {},
     "output_type": "execute_result"
    },
    {
     "data": {
      "text/plain": [
       "0    0\n",
       "1    1\n",
       "2    2\n",
       "3    3\n",
       "4    4\n",
       "0    a\n",
       "1    b\n",
       "2    c\n",
       "3    d\n",
       "4    e\n",
       "dtype: object"
      ]
     },
     "execution_count": 65,
     "metadata": {},
     "output_type": "execute_result"
    },
    {
     "data": {
      "text/plain": [
       "0    0\n",
       "1    1\n",
       "2    2\n",
       "3    3\n",
       "4    4\n",
       "0    a\n",
       "1    b\n",
       "2    c\n",
       "3    d\n",
       "4    e\n",
       "dtype: object"
      ]
     },
     "execution_count": 65,
     "metadata": {},
     "output_type": "execute_result"
    },
    {
     "data": {
      "text/html": [
       "<div>\n",
       "<style scoped>\n",
       "    .dataframe tbody tr th:only-of-type {\n",
       "        vertical-align: middle;\n",
       "    }\n",
       "\n",
       "    .dataframe tbody tr th {\n",
       "        vertical-align: top;\n",
       "    }\n",
       "\n",
       "    .dataframe thead th {\n",
       "        text-align: right;\n",
       "    }\n",
       "</style>\n",
       "<table border=\"1\" class=\"dataframe\">\n",
       "  <thead>\n",
       "    <tr style=\"text-align: right;\">\n",
       "      <th></th>\n",
       "      <th>0</th>\n",
       "      <th>1</th>\n",
       "    </tr>\n",
       "  </thead>\n",
       "  <tbody>\n",
       "    <tr>\n",
       "      <th>0</th>\n",
       "      <td>0</td>\n",
       "      <td>a</td>\n",
       "    </tr>\n",
       "    <tr>\n",
       "      <th>1</th>\n",
       "      <td>1</td>\n",
       "      <td>b</td>\n",
       "    </tr>\n",
       "    <tr>\n",
       "      <th>2</th>\n",
       "      <td>2</td>\n",
       "      <td>c</td>\n",
       "    </tr>\n",
       "    <tr>\n",
       "      <th>3</th>\n",
       "      <td>3</td>\n",
       "      <td>d</td>\n",
       "    </tr>\n",
       "    <tr>\n",
       "      <th>4</th>\n",
       "      <td>4</td>\n",
       "      <td>e</td>\n",
       "    </tr>\n",
       "  </tbody>\n",
       "</table>\n",
       "</div>"
      ],
      "text/plain": [
       "   0  1\n",
       "0  0  a\n",
       "1  1  b\n",
       "2  2  c\n",
       "3  3  d\n",
       "4  4  e"
      ]
     },
     "execution_count": 65,
     "metadata": {},
     "output_type": "execute_result"
    }
   ],
   "source": [
    "# 15. How to stack two series vertically and horizontally ?\n",
    "\n",
    "ser1 = pd.Series(range(5))\n",
    "ser2 = pd.Series(list('abcde'))\n",
    "\n",
    "pd.Series(np.hstack([ser1, ser2]))\n",
    "\n",
    "pd.DataFrame(np.vstack([ser1, ser2]))\n",
    "\n",
    "pd.concat([ser1,ser2])\n",
    "ser1._append(ser2)\n",
    "\n",
    "pd.concat([ser1,ser2], axis=1)"
   ]
  },
  {
   "cell_type": "code",
   "execution_count": 81,
   "id": "40cd114e",
   "metadata": {
    "ExecuteTime": {
     "end_time": "2024-12-18T13:31:18.952608Z",
     "start_time": "2024-12-18T13:31:18.947564Z"
    }
   },
   "outputs": [
    {
     "data": {
      "text/plain": [
       "[5, 4, 0, 8]"
      ]
     },
     "execution_count": 81,
     "metadata": {},
     "output_type": "execute_result"
    }
   ],
   "source": [
    "# 16. How to get the positions of items of series A in another series B?\n",
    "\n",
    "ser1 = pd.Series([10, 9, 6, 5, 3, 1, 12, 8, 13])\n",
    "ser2 = pd.Series([1, 3, 10, 13])\n",
    "\n",
    "[np.where(i == ser1)[0].tolist()[0] for i in ser2]"
   ]
  },
  {
   "cell_type": "code",
   "execution_count": 87,
   "id": "f42b77cc",
   "metadata": {
    "ExecuteTime": {
     "end_time": "2024-12-18T13:34:50.554356Z",
     "start_time": "2024-12-18T13:34:50.549617Z"
    }
   },
   "outputs": [
    {
     "data": {
      "text/plain": [
       "0.2612930408319788"
      ]
     },
     "execution_count": 87,
     "metadata": {},
     "output_type": "execute_result"
    }
   ],
   "source": [
    "# 17. How to compute the mean squared error on a truth and predicted series?\n",
    "\n",
    "truth = pd.Series(range(10))\n",
    "pred = pd.Series(range(10)) + np.random.random(10)\n",
    "\n",
    "np.mean((pred - truth)**2)"
   ]
  },
  {
   "cell_type": "code",
   "execution_count": 94,
   "id": "692d4029",
   "metadata": {
    "ExecuteTime": {
     "end_time": "2024-12-18T13:39:02.231313Z",
     "start_time": "2024-12-18T13:39:02.227134Z"
    }
   },
   "outputs": [
    {
     "data": {
      "text/plain": [
       "0     How\n",
       "1      To\n",
       "2    Kick\n",
       "3    Ass?\n",
       "dtype: object"
      ]
     },
     "execution_count": 94,
     "metadata": {},
     "output_type": "execute_result"
    }
   ],
   "source": [
    "# 18. How to convert the first character of each element in a series to uppercase?\n",
    "\n",
    "ser = pd.Series(['how', 'to', 'kick', 'ass?'])\n",
    "ser.map(str.capitalize)"
   ]
  },
  {
   "cell_type": "markdown",
   "id": "4223297d",
   "metadata": {},
   "source": [
    "`apply` works on a row / column basis of a DataFrame \\\n",
    "`applymap` works element-wise on a DataFrame \\\n",
    "`map` works element-wise on a Series"
   ]
  },
  {
   "cell_type": "code",
   "execution_count": 96,
   "id": "0fa4eeb0",
   "metadata": {
    "ExecuteTime": {
     "end_time": "2024-12-18T13:43:23.184055Z",
     "start_time": "2024-12-18T13:43:23.179586Z"
    }
   },
   "outputs": [
    {
     "data": {
      "text/plain": [
       "0    3\n",
       "1    2\n",
       "2    4\n",
       "3    4\n",
       "dtype: int64"
      ]
     },
     "execution_count": 96,
     "metadata": {},
     "output_type": "execute_result"
    }
   ],
   "source": [
    "# 19. How to calculate the number of characters in each word in a series?\n",
    "\n",
    "ser = pd.Series(['how', 'to', 'kick', 'ass?'])\n",
    "ser.apply(lambda x: len(x))"
   ]
  },
  {
   "cell_type": "code",
   "execution_count": 97,
   "id": "2c656ff6",
   "metadata": {
    "ExecuteTime": {
     "end_time": "2024-12-18T13:47:05.098067Z",
     "start_time": "2024-12-18T13:47:05.092081Z"
    }
   },
   "outputs": [
    {
     "data": {
      "text/plain": [
       "0    NaN\n",
       "1    2.0\n",
       "2    3.0\n",
       "3    4.0\n",
       "4    5.0\n",
       "5    6.0\n",
       "6    6.0\n",
       "7    8.0\n",
       "dtype: float64"
      ]
     },
     "execution_count": 97,
     "metadata": {},
     "output_type": "execute_result"
    }
   ],
   "source": [
    "# 20. How to compute difference of differences between consequtive numbers of a series?\n",
    "\n",
    "ser = pd.Series([1, 3, 6, 10, 15, 21, 27, 35])\n",
    "ser.diff()"
   ]
  },
  {
   "cell_type": "code",
   "execution_count": 114,
   "id": "df458e7b",
   "metadata": {
    "ExecuteTime": {
     "end_time": "2024-12-18T15:16:37.289255Z",
     "start_time": "2024-12-18T15:16:37.282715Z"
    }
   },
   "outputs": [
    {
     "data": {
      "text/plain": [
       "0   2010-01-01 00:00:00\n",
       "1   2011-02-02 00:00:00\n",
       "2   2012-03-03 00:00:00\n",
       "3   2013-04-04 00:00:00\n",
       "4   2014-05-05 00:00:00\n",
       "5   2015-06-06 12:20:00\n",
       "dtype: datetime64[ns]"
      ]
     },
     "execution_count": 114,
     "metadata": {},
     "output_type": "execute_result"
    },
    {
     "data": {
      "text/plain": [
       "0    2010-01-01\n",
       "1    2011-02-02\n",
       "2    2012-03-03\n",
       "3    2013-04-04\n",
       "4    2014-05-05\n",
       "5    2015-06-06\n",
       "dtype: object"
      ]
     },
     "execution_count": 114,
     "metadata": {},
     "output_type": "execute_result"
    }
   ],
   "source": [
    "# 21. How to convert a series of date-strings to a timeseries?\n",
    "\n",
    "ser = pd.Series(['01 Jan 2010', '02-02-2011', '20120303', '2013/04/04', '2014-05-05', '2015-06-06T12:20'])\n",
    "pd.to_datetime(ser, format='mixed')\n",
    "\n",
    "from dateutil.parser import parse\n",
    "ser.map(lambda x: parse(x)).dt.date"
   ]
  },
  {
   "cell_type": "code",
   "execution_count": 129,
   "id": "d09fc227",
   "metadata": {
    "ExecuteTime": {
     "end_time": "2024-12-18T15:32:38.017766Z",
     "start_time": "2024-12-18T15:32:38.011912Z"
    }
   },
   "outputs": [
    {
     "name": "stdout",
     "output_type": "stream",
     "text": [
      "Date: [1, 2, 3, 4, 5, 6]\n",
      "Week number: [53, 5, 9, 14, 19, 23]\n",
      "Day num of year: [1, 33, 63, 94, 125, 157]\n",
      "Day of week: ['Friday', 'Wednesday', 'Saturday', 'Thursday', 'Monday', 'Saturday']\n"
     ]
    }
   ],
   "source": [
    "# 22. How to get the day of month, week number, day of year and day of week from a series of date strings?\\\n",
    "\n",
    "def ddetailed(ser: pd.Series) -> dict:\n",
    "    ser = ser.map(lambda x: parse(x))\n",
    "    print('Date: {}\\nWeek number: {}\\nDay num of year: {}\\nDay of week: {}'.\n",
    "          format(ser.dt.day.tolist(),\n",
    "                 ser.dt.isocalendar().week.tolist(),\n",
    "                 ser.dt.dayofyear.tolist(),\n",
    "                 ser.dt.strftime('%A').tolist(),\n",
    "#                  ser.dt.weekday_name\n",
    "                 ))\n",
    "\n",
    "\n",
    "ddetailed(ser)"
   ]
  },
  {
   "cell_type": "code",
   "execution_count": 135,
   "id": "aff27c1c",
   "metadata": {
    "ExecuteTime": {
     "end_time": "2024-12-18T16:02:01.696785Z",
     "start_time": "2024-12-18T16:02:01.690988Z"
    }
   },
   "outputs": [
    {
     "data": {
      "text/plain": [
       "0   2010-01-04\n",
       "1   2011-02-04\n",
       "2   2012-03-04\n",
       "dtype: datetime64[ns]"
      ]
     },
     "execution_count": 135,
     "metadata": {},
     "output_type": "execute_result"
    }
   ],
   "source": [
    "# 23. How to convert year-month string to dates corresponding to the 4th day of the month?\n",
    "# 2010-01-04\n",
    "ser = pd.Series(['Jan 2010', 'Feb 2011', 'Mar 2012'])\n",
    "ser.map(lambda x: pd.to_datetime(parse(x).strftime('%Y-%m-04')))"
   ]
  },
  {
   "cell_type": "code",
   "execution_count": 145,
   "id": "65f4b7e9",
   "metadata": {
    "ExecuteTime": {
     "end_time": "2024-12-18T16:33:29.059422Z",
     "start_time": "2024-12-18T16:33:29.055466Z"
    }
   },
   "outputs": [
    {
     "data": {
      "text/plain": [
       "['Apple', 'Orange', 'Money']"
      ]
     },
     "execution_count": 145,
     "metadata": {},
     "output_type": "execute_result"
    }
   ],
   "source": [
    "# 24. How to filter words that contain atleast 2 vowels from a series?\n",
    "\n",
    "ser = pd.Series(['Apple', 'Orange', 'Plan', 'Python', 'Money'])\n",
    "\n",
    "vowels = 'aeiou'\n",
    "vowels = vowels+vowels.upper()\n",
    "lst_filt = []\n",
    "for n in ser:\n",
    "    count = 0\n",
    "    for i in vowels:\n",
    "        if i in n:\n",
    "            count += 1\n",
    "    if count >= 2:\n",
    "        lst_filt.append(n)\n",
    "\n",
    "lst_filt"
   ]
  },
  {
   "cell_type": "code",
   "execution_count": 148,
   "id": "83737e90",
   "metadata": {
    "ExecuteTime": {
     "end_time": "2024-12-18T16:48:19.105554Z",
     "start_time": "2024-12-18T16:48:19.100336Z"
    }
   },
   "outputs": [
    {
     "data": {
      "text/plain": [
       "0     Apple\n",
       "1    Orange\n",
       "4     Money\n",
       "dtype: object"
      ]
     },
     "execution_count": 148,
     "metadata": {},
     "output_type": "execute_result"
    }
   ],
   "source": [
    "# alternative solution\n",
    "# \n",
    "\n",
    "from collections import Counter  # Counter is dict, dict.get(i, value -optional if key does not exist)\n",
    "\n",
    "mask = ser.map(lambda x: sum(Counter(x.lower()).get(i,0) for i in 'aeiou') >= 2 )\n",
    "ser[mask]"
   ]
  },
  {
   "cell_type": "code",
   "execution_count": 151,
   "id": "cdb1c0bb",
   "metadata": {
    "ExecuteTime": {
     "end_time": "2024-12-18T17:01:46.724415Z",
     "start_time": "2024-12-18T17:01:46.719387Z"
    }
   },
   "outputs": [
    {
     "data": {
      "text/plain": [
       "1    rameses@egypt.com\n",
       "2            matt@t.co\n",
       "3    narendra@modi.com\n",
       "dtype: object"
      ]
     },
     "execution_count": 151,
     "metadata": {},
     "output_type": "execute_result"
    }
   ],
   "source": [
    "# 25. How to filter valid emails from a series?\n",
    "\n",
    "emails = pd.Series(['buying books at amazom.com', 'rameses@egypt.com', 'matt@t.co', 'narendra@modi.com'])\n",
    "pattern ='[A-Za-z0-9._%+-]+@[A-Za-z0-9.-]+\\\\.[A-Za-z]{2,4}'\n",
    "\n",
    "import re\n",
    "\n",
    "mask = emails.map(lambda x: bool(re.match(pattern, x)))\n",
    "emails[mask]"
   ]
  },
  {
   "cell_type": "code",
   "execution_count": 161,
   "id": "8eda2c93",
   "metadata": {
    "ExecuteTime": {
     "end_time": "2024-12-18T17:11:52.258422Z",
     "start_time": "2024-12-18T17:11:52.250430Z"
    }
   },
   "outputs": [
    {
     "data": {
      "text/html": [
       "<div>\n",
       "<style scoped>\n",
       "    .dataframe tbody tr th:only-of-type {\n",
       "        vertical-align: middle;\n",
       "    }\n",
       "\n",
       "    .dataframe tbody tr th {\n",
       "        vertical-align: top;\n",
       "    }\n",
       "\n",
       "    .dataframe thead th {\n",
       "        text-align: right;\n",
       "    }\n",
       "</style>\n",
       "<table border=\"1\" class=\"dataframe\">\n",
       "  <thead>\n",
       "    <tr style=\"text-align: right;\">\n",
       "      <th></th>\n",
       "      <th>fruit</th>\n",
       "      <th>weight</th>\n",
       "    </tr>\n",
       "  </thead>\n",
       "  <tbody>\n",
       "    <tr>\n",
       "      <th>0</th>\n",
       "      <td>apple</td>\n",
       "      <td>6.20</td>\n",
       "    </tr>\n",
       "    <tr>\n",
       "      <th>1</th>\n",
       "      <td>banana</td>\n",
       "      <td>3.75</td>\n",
       "    </tr>\n",
       "    <tr>\n",
       "      <th>2</th>\n",
       "      <td>carrot</td>\n",
       "      <td>9.00</td>\n",
       "    </tr>\n",
       "  </tbody>\n",
       "</table>\n",
       "</div>"
      ],
      "text/plain": [
       "    fruit  weight\n",
       "0   apple    6.20\n",
       "1  banana    3.75\n",
       "2  carrot    9.00"
      ]
     },
     "execution_count": 161,
     "metadata": {},
     "output_type": "execute_result"
    }
   ],
   "source": [
    "# 26. How to get the mean of a series grouped by another series?\n",
    "\n",
    "fruit = pd.Series(np.random.choice(['apple', 'banana', 'carrot'], 10))\n",
    "weights = pd.Series(np.linspace(1, 10, 10))\n",
    "\n",
    "pd.concat([fruit.rename('fruit'), weights.rename('weight')], axis=1)\\\n",
    ".groupby('fruit', as_index=False).agg({'weight':'mean'})"
   ]
  },
  {
   "cell_type": "code",
   "execution_count": 162,
   "id": "650f2c72",
   "metadata": {
    "ExecuteTime": {
     "end_time": "2024-12-18T17:12:43.367710Z",
     "start_time": "2024-12-18T17:12:43.362839Z"
    }
   },
   "outputs": [
    {
     "data": {
      "text/plain": [
       "apple     6.20\n",
       "banana    3.75\n",
       "carrot    9.00\n",
       "dtype: float64"
      ]
     },
     "execution_count": 162,
     "metadata": {},
     "output_type": "execute_result"
    }
   ],
   "source": [
    "weights.groupby(fruit).mean()"
   ]
  },
  {
   "cell_type": "code",
   "execution_count": 163,
   "id": "9080b252",
   "metadata": {
    "ExecuteTime": {
     "end_time": "2024-12-18T17:13:49.195555Z",
     "start_time": "2024-12-18T17:13:49.191999Z"
    }
   },
   "outputs": [
    {
     "data": {
      "text/plain": [
       "18.16590212458495"
      ]
     },
     "execution_count": 163,
     "metadata": {},
     "output_type": "execute_result"
    }
   ],
   "source": [
    "# 27. How to compute the euclidean distance between two series?\n",
    "\n",
    "p = pd.Series([1, 2, 3, 4, 5, 6, 7, 8, 9, 10])\n",
    "q = pd.Series([10, 9, 8, 7, 6, 5, 4, 3, 2, 1])\n",
    "\n",
    "sum((p - q)**2)**.5"
   ]
  },
  {
   "cell_type": "code",
   "execution_count": 173,
   "id": "d4af4e2d",
   "metadata": {
    "ExecuteTime": {
     "end_time": "2024-12-18T17:44:20.205225Z",
     "start_time": "2024-12-18T17:44:20.200136Z"
    }
   },
   "outputs": [
    {
     "data": {
      "text/plain": [
       "[1, 5, 7]"
      ]
     },
     "execution_count": 173,
     "metadata": {},
     "output_type": "execute_result"
    }
   ],
   "source": [
    "# 28. How to find all the local maxima (or peaks) in a numeric series?\n",
    "# Get the positions of peaks (values surrounded by smaller values on both sides)\n",
    "\n",
    "ser = pd.Series([2, 10, 3, 4, 9, 10, 2, 7, 3])\n",
    "\n",
    "lst_peaks = []\n",
    "for ix,i in enumerate(ser[1:]):\n",
    "    if (ser.iloc[ix-1] < ser.iloc[ix]) & (ser.iloc[ix+1] < ser.iloc[ix]):\n",
    "        lst_peaks.append(ix)\n",
    "lst_peaks"
   ]
  },
  {
   "cell_type": "code",
   "execution_count": 205,
   "id": "e66ea15c",
   "metadata": {
    "ExecuteTime": {
     "end_time": "2024-12-18T18:15:47.609291Z",
     "start_time": "2024-12-18T18:15:47.605405Z"
    }
   },
   "outputs": [
    {
     "data": {
      "text/plain": [
       "array([1, 5, 7], dtype=int64)"
      ]
     },
     "execution_count": 205,
     "metadata": {},
     "output_type": "execute_result"
    }
   ],
   "source": [
    "dd = np.diff(np.sign(np.diff(ser)))\n",
    "peak_locs = np.where(dd == -2)[0] + 1\n",
    "peak_locs"
   ]
  },
  {
   "cell_type": "code",
   "execution_count": 212,
   "id": "fab6b831",
   "metadata": {
    "ExecuteTime": {
     "end_time": "2024-12-18T18:20:53.341047Z",
     "start_time": "2024-12-18T18:20:53.337659Z"
    }
   },
   "outputs": [
    {
     "data": {
      "text/plain": [
       "'dbcdebabedgade'"
      ]
     },
     "execution_count": 212,
     "metadata": {},
     "output_type": "execute_result"
    }
   ],
   "source": [
    "# <!-- 29. How to replace missing spaces in a string with the least frequent character? -->\n",
    "# Replace the spaces in my_str with the least frequent character.\n",
    "\n",
    "my_str = 'dbc deb abed gade'\n",
    "my_str.replace(' ', ''.format(Counter(my_str).most_common()[-1][0]))"
   ]
  },
  {
   "cell_type": "code",
   "execution_count": 231,
   "id": "b35424d4",
   "metadata": {
    "ExecuteTime": {
     "end_time": "2024-12-18T18:56:07.044353Z",
     "start_time": "2024-12-18T18:56:07.039359Z"
    }
   },
   "outputs": [
    {
     "data": {
      "text/plain": [
       "2000-01-01    9\n",
       "2000-01-08    8\n",
       "2000-01-15    5\n",
       "2000-01-22    5\n",
       "2000-01-29    1\n",
       "2000-02-05    7\n",
       "2000-02-12    3\n",
       "2000-02-19    6\n",
       "2000-02-26    7\n",
       "2000-03-04    3\n",
       "Freq: W-SAT, dtype: int32"
      ]
     },
     "execution_count": 231,
     "metadata": {},
     "output_type": "execute_result"
    }
   ],
   "source": [
    "# 30. How to create a TimeSeries starting ‘2000-01-01’ and 10 weekends (saturdays) after that having random numbers as values?\n",
    "\n",
    "d = pd.date_range(pd.to_datetime('2000-01-01'),\n",
    "#              pd.to_datetime('2000-01-01') + datetime.timedelta(weeks=10),\n",
    "                periods=10,\n",
    "         freq='W-SAT')\n",
    "pd.Series(np.random.randint(1,10,len(d)), index=d)"
   ]
  },
  {
   "cell_type": "code",
   "execution_count": 232,
   "id": "101f8a64",
   "metadata": {
    "ExecuteTime": {
     "end_time": "2024-12-18T18:57:20.280751Z",
     "start_time": "2024-12-18T18:57:20.275861Z"
    }
   },
   "outputs": [
    {
     "data": {
      "text/plain": [
       "2000-01-01     1.0\n",
       "2000-01-03    10.0\n",
       "2000-01-06     3.0\n",
       "2000-01-08     NaN\n",
       "dtype: float64"
      ]
     },
     "execution_count": 232,
     "metadata": {},
     "output_type": "execute_result"
    }
   ],
   "source": [
    "# 31. How to fill an intermittent time series so all missing dates show up with values of previous non-missing date?\n",
    "\n",
    "ser = pd.Series([1,10,3,np.nan], index=pd.to_datetime(['2000-01-01', '2000-01-03', '2000-01-06', '2000-01-08']))\n",
    "ser"
   ]
  },
  {
   "cell_type": "code",
   "execution_count": 236,
   "id": "1b58668c",
   "metadata": {
    "ExecuteTime": {
     "end_time": "2024-12-18T19:05:02.325946Z",
     "start_time": "2024-12-18T19:05:02.320595Z"
    }
   },
   "outputs": [
    {
     "data": {
      "text/plain": [
       "2000-01-01     1.0\n",
       "2000-01-02     1.0\n",
       "2000-01-03    10.0\n",
       "2000-01-04    10.0\n",
       "2000-01-05    10.0\n",
       "2000-01-06     3.0\n",
       "2000-01-07     3.0\n",
       "2000-01-08     NaN\n",
       "Freq: D, dtype: float64"
      ]
     },
     "execution_count": 236,
     "metadata": {},
     "output_type": "execute_result"
    }
   ],
   "source": [
    "ser.resample('D').ffill()"
   ]
  },
  {
   "cell_type": "markdown",
   "id": "975c270e",
   "metadata": {},
   "source": [
    "Вспомним, какие вообще типы данных есть в Python:\n",
    "\n",
    "* Числа\n",
    "* Строки \"\"\n",
    "* Списки []\n",
    "* Словари {}\n",
    "* Сеты/множества set()\n",
    "* Кортежи/tuples ()\n",
    "\n",
    "Изменяемые: [], {}, set() - изменения на месте"
   ]
  },
  {
   "cell_type": "code",
   "execution_count": 243,
   "id": "6e8f0daa",
   "metadata": {
    "ExecuteTime": {
     "end_time": "2024-12-18T19:44:57.662071Z",
     "start_time": "2024-12-18T19:44:57.656841Z"
    }
   },
   "outputs": [
    {
     "data": {
      "text/plain": [
       "3"
      ]
     },
     "execution_count": 243,
     "metadata": {},
     "output_type": "execute_result"
    },
    {
     "data": {
      "text/plain": [
       "'spam'"
      ]
     },
     "execution_count": 243,
     "metadata": {},
     "output_type": "execute_result"
    },
    {
     "data": {
      "text/plain": [
       "[24, 3, 4]"
      ]
     },
     "execution_count": 243,
     "metadata": {},
     "output_type": "execute_result"
    }
   ],
   "source": [
    "# динамическая типизация\n",
    "a = 3\n",
    "b = a\n",
    "a = 'spam'\n",
    "\n",
    "b\n",
    "a\n",
    "\n",
    "L1 = [2,3,4]\n",
    "L2 = L1\n",
    "L1[0] = 24\n",
    "L2\n",
    "\n",
    "#  L1 и L2 ссылаются на один объект"
   ]
  },
  {
   "cell_type": "code",
   "execution_count": 250,
   "id": "11c22a23",
   "metadata": {
    "ExecuteTime": {
     "end_time": "2024-12-18T20:14:37.191350Z",
     "start_time": "2024-12-18T20:14:37.187846Z"
    }
   },
   "outputs": [],
   "source": [
    "# instead of resample, we have to use generators\n",
    "\n",
    "def generate_row(year, month, day):\n",
    "    while True:\n",
    "        date = datetime.datetime(year=year, month=month, day=day)\n",
    "        data = np.random.random(size=4)\n",
    "        yield [date] + list(data)\n",
    "\n",
    "# days I have data for\n",
    "dates = [(2000, 1, 1), (2000, 1, 2), (2000, 2, 4)]\n",
    "generators = [generate_row(*date) for date in dates]\n",
    "\n",
    "# get 5 points for each\n",
    "data = [next(generator) for generator in generators for _ in range(5)]"
   ]
  },
  {
   "cell_type": "code",
   "execution_count": 258,
   "id": "9c019b7e",
   "metadata": {
    "ExecuteTime": {
     "end_time": "2024-12-18T20:20:24.381740Z",
     "start_time": "2024-12-18T20:20:24.373504Z"
    },
    "scrolled": true
   },
   "outputs": [
    {
     "data": {
      "text/plain": [
       "[1.0,\n",
       " 0.43212693280200176,\n",
       " 0.3566020149468656,\n",
       " 0.21395781227336172,\n",
       " 0.04356241565994842,\n",
       " 0.6408864039435191,\n",
       " 0.07924393475731849,\n",
       " 0.2785279375685968,\n",
       " 0.4009156390996454,\n",
       " -0.11319734653675866,\n",
       " 0.589246154247951]"
      ]
     },
     "execution_count": 258,
     "metadata": {},
     "output_type": "execute_result"
    }
   ],
   "source": [
    "# 32. How to compute the autocorrelations of a numeric series?\n",
    "\n",
    "ser = pd.Series(np.arange(20) + np.random.normal(1, 10, 20))\n",
    "[ser.autocorr(i) for i in range(11)]"
   ]
  },
  {
   "cell_type": "code",
   "execution_count": 276,
   "id": "c17be20d",
   "metadata": {
    "ExecuteTime": {
     "end_time": "2024-12-18T20:35:02.043419Z",
     "start_time": "2024-12-18T20:35:01.895008Z"
    }
   },
   "outputs": [
    {
     "data": {
      "text/html": [
       "<div>\n",
       "<style scoped>\n",
       "    .dataframe tbody tr th:only-of-type {\n",
       "        vertical-align: middle;\n",
       "    }\n",
       "\n",
       "    .dataframe tbody tr th {\n",
       "        vertical-align: top;\n",
       "    }\n",
       "\n",
       "    .dataframe thead th {\n",
       "        text-align: right;\n",
       "    }\n",
       "</style>\n",
       "<table border=\"1\" class=\"dataframe\">\n",
       "  <thead>\n",
       "    <tr style=\"text-align: right;\">\n",
       "      <th></th>\n",
       "      <th>crim</th>\n",
       "      <th>zn</th>\n",
       "      <th>indus</th>\n",
       "      <th>chas</th>\n",
       "      <th>nox</th>\n",
       "      <th>rm</th>\n",
       "      <th>age</th>\n",
       "      <th>dis</th>\n",
       "      <th>rad</th>\n",
       "      <th>tax</th>\n",
       "      <th>ptratio</th>\n",
       "      <th>b</th>\n",
       "      <th>lstat</th>\n",
       "      <th>medv</th>\n",
       "    </tr>\n",
       "  </thead>\n",
       "  <tbody>\n",
       "    <tr>\n",
       "      <th>0</th>\n",
       "      <td>0.21977</td>\n",
       "      <td>0</td>\n",
       "      <td>6.91</td>\n",
       "      <td>0</td>\n",
       "      <td>0.448</td>\n",
       "      <td>5.602</td>\n",
       "      <td>62.0</td>\n",
       "      <td>6.0877</td>\n",
       "      <td>3</td>\n",
       "      <td>233</td>\n",
       "      <td>17.9</td>\n",
       "      <td>396.90</td>\n",
       "      <td>16.20</td>\n",
       "      <td>19.4</td>\n",
       "    </tr>\n",
       "    <tr>\n",
       "      <th>1</th>\n",
       "      <td>0.06860</td>\n",
       "      <td>0</td>\n",
       "      <td>2.89</td>\n",
       "      <td>0</td>\n",
       "      <td>0.445</td>\n",
       "      <td>7.416</td>\n",
       "      <td>62.5</td>\n",
       "      <td>3.4952</td>\n",
       "      <td>2</td>\n",
       "      <td>276</td>\n",
       "      <td>18.0</td>\n",
       "      <td>396.90</td>\n",
       "      <td>6.19</td>\n",
       "      <td>33.2</td>\n",
       "    </tr>\n",
       "    <tr>\n",
       "      <th>2</th>\n",
       "      <td>2.73397</td>\n",
       "      <td>0</td>\n",
       "      <td>19.58</td>\n",
       "      <td>0</td>\n",
       "      <td>0.871</td>\n",
       "      <td>5.597</td>\n",
       "      <td>94.9</td>\n",
       "      <td>1.5257</td>\n",
       "      <td>5</td>\n",
       "      <td>403</td>\n",
       "      <td>14.7</td>\n",
       "      <td>351.85</td>\n",
       "      <td>21.45</td>\n",
       "      <td>15.4</td>\n",
       "    </tr>\n",
       "    <tr>\n",
       "      <th>3</th>\n",
       "      <td>0.03150</td>\n",
       "      <td>95</td>\n",
       "      <td>1.47</td>\n",
       "      <td>0</td>\n",
       "      <td>0.403</td>\n",
       "      <td>6.975</td>\n",
       "      <td>15.3</td>\n",
       "      <td>7.6534</td>\n",
       "      <td>3</td>\n",
       "      <td>402</td>\n",
       "      <td>17.0</td>\n",
       "      <td>396.90</td>\n",
       "      <td>4.56</td>\n",
       "      <td>34.9</td>\n",
       "    </tr>\n",
       "    <tr>\n",
       "      <th>4</th>\n",
       "      <td>0.19073</td>\n",
       "      <td>22</td>\n",
       "      <td>5.86</td>\n",
       "      <td>0</td>\n",
       "      <td>0.431</td>\n",
       "      <td>6.718</td>\n",
       "      <td>17.5</td>\n",
       "      <td>7.8265</td>\n",
       "      <td>7</td>\n",
       "      <td>330</td>\n",
       "      <td>19.1</td>\n",
       "      <td>393.74</td>\n",
       "      <td>6.56</td>\n",
       "      <td>26.2</td>\n",
       "    </tr>\n",
       "    <tr>\n",
       "      <th>5</th>\n",
       "      <td>0.05561</td>\n",
       "      <td>70</td>\n",
       "      <td>2.24</td>\n",
       "      <td>0</td>\n",
       "      <td>0.400</td>\n",
       "      <td>7.041</td>\n",
       "      <td>10.0</td>\n",
       "      <td>7.8278</td>\n",
       "      <td>5</td>\n",
       "      <td>358</td>\n",
       "      <td>14.8</td>\n",
       "      <td>371.58</td>\n",
       "      <td>4.74</td>\n",
       "      <td>29.0</td>\n",
       "    </tr>\n",
       "    <tr>\n",
       "      <th>6</th>\n",
       "      <td>0.02899</td>\n",
       "      <td>40</td>\n",
       "      <td>1.25</td>\n",
       "      <td>0</td>\n",
       "      <td>0.429</td>\n",
       "      <td>6.939</td>\n",
       "      <td>34.5</td>\n",
       "      <td>8.7921</td>\n",
       "      <td>1</td>\n",
       "      <td>335</td>\n",
       "      <td>19.7</td>\n",
       "      <td>389.85</td>\n",
       "      <td>5.89</td>\n",
       "      <td>26.6</td>\n",
       "    </tr>\n",
       "    <tr>\n",
       "      <th>7</th>\n",
       "      <td>9.91655</td>\n",
       "      <td>0</td>\n",
       "      <td>18.10</td>\n",
       "      <td>0</td>\n",
       "      <td>0.693</td>\n",
       "      <td>5.852</td>\n",
       "      <td>77.8</td>\n",
       "      <td>1.5004</td>\n",
       "      <td>24</td>\n",
       "      <td>666</td>\n",
       "      <td>20.2</td>\n",
       "      <td>338.16</td>\n",
       "      <td>29.97</td>\n",
       "      <td>6.3</td>\n",
       "    </tr>\n",
       "    <tr>\n",
       "      <th>8</th>\n",
       "      <td>7.52601</td>\n",
       "      <td>0</td>\n",
       "      <td>18.10</td>\n",
       "      <td>0</td>\n",
       "      <td>0.713</td>\n",
       "      <td>6.417</td>\n",
       "      <td>98.3</td>\n",
       "      <td>2.1850</td>\n",
       "      <td>24</td>\n",
       "      <td>666</td>\n",
       "      <td>20.2</td>\n",
       "      <td>304.21</td>\n",
       "      <td>19.31</td>\n",
       "      <td>13.0</td>\n",
       "    </tr>\n",
       "    <tr>\n",
       "      <th>9</th>\n",
       "      <td>0.17783</td>\n",
       "      <td>0</td>\n",
       "      <td>9.69</td>\n",
       "      <td>0</td>\n",
       "      <td>0.585</td>\n",
       "      <td>5.569</td>\n",
       "      <td>73.5</td>\n",
       "      <td>2.3999</td>\n",
       "      <td>6</td>\n",
       "      <td>391</td>\n",
       "      <td>19.2</td>\n",
       "      <td>395.77</td>\n",
       "      <td>15.10</td>\n",
       "      <td>17.5</td>\n",
       "    </tr>\n",
       "  </tbody>\n",
       "</table>\n",
       "</div>"
      ],
      "text/plain": [
       "      crim  zn  indus  chas    nox     rm   age     dis  rad  tax  ptratio  \\\n",
       "0  0.21977   0   6.91     0  0.448  5.602  62.0  6.0877    3  233     17.9   \n",
       "1  0.06860   0   2.89     0  0.445  7.416  62.5  3.4952    2  276     18.0   \n",
       "2  2.73397   0  19.58     0  0.871  5.597  94.9  1.5257    5  403     14.7   \n",
       "3  0.03150  95   1.47     0  0.403  6.975  15.3  7.6534    3  402     17.0   \n",
       "4  0.19073  22   5.86     0  0.431  6.718  17.5  7.8265    7  330     19.1   \n",
       "5  0.05561  70   2.24     0  0.400  7.041  10.0  7.8278    5  358     14.8   \n",
       "6  0.02899  40   1.25     0  0.429  6.939  34.5  8.7921    1  335     19.7   \n",
       "7  9.91655   0  18.10     0  0.693  5.852  77.8  1.5004   24  666     20.2   \n",
       "8  7.52601   0  18.10     0  0.713  6.417  98.3  2.1850   24  666     20.2   \n",
       "9  0.17783   0   9.69     0  0.585  5.569  73.5  2.3999    6  391     19.2   \n",
       "\n",
       "        b  lstat  medv  \n",
       "0  396.90  16.20  19.4  \n",
       "1  396.90   6.19  33.2  \n",
       "2  351.85  21.45  15.4  \n",
       "3  396.90   4.56  34.9  \n",
       "4  393.74   6.56  26.2  \n",
       "5  371.58   4.74  29.0  \n",
       "6  389.85   5.89  26.6  \n",
       "7  338.16  29.97   6.3  \n",
       "8  304.21  19.31  13.0  \n",
       "9  395.77  15.10  17.5  "
      ]
     },
     "execution_count": 276,
     "metadata": {},
     "output_type": "execute_result"
    }
   ],
   "source": [
    "# 33. How to import only every nth row from a csv file to create a dataframe?\n",
    "\n",
    "df = pd.read_csv('https://raw.githubusercontent.com/selva86/datasets/master/BostonHousing.csv',\n",
    "                 skiprows=lambda x: x % 50 != 0  # skip all lines which are not divisible\n",
    "                )\n",
    "df"
   ]
  },
  {
   "cell_type": "code",
   "execution_count": 286,
   "id": "4fad593a",
   "metadata": {
    "ExecuteTime": {
     "end_time": "2024-12-18T20:47:50.931362Z",
     "start_time": "2024-12-18T20:47:50.782336Z"
    }
   },
   "outputs": [
    {
     "data": {
      "text/html": [
       "<div>\n",
       "<style scoped>\n",
       "    .dataframe tbody tr th:only-of-type {\n",
       "        vertical-align: middle;\n",
       "    }\n",
       "\n",
       "    .dataframe tbody tr th {\n",
       "        vertical-align: top;\n",
       "    }\n",
       "\n",
       "    .dataframe thead th {\n",
       "        text-align: right;\n",
       "    }\n",
       "</style>\n",
       "<table border=\"1\" class=\"dataframe\">\n",
       "  <thead>\n",
       "    <tr style=\"text-align: right;\">\n",
       "      <th></th>\n",
       "      <th>crim</th>\n",
       "      <th>zn</th>\n",
       "      <th>indus</th>\n",
       "      <th>chas</th>\n",
       "      <th>nox</th>\n",
       "      <th>rm</th>\n",
       "      <th>age</th>\n",
       "      <th>dis</th>\n",
       "      <th>rad</th>\n",
       "      <th>tax</th>\n",
       "      <th>ptratio</th>\n",
       "      <th>b</th>\n",
       "      <th>lstat</th>\n",
       "      <th>medv</th>\n",
       "    </tr>\n",
       "  </thead>\n",
       "  <tbody>\n",
       "    <tr>\n",
       "      <th>0</th>\n",
       "      <td>0.00632</td>\n",
       "      <td>18.0</td>\n",
       "      <td>2.31</td>\n",
       "      <td>0</td>\n",
       "      <td>0.538</td>\n",
       "      <td>6.575</td>\n",
       "      <td>65.2</td>\n",
       "      <td>4.0900</td>\n",
       "      <td>1</td>\n",
       "      <td>296</td>\n",
       "      <td>15.3</td>\n",
       "      <td>396.90</td>\n",
       "      <td>4.98</td>\n",
       "      <td>Low</td>\n",
       "    </tr>\n",
       "    <tr>\n",
       "      <th>1</th>\n",
       "      <td>0.02731</td>\n",
       "      <td>0.0</td>\n",
       "      <td>7.07</td>\n",
       "      <td>0</td>\n",
       "      <td>0.469</td>\n",
       "      <td>6.421</td>\n",
       "      <td>78.9</td>\n",
       "      <td>4.9671</td>\n",
       "      <td>2</td>\n",
       "      <td>242</td>\n",
       "      <td>17.8</td>\n",
       "      <td>396.90</td>\n",
       "      <td>9.14</td>\n",
       "      <td>Low</td>\n",
       "    </tr>\n",
       "    <tr>\n",
       "      <th>2</th>\n",
       "      <td>0.02729</td>\n",
       "      <td>0.0</td>\n",
       "      <td>7.07</td>\n",
       "      <td>0</td>\n",
       "      <td>0.469</td>\n",
       "      <td>7.185</td>\n",
       "      <td>61.1</td>\n",
       "      <td>4.9671</td>\n",
       "      <td>2</td>\n",
       "      <td>242</td>\n",
       "      <td>17.8</td>\n",
       "      <td>392.83</td>\n",
       "      <td>4.03</td>\n",
       "      <td>High</td>\n",
       "    </tr>\n",
       "    <tr>\n",
       "      <th>3</th>\n",
       "      <td>0.03237</td>\n",
       "      <td>0.0</td>\n",
       "      <td>2.18</td>\n",
       "      <td>0</td>\n",
       "      <td>0.458</td>\n",
       "      <td>6.998</td>\n",
       "      <td>45.8</td>\n",
       "      <td>6.0622</td>\n",
       "      <td>3</td>\n",
       "      <td>222</td>\n",
       "      <td>18.7</td>\n",
       "      <td>394.63</td>\n",
       "      <td>2.94</td>\n",
       "      <td>High</td>\n",
       "    </tr>\n",
       "    <tr>\n",
       "      <th>4</th>\n",
       "      <td>0.06905</td>\n",
       "      <td>0.0</td>\n",
       "      <td>2.18</td>\n",
       "      <td>0</td>\n",
       "      <td>0.458</td>\n",
       "      <td>7.147</td>\n",
       "      <td>54.2</td>\n",
       "      <td>6.0622</td>\n",
       "      <td>3</td>\n",
       "      <td>222</td>\n",
       "      <td>18.7</td>\n",
       "      <td>396.90</td>\n",
       "      <td>5.33</td>\n",
       "      <td>High</td>\n",
       "    </tr>\n",
       "    <tr>\n",
       "      <th>...</th>\n",
       "      <td>...</td>\n",
       "      <td>...</td>\n",
       "      <td>...</td>\n",
       "      <td>...</td>\n",
       "      <td>...</td>\n",
       "      <td>...</td>\n",
       "      <td>...</td>\n",
       "      <td>...</td>\n",
       "      <td>...</td>\n",
       "      <td>...</td>\n",
       "      <td>...</td>\n",
       "      <td>...</td>\n",
       "      <td>...</td>\n",
       "      <td>...</td>\n",
       "    </tr>\n",
       "    <tr>\n",
       "      <th>501</th>\n",
       "      <td>0.06263</td>\n",
       "      <td>0.0</td>\n",
       "      <td>11.93</td>\n",
       "      <td>0</td>\n",
       "      <td>0.573</td>\n",
       "      <td>6.593</td>\n",
       "      <td>69.1</td>\n",
       "      <td>2.4786</td>\n",
       "      <td>1</td>\n",
       "      <td>273</td>\n",
       "      <td>21.0</td>\n",
       "      <td>391.99</td>\n",
       "      <td>9.67</td>\n",
       "      <td>Low</td>\n",
       "    </tr>\n",
       "    <tr>\n",
       "      <th>502</th>\n",
       "      <td>0.04527</td>\n",
       "      <td>0.0</td>\n",
       "      <td>11.93</td>\n",
       "      <td>0</td>\n",
       "      <td>0.573</td>\n",
       "      <td>6.120</td>\n",
       "      <td>76.7</td>\n",
       "      <td>2.2875</td>\n",
       "      <td>1</td>\n",
       "      <td>273</td>\n",
       "      <td>21.0</td>\n",
       "      <td>396.90</td>\n",
       "      <td>9.08</td>\n",
       "      <td>Low</td>\n",
       "    </tr>\n",
       "    <tr>\n",
       "      <th>503</th>\n",
       "      <td>0.06076</td>\n",
       "      <td>0.0</td>\n",
       "      <td>11.93</td>\n",
       "      <td>0</td>\n",
       "      <td>0.573</td>\n",
       "      <td>6.976</td>\n",
       "      <td>91.0</td>\n",
       "      <td>2.1675</td>\n",
       "      <td>1</td>\n",
       "      <td>273</td>\n",
       "      <td>21.0</td>\n",
       "      <td>396.90</td>\n",
       "      <td>5.64</td>\n",
       "      <td>Low</td>\n",
       "    </tr>\n",
       "    <tr>\n",
       "      <th>504</th>\n",
       "      <td>0.10959</td>\n",
       "      <td>0.0</td>\n",
       "      <td>11.93</td>\n",
       "      <td>0</td>\n",
       "      <td>0.573</td>\n",
       "      <td>6.794</td>\n",
       "      <td>89.3</td>\n",
       "      <td>2.3889</td>\n",
       "      <td>1</td>\n",
       "      <td>273</td>\n",
       "      <td>21.0</td>\n",
       "      <td>393.45</td>\n",
       "      <td>6.48</td>\n",
       "      <td>Low</td>\n",
       "    </tr>\n",
       "    <tr>\n",
       "      <th>505</th>\n",
       "      <td>0.04741</td>\n",
       "      <td>0.0</td>\n",
       "      <td>11.93</td>\n",
       "      <td>0</td>\n",
       "      <td>0.573</td>\n",
       "      <td>6.030</td>\n",
       "      <td>80.8</td>\n",
       "      <td>2.5050</td>\n",
       "      <td>1</td>\n",
       "      <td>273</td>\n",
       "      <td>21.0</td>\n",
       "      <td>396.90</td>\n",
       "      <td>7.88</td>\n",
       "      <td>Low</td>\n",
       "    </tr>\n",
       "  </tbody>\n",
       "</table>\n",
       "<p>506 rows × 14 columns</p>\n",
       "</div>"
      ],
      "text/plain": [
       "        crim    zn  indus  chas    nox     rm   age     dis  rad  tax  \\\n",
       "0    0.00632  18.0   2.31     0  0.538  6.575  65.2  4.0900    1  296   \n",
       "1    0.02731   0.0   7.07     0  0.469  6.421  78.9  4.9671    2  242   \n",
       "2    0.02729   0.0   7.07     0  0.469  7.185  61.1  4.9671    2  242   \n",
       "3    0.03237   0.0   2.18     0  0.458  6.998  45.8  6.0622    3  222   \n",
       "4    0.06905   0.0   2.18     0  0.458  7.147  54.2  6.0622    3  222   \n",
       "..       ...   ...    ...   ...    ...    ...   ...     ...  ...  ...   \n",
       "501  0.06263   0.0  11.93     0  0.573  6.593  69.1  2.4786    1  273   \n",
       "502  0.04527   0.0  11.93     0  0.573  6.120  76.7  2.2875    1  273   \n",
       "503  0.06076   0.0  11.93     0  0.573  6.976  91.0  2.1675    1  273   \n",
       "504  0.10959   0.0  11.93     0  0.573  6.794  89.3  2.3889    1  273   \n",
       "505  0.04741   0.0  11.93     0  0.573  6.030  80.8  2.5050    1  273   \n",
       "\n",
       "     ptratio       b  lstat  medv  \n",
       "0       15.3  396.90   4.98   Low  \n",
       "1       17.8  396.90   9.14   Low  \n",
       "2       17.8  392.83   4.03  High  \n",
       "3       18.7  394.63   2.94  High  \n",
       "4       18.7  396.90   5.33  High  \n",
       "..       ...     ...    ...   ...  \n",
       "501     21.0  391.99   9.67   Low  \n",
       "502     21.0  396.90   9.08   Low  \n",
       "503     21.0  396.90   5.64   Low  \n",
       "504     21.0  393.45   6.48   Low  \n",
       "505     21.0  396.90   7.88   Low  \n",
       "\n",
       "[506 rows x 14 columns]"
      ]
     },
     "execution_count": 286,
     "metadata": {},
     "output_type": "execute_result"
    }
   ],
   "source": [
    "# 34. How to change column values when importing csv to a dataframe?\n",
    "\n",
    "df = pd.read_csv('https://raw.githubusercontent.com/selva86/datasets/master/BostonHousing.csv',\n",
    "                converters={'medv': lambda x: 'Low' if float(x)<25 else 'High'})\n",
    "df"
   ]
  },
  {
   "cell_type": "code",
   "execution_count": 289,
   "id": "675d7502",
   "metadata": {
    "ExecuteTime": {
     "end_time": "2024-12-18T20:50:36.593747Z",
     "start_time": "2024-12-18T20:50:36.590465Z"
    }
   },
   "outputs": [],
   "source": [
    "# 35. How to create a dataframe with rows as strides from a given series?\n",
    "\n",
    "L = pd.Series(range(15))"
   ]
  },
  {
   "cell_type": "code",
   "execution_count": 294,
   "id": "26516990",
   "metadata": {
    "ExecuteTime": {
     "end_time": "2024-12-18T20:54:49.682969Z",
     "start_time": "2024-12-18T20:54:49.677813Z"
    }
   },
   "outputs": [
    {
     "data": {
      "text/plain": [
       "0      [0, 1, 2, 3]\n",
       "1      [4, 5, 6, 7]\n",
       "2    [8, 9, 10, 11]\n",
       "3      [12, 13, 14]\n",
       "dtype: object"
      ]
     },
     "execution_count": 294,
     "metadata": {},
     "output_type": "execute_result"
    }
   ],
   "source": [
    "def chunks(lst, n):\n",
    "    \"\"\"Yield successive n-sized chunks from lst.\"\"\"\n",
    "    for i in range(0, len(lst), n):\n",
    "        yield lst[i:i + n]\n",
    "\n",
    "pd.Series(list(chunks(L.tolist(), 4)))"
   ]
  },
  {
   "cell_type": "code",
   "execution_count": 304,
   "id": "a37baf93",
   "metadata": {
    "ExecuteTime": {
     "end_time": "2024-12-18T21:02:28.621794Z",
     "start_time": "2024-12-18T21:02:28.617742Z"
    }
   },
   "outputs": [
    {
     "data": {
      "text/plain": [
       "[[0, 1, 2, 3], [3, 4, 5, 6], [6, 7, 8, 9], [9, 10, 11, 12], [12, 13, 14]]"
      ]
     },
     "execution_count": 304,
     "metadata": {},
     "output_type": "execute_result"
    }
   ],
   "source": [
    "[L[i:i+4].tolist() for i in range(0, len(L), 3)]"
   ]
  },
  {
   "cell_type": "code",
   "execution_count": 307,
   "id": "5b4374fd",
   "metadata": {
    "ExecuteTime": {
     "end_time": "2024-12-19T09:54:50.145577Z",
     "start_time": "2024-12-19T09:54:50.001676Z"
    }
   },
   "outputs": [
    {
     "data": {
      "text/html": [
       "<div>\n",
       "<style scoped>\n",
       "    .dataframe tbody tr th:only-of-type {\n",
       "        vertical-align: middle;\n",
       "    }\n",
       "\n",
       "    .dataframe tbody tr th {\n",
       "        vertical-align: top;\n",
       "    }\n",
       "\n",
       "    .dataframe thead th {\n",
       "        text-align: right;\n",
       "    }\n",
       "</style>\n",
       "<table border=\"1\" class=\"dataframe\">\n",
       "  <thead>\n",
       "    <tr style=\"text-align: right;\">\n",
       "      <th></th>\n",
       "      <th>crim</th>\n",
       "      <th>medv</th>\n",
       "    </tr>\n",
       "  </thead>\n",
       "  <tbody>\n",
       "    <tr>\n",
       "      <th>0</th>\n",
       "      <td>0.00632</td>\n",
       "      <td>24.0</td>\n",
       "    </tr>\n",
       "    <tr>\n",
       "      <th>1</th>\n",
       "      <td>0.02731</td>\n",
       "      <td>21.6</td>\n",
       "    </tr>\n",
       "    <tr>\n",
       "      <th>2</th>\n",
       "      <td>0.02729</td>\n",
       "      <td>34.7</td>\n",
       "    </tr>\n",
       "    <tr>\n",
       "      <th>3</th>\n",
       "      <td>0.03237</td>\n",
       "      <td>33.4</td>\n",
       "    </tr>\n",
       "    <tr>\n",
       "      <th>4</th>\n",
       "      <td>0.06905</td>\n",
       "      <td>36.2</td>\n",
       "    </tr>\n",
       "    <tr>\n",
       "      <th>...</th>\n",
       "      <td>...</td>\n",
       "      <td>...</td>\n",
       "    </tr>\n",
       "    <tr>\n",
       "      <th>501</th>\n",
       "      <td>0.06263</td>\n",
       "      <td>22.4</td>\n",
       "    </tr>\n",
       "    <tr>\n",
       "      <th>502</th>\n",
       "      <td>0.04527</td>\n",
       "      <td>20.6</td>\n",
       "    </tr>\n",
       "    <tr>\n",
       "      <th>503</th>\n",
       "      <td>0.06076</td>\n",
       "      <td>23.9</td>\n",
       "    </tr>\n",
       "    <tr>\n",
       "      <th>504</th>\n",
       "      <td>0.10959</td>\n",
       "      <td>22.0</td>\n",
       "    </tr>\n",
       "    <tr>\n",
       "      <th>505</th>\n",
       "      <td>0.04741</td>\n",
       "      <td>11.9</td>\n",
       "    </tr>\n",
       "  </tbody>\n",
       "</table>\n",
       "<p>506 rows × 2 columns</p>\n",
       "</div>"
      ],
      "text/plain": [
       "        crim  medv\n",
       "0    0.00632  24.0\n",
       "1    0.02731  21.6\n",
       "2    0.02729  34.7\n",
       "3    0.03237  33.4\n",
       "4    0.06905  36.2\n",
       "..       ...   ...\n",
       "501  0.06263  22.4\n",
       "502  0.04527  20.6\n",
       "503  0.06076  23.9\n",
       "504  0.10959  22.0\n",
       "505  0.04741  11.9\n",
       "\n",
       "[506 rows x 2 columns]"
      ]
     },
     "execution_count": 307,
     "metadata": {},
     "output_type": "execute_result"
    }
   ],
   "source": [
    "# <!-- 36. How to import only specified columns from a csv file? -->\n",
    "\n",
    "pd.read_csv('https://raw.githubusercontent.com/selva86/datasets/master/BostonHousing.csv', usecols=['crim','medv'])"
   ]
  },
  {
   "cell_type": "code",
   "execution_count": 313,
   "id": "d641aac0",
   "metadata": {
    "ExecuteTime": {
     "end_time": "2024-12-19T10:00:45.069570Z",
     "start_time": "2024-12-19T10:00:44.934913Z"
    }
   },
   "outputs": [
    {
     "name": "stdout",
     "output_type": "stream",
     "text": [
      "<class 'pandas.core.frame.DataFrame'>\n",
      "RangeIndex: 93 entries, 0 to 92\n",
      "Data columns (total 27 columns):\n",
      " #   Column              Non-Null Count  Dtype  \n",
      "---  ------              --------------  -----  \n",
      " 0   Manufacturer        89 non-null     object \n",
      " 1   Model               92 non-null     object \n",
      " 2   Type                90 non-null     object \n",
      " 3   Min.Price           86 non-null     float64\n",
      " 4   Price               91 non-null     float64\n",
      " 5   Max.Price           88 non-null     float64\n",
      " 6   MPG.city            84 non-null     float64\n",
      " 7   MPG.highway         91 non-null     float64\n",
      " 8   AirBags             55 non-null     object \n",
      " 9   DriveTrain          86 non-null     object \n",
      " 10  Cylinders           88 non-null     object \n",
      " 11  EngineSize          91 non-null     float64\n",
      " 12  Horsepower          86 non-null     float64\n",
      " 13  RPM                 90 non-null     float64\n",
      " 14  Rev.per.mile        87 non-null     float64\n",
      " 15  Man.trans.avail     88 non-null     object \n",
      " 16  Fuel.tank.capacity  85 non-null     float64\n",
      " 17  Passengers          91 non-null     float64\n",
      " 18  Length              89 non-null     float64\n",
      " 19  Wheelbase           92 non-null     float64\n",
      " 20  Width               87 non-null     float64\n",
      " 21  Turn.circle         88 non-null     float64\n",
      " 22  Rear.seat.room      89 non-null     float64\n",
      " 23  Luggage.room        74 non-null     float64\n",
      " 24  Weight              86 non-null     float64\n",
      " 25  Origin              88 non-null     object \n",
      " 26  Make                90 non-null     object \n",
      "dtypes: float64(18), object(9)\n",
      "memory usage: 19.7+ KB\n"
     ]
    },
    {
     "data": {
      "text/plain": [
       "float64    18\n",
       "object      9\n",
       "Name: count, dtype: int64"
      ]
     },
     "execution_count": 313,
     "metadata": {},
     "output_type": "execute_result"
    }
   ],
   "source": [
    "# 37. How to get the nrows, ncolumns, datatype, summary stats of each column of a dataframe?\n",
    "# Also get the array and list equivalent.\n",
    "\n",
    "df = pd.read_csv('https://raw.githubusercontent.com/selva86/datasets/master/Cars93_miss.csv')\n",
    "df.info()\n",
    "df.dtypes.value_counts()\n",
    "# df.values.tolist()"
   ]
  },
  {
   "cell_type": "code",
   "execution_count": 323,
   "id": "b926bc27",
   "metadata": {
    "ExecuteTime": {
     "end_time": "2024-12-19T10:06:09.921034Z",
     "start_time": "2024-12-19T10:06:09.912408Z"
    }
   },
   "outputs": [
    {
     "data": {
      "text/html": [
       "<div>\n",
       "<style scoped>\n",
       "    .dataframe tbody tr th:only-of-type {\n",
       "        vertical-align: middle;\n",
       "    }\n",
       "\n",
       "    .dataframe tbody tr th {\n",
       "        vertical-align: top;\n",
       "    }\n",
       "\n",
       "    .dataframe thead th {\n",
       "        text-align: right;\n",
       "    }\n",
       "</style>\n",
       "<table border=\"1\" class=\"dataframe\">\n",
       "  <thead>\n",
       "    <tr style=\"text-align: right;\">\n",
       "      <th></th>\n",
       "      <th>Manufacturer</th>\n",
       "      <th>Model</th>\n",
       "      <th>Type</th>\n",
       "      <th>Price</th>\n",
       "    </tr>\n",
       "  </thead>\n",
       "  <tbody>\n",
       "    <tr>\n",
       "      <th>54</th>\n",
       "      <td>Mercedes-Benz</td>\n",
       "      <td>300E</td>\n",
       "      <td>Midsize</td>\n",
       "      <td>61.9</td>\n",
       "    </tr>\n",
       "    <tr>\n",
       "      <th>44</th>\n",
       "      <td>Infiniti</td>\n",
       "      <td>Q45</td>\n",
       "      <td>Midsize</td>\n",
       "      <td>47.9</td>\n",
       "    </tr>\n",
       "    <tr>\n",
       "      <th>9</th>\n",
       "      <td>Cadillac</td>\n",
       "      <td>Seville</td>\n",
       "      <td>Midsize</td>\n",
       "      <td>40.1</td>\n",
       "    </tr>\n",
       "    <tr>\n",
       "      <th>15</th>\n",
       "      <td>Chevrolet</td>\n",
       "      <td>Corvette</td>\n",
       "      <td>Sporty</td>\n",
       "      <td>38.0</td>\n",
       "    </tr>\n",
       "    <tr>\n",
       "      <th>1</th>\n",
       "      <td>Audi</td>\n",
       "      <td>100</td>\n",
       "      <td>Midsize</td>\n",
       "      <td>37.7</td>\n",
       "    </tr>\n",
       "    <tr>\n",
       "      <th>...</th>\n",
       "      <td>...</td>\n",
       "      <td>...</td>\n",
       "      <td>...</td>\n",
       "      <td>...</td>\n",
       "    </tr>\n",
       "    <tr>\n",
       "      <th>48</th>\n",
       "      <td>Mazda</td>\n",
       "      <td>323</td>\n",
       "      <td>Small</td>\n",
       "      <td>8.3</td>\n",
       "    </tr>\n",
       "    <tr>\n",
       "      <th>42</th>\n",
       "      <td>Hyundai</td>\n",
       "      <td>Excel</td>\n",
       "      <td>Small</td>\n",
       "      <td>8.0</td>\n",
       "    </tr>\n",
       "    <tr>\n",
       "      <th>31</th>\n",
       "      <td>Ford</td>\n",
       "      <td>Festiva</td>\n",
       "      <td>Small</td>\n",
       "      <td>7.4</td>\n",
       "    </tr>\n",
       "    <tr>\n",
       "      <th>72</th>\n",
       "      <td>Saturn</td>\n",
       "      <td>SL</td>\n",
       "      <td>Small</td>\n",
       "      <td>NaN</td>\n",
       "    </tr>\n",
       "    <tr>\n",
       "      <th>76</th>\n",
       "      <td>Toyota</td>\n",
       "      <td>Camry</td>\n",
       "      <td>Midsize</td>\n",
       "      <td>NaN</td>\n",
       "    </tr>\n",
       "  </tbody>\n",
       "</table>\n",
       "<p>85 rows × 4 columns</p>\n",
       "</div>"
      ],
      "text/plain": [
       "     Manufacturer     Model     Type  Price\n",
       "54  Mercedes-Benz      300E  Midsize   61.9\n",
       "44       Infiniti       Q45  Midsize   47.9\n",
       "9        Cadillac   Seville  Midsize   40.1\n",
       "15      Chevrolet  Corvette   Sporty   38.0\n",
       "1            Audi       100  Midsize   37.7\n",
       "..            ...       ...      ...    ...\n",
       "48          Mazda       323    Small    8.3\n",
       "42        Hyundai     Excel    Small    8.0\n",
       "31           Ford   Festiva    Small    7.4\n",
       "72         Saturn        SL    Small    NaN\n",
       "76         Toyota     Camry  Midsize    NaN\n",
       "\n",
       "[85 rows x 4 columns]"
      ]
     },
     "execution_count": 323,
     "metadata": {},
     "output_type": "execute_result"
    }
   ],
   "source": [
    "# 38. How to extract the row and column number of a particular cell with given criterion?\n",
    "# Which manufacturer, model and type has the highest Price?\n",
    "# What is the row and column number of the cell with the highest Price value?\n",
    "\n",
    "df.groupby(['Manufacturer', 'Model', 'Type'], as_index=False).agg({'Price':'mean'}).sort_values('Price', ascending=False)"
   ]
  },
  {
   "cell_type": "code",
   "execution_count": 335,
   "id": "8d51c8d4",
   "metadata": {
    "ExecuteTime": {
     "end_time": "2024-12-19T10:12:01.829771Z",
     "start_time": "2024-12-19T10:12:01.815906Z"
    }
   },
   "outputs": [
    {
     "data": {
      "text/html": [
       "<div>\n",
       "<style scoped>\n",
       "    .dataframe tbody tr th:only-of-type {\n",
       "        vertical-align: middle;\n",
       "    }\n",
       "\n",
       "    .dataframe tbody tr th {\n",
       "        vertical-align: top;\n",
       "    }\n",
       "\n",
       "    .dataframe thead th {\n",
       "        text-align: right;\n",
       "    }\n",
       "</style>\n",
       "<table border=\"1\" class=\"dataframe\">\n",
       "  <thead>\n",
       "    <tr style=\"text-align: right;\">\n",
       "      <th></th>\n",
       "      <th>Manufacturer</th>\n",
       "      <th>Model</th>\n",
       "      <th>Type</th>\n",
       "    </tr>\n",
       "  </thead>\n",
       "  <tbody>\n",
       "    <tr>\n",
       "      <th>58</th>\n",
       "      <td>Mercedes-Benz</td>\n",
       "      <td>300E</td>\n",
       "      <td>Midsize</td>\n",
       "    </tr>\n",
       "  </tbody>\n",
       "</table>\n",
       "</div>"
      ],
      "text/plain": [
       "     Manufacturer Model     Type\n",
       "58  Mercedes-Benz  300E  Midsize"
      ]
     },
     "execution_count": 335,
     "metadata": {},
     "output_type": "execute_result"
    },
    {
     "data": {
      "text/html": [
       "<div>\n",
       "<style scoped>\n",
       "    .dataframe tbody tr th:only-of-type {\n",
       "        vertical-align: middle;\n",
       "    }\n",
       "\n",
       "    .dataframe tbody tr th {\n",
       "        vertical-align: top;\n",
       "    }\n",
       "\n",
       "    .dataframe thead th {\n",
       "        text-align: right;\n",
       "    }\n",
       "</style>\n",
       "<table border=\"1\" class=\"dataframe\">\n",
       "  <thead>\n",
       "    <tr style=\"text-align: right;\">\n",
       "      <th></th>\n",
       "      <th>Manufacturer</th>\n",
       "      <th>Model</th>\n",
       "      <th>Type</th>\n",
       "    </tr>\n",
       "  </thead>\n",
       "  <tbody>\n",
       "    <tr>\n",
       "      <th>58</th>\n",
       "      <td>Mercedes-Benz</td>\n",
       "      <td>300E</td>\n",
       "      <td>Midsize</td>\n",
       "    </tr>\n",
       "  </tbody>\n",
       "</table>\n",
       "</div>"
      ],
      "text/plain": [
       "     Manufacturer Model     Type\n",
       "58  Mercedes-Benz  300E  Midsize"
      ]
     },
     "execution_count": 335,
     "metadata": {},
     "output_type": "execute_result"
    },
    {
     "data": {
      "text/html": [
       "<div>\n",
       "<style scoped>\n",
       "    .dataframe tbody tr th:only-of-type {\n",
       "        vertical-align: middle;\n",
       "    }\n",
       "\n",
       "    .dataframe tbody tr th {\n",
       "        vertical-align: top;\n",
       "    }\n",
       "\n",
       "    .dataframe thead th {\n",
       "        text-align: right;\n",
       "    }\n",
       "</style>\n",
       "<table border=\"1\" class=\"dataframe\">\n",
       "  <thead>\n",
       "    <tr style=\"text-align: right;\">\n",
       "      <th></th>\n",
       "      <th>Price</th>\n",
       "    </tr>\n",
       "  </thead>\n",
       "  <tbody>\n",
       "    <tr>\n",
       "      <th>58</th>\n",
       "      <td>61.9</td>\n",
       "    </tr>\n",
       "  </tbody>\n",
       "</table>\n",
       "</div>"
      ],
      "text/plain": [
       "    Price\n",
       "58   61.9"
      ]
     },
     "execution_count": 335,
     "metadata": {},
     "output_type": "execute_result"
    },
    {
     "data": {
      "text/plain": [
       "61.9"
      ]
     },
     "execution_count": 335,
     "metadata": {},
     "output_type": "execute_result"
    }
   ],
   "source": [
    "df[df['Price'] == np.max(df['Price'])][['Manufacturer', 'Model', 'Type']]\n",
    "df.loc[df['Price'] == np.max(df['Price']), ['Manufacturer', 'Model', 'Type']]\n",
    "\n",
    "row, col = np.where(df.values == np.max(df.Price))\n",
    "df.iloc[row, col]\n",
    "\n",
    "df._get_value(row[0], 'Price')"
   ]
  },
  {
   "cell_type": "code",
   "execution_count": 353,
   "id": "e39fd5e3",
   "metadata": {
    "ExecuteTime": {
     "end_time": "2024-12-19T10:28:04.631009Z",
     "start_time": "2024-12-19T10:28:04.614166Z"
    }
   },
   "outputs": [
    {
     "data": {
      "text/html": [
       "<div>\n",
       "<style scoped>\n",
       "    .dataframe tbody tr th:only-of-type {\n",
       "        vertical-align: middle;\n",
       "    }\n",
       "\n",
       "    .dataframe tbody tr th {\n",
       "        vertical-align: top;\n",
       "    }\n",
       "\n",
       "    .dataframe thead th {\n",
       "        text-align: right;\n",
       "    }\n",
       "</style>\n",
       "<table border=\"1\" class=\"dataframe\">\n",
       "  <thead>\n",
       "    <tr style=\"text-align: right;\">\n",
       "      <th></th>\n",
       "      <th>Manufacturer</th>\n",
       "      <th>Model</th>\n",
       "      <th>CarType</th>\n",
       "      <th>Min_Price</th>\n",
       "      <th>Price</th>\n",
       "      <th>Max_Price</th>\n",
       "      <th>MPG_city</th>\n",
       "      <th>MPG_highway</th>\n",
       "      <th>AirBags</th>\n",
       "      <th>DriveTrain</th>\n",
       "      <th>...</th>\n",
       "      <th>Passengers</th>\n",
       "      <th>Length</th>\n",
       "      <th>Wheelbase</th>\n",
       "      <th>Width</th>\n",
       "      <th>Turn_circle</th>\n",
       "      <th>Rear_seat_room</th>\n",
       "      <th>Luggage_room</th>\n",
       "      <th>Weight</th>\n",
       "      <th>Origin</th>\n",
       "      <th>Make</th>\n",
       "    </tr>\n",
       "  </thead>\n",
       "  <tbody>\n",
       "    <tr>\n",
       "      <th>0</th>\n",
       "      <td>Acura</td>\n",
       "      <td>Integra</td>\n",
       "      <td>Small</td>\n",
       "      <td>12.9</td>\n",
       "      <td>15.9</td>\n",
       "      <td>18.8</td>\n",
       "      <td>25.0</td>\n",
       "      <td>31.0</td>\n",
       "      <td>NaN</td>\n",
       "      <td>Front</td>\n",
       "      <td>...</td>\n",
       "      <td>5.0</td>\n",
       "      <td>177.0</td>\n",
       "      <td>102.0</td>\n",
       "      <td>68.0</td>\n",
       "      <td>37.0</td>\n",
       "      <td>26.5</td>\n",
       "      <td>NaN</td>\n",
       "      <td>2705.0</td>\n",
       "      <td>non-USA</td>\n",
       "      <td>Acura Integra</td>\n",
       "    </tr>\n",
       "    <tr>\n",
       "      <th>1</th>\n",
       "      <td>NaN</td>\n",
       "      <td>Legend</td>\n",
       "      <td>Midsize</td>\n",
       "      <td>29.2</td>\n",
       "      <td>33.9</td>\n",
       "      <td>38.7</td>\n",
       "      <td>18.0</td>\n",
       "      <td>25.0</td>\n",
       "      <td>Driver &amp; Passenger</td>\n",
       "      <td>Front</td>\n",
       "      <td>...</td>\n",
       "      <td>5.0</td>\n",
       "      <td>195.0</td>\n",
       "      <td>115.0</td>\n",
       "      <td>71.0</td>\n",
       "      <td>38.0</td>\n",
       "      <td>30.0</td>\n",
       "      <td>15.0</td>\n",
       "      <td>3560.0</td>\n",
       "      <td>non-USA</td>\n",
       "      <td>Acura Legend</td>\n",
       "    </tr>\n",
       "    <tr>\n",
       "      <th>2</th>\n",
       "      <td>Audi</td>\n",
       "      <td>90</td>\n",
       "      <td>Compact</td>\n",
       "      <td>25.9</td>\n",
       "      <td>29.1</td>\n",
       "      <td>32.3</td>\n",
       "      <td>20.0</td>\n",
       "      <td>26.0</td>\n",
       "      <td>Driver only</td>\n",
       "      <td>Front</td>\n",
       "      <td>...</td>\n",
       "      <td>5.0</td>\n",
       "      <td>180.0</td>\n",
       "      <td>102.0</td>\n",
       "      <td>67.0</td>\n",
       "      <td>37.0</td>\n",
       "      <td>28.0</td>\n",
       "      <td>14.0</td>\n",
       "      <td>3375.0</td>\n",
       "      <td>non-USA</td>\n",
       "      <td>Audi 90</td>\n",
       "    </tr>\n",
       "    <tr>\n",
       "      <th>3</th>\n",
       "      <td>Audi</td>\n",
       "      <td>100</td>\n",
       "      <td>Midsize</td>\n",
       "      <td>NaN</td>\n",
       "      <td>37.7</td>\n",
       "      <td>44.6</td>\n",
       "      <td>19.0</td>\n",
       "      <td>26.0</td>\n",
       "      <td>Driver &amp; Passenger</td>\n",
       "      <td>NaN</td>\n",
       "      <td>...</td>\n",
       "      <td>6.0</td>\n",
       "      <td>193.0</td>\n",
       "      <td>106.0</td>\n",
       "      <td>NaN</td>\n",
       "      <td>37.0</td>\n",
       "      <td>31.0</td>\n",
       "      <td>17.0</td>\n",
       "      <td>3405.0</td>\n",
       "      <td>non-USA</td>\n",
       "      <td>Audi 100</td>\n",
       "    </tr>\n",
       "    <tr>\n",
       "      <th>4</th>\n",
       "      <td>BMW</td>\n",
       "      <td>535i</td>\n",
       "      <td>Midsize</td>\n",
       "      <td>NaN</td>\n",
       "      <td>30.0</td>\n",
       "      <td>NaN</td>\n",
       "      <td>22.0</td>\n",
       "      <td>30.0</td>\n",
       "      <td>NaN</td>\n",
       "      <td>Rear</td>\n",
       "      <td>...</td>\n",
       "      <td>4.0</td>\n",
       "      <td>186.0</td>\n",
       "      <td>109.0</td>\n",
       "      <td>69.0</td>\n",
       "      <td>39.0</td>\n",
       "      <td>27.0</td>\n",
       "      <td>13.0</td>\n",
       "      <td>3640.0</td>\n",
       "      <td>non-USA</td>\n",
       "      <td>BMW 535i</td>\n",
       "    </tr>\n",
       "    <tr>\n",
       "      <th>...</th>\n",
       "      <td>...</td>\n",
       "      <td>...</td>\n",
       "      <td>...</td>\n",
       "      <td>...</td>\n",
       "      <td>...</td>\n",
       "      <td>...</td>\n",
       "      <td>...</td>\n",
       "      <td>...</td>\n",
       "      <td>...</td>\n",
       "      <td>...</td>\n",
       "      <td>...</td>\n",
       "      <td>...</td>\n",
       "      <td>...</td>\n",
       "      <td>...</td>\n",
       "      <td>...</td>\n",
       "      <td>...</td>\n",
       "      <td>...</td>\n",
       "      <td>...</td>\n",
       "      <td>...</td>\n",
       "      <td>...</td>\n",
       "      <td>...</td>\n",
       "    </tr>\n",
       "    <tr>\n",
       "      <th>88</th>\n",
       "      <td>Volkswagen</td>\n",
       "      <td>Eurovan</td>\n",
       "      <td>Van</td>\n",
       "      <td>16.6</td>\n",
       "      <td>19.7</td>\n",
       "      <td>22.7</td>\n",
       "      <td>17.0</td>\n",
       "      <td>21.0</td>\n",
       "      <td>NaN</td>\n",
       "      <td>Front</td>\n",
       "      <td>...</td>\n",
       "      <td>7.0</td>\n",
       "      <td>187.0</td>\n",
       "      <td>115.0</td>\n",
       "      <td>72.0</td>\n",
       "      <td>38.0</td>\n",
       "      <td>34.0</td>\n",
       "      <td>NaN</td>\n",
       "      <td>3960.0</td>\n",
       "      <td>NaN</td>\n",
       "      <td>Volkswagen Eurovan</td>\n",
       "    </tr>\n",
       "    <tr>\n",
       "      <th>89</th>\n",
       "      <td>Volkswagen</td>\n",
       "      <td>Passat</td>\n",
       "      <td>Compact</td>\n",
       "      <td>17.6</td>\n",
       "      <td>20.0</td>\n",
       "      <td>22.4</td>\n",
       "      <td>21.0</td>\n",
       "      <td>30.0</td>\n",
       "      <td>NaN</td>\n",
       "      <td>Front</td>\n",
       "      <td>...</td>\n",
       "      <td>5.0</td>\n",
       "      <td>180.0</td>\n",
       "      <td>103.0</td>\n",
       "      <td>67.0</td>\n",
       "      <td>35.0</td>\n",
       "      <td>31.5</td>\n",
       "      <td>14.0</td>\n",
       "      <td>2985.0</td>\n",
       "      <td>non-USA</td>\n",
       "      <td>Volkswagen Passat</td>\n",
       "    </tr>\n",
       "    <tr>\n",
       "      <th>90</th>\n",
       "      <td>Volkswagen</td>\n",
       "      <td>Corrado</td>\n",
       "      <td>Sporty</td>\n",
       "      <td>22.9</td>\n",
       "      <td>23.3</td>\n",
       "      <td>23.7</td>\n",
       "      <td>18.0</td>\n",
       "      <td>25.0</td>\n",
       "      <td>NaN</td>\n",
       "      <td>Front</td>\n",
       "      <td>...</td>\n",
       "      <td>4.0</td>\n",
       "      <td>159.0</td>\n",
       "      <td>97.0</td>\n",
       "      <td>66.0</td>\n",
       "      <td>36.0</td>\n",
       "      <td>26.0</td>\n",
       "      <td>15.0</td>\n",
       "      <td>2810.0</td>\n",
       "      <td>non-USA</td>\n",
       "      <td>Volkswagen Corrado</td>\n",
       "    </tr>\n",
       "    <tr>\n",
       "      <th>91</th>\n",
       "      <td>Volvo</td>\n",
       "      <td>240</td>\n",
       "      <td>Compact</td>\n",
       "      <td>21.8</td>\n",
       "      <td>22.7</td>\n",
       "      <td>23.5</td>\n",
       "      <td>21.0</td>\n",
       "      <td>28.0</td>\n",
       "      <td>Driver only</td>\n",
       "      <td>Rear</td>\n",
       "      <td>...</td>\n",
       "      <td>5.0</td>\n",
       "      <td>190.0</td>\n",
       "      <td>104.0</td>\n",
       "      <td>67.0</td>\n",
       "      <td>37.0</td>\n",
       "      <td>29.5</td>\n",
       "      <td>14.0</td>\n",
       "      <td>2985.0</td>\n",
       "      <td>non-USA</td>\n",
       "      <td>Volvo 240</td>\n",
       "    </tr>\n",
       "    <tr>\n",
       "      <th>92</th>\n",
       "      <td>NaN</td>\n",
       "      <td>850</td>\n",
       "      <td>Midsize</td>\n",
       "      <td>24.8</td>\n",
       "      <td>26.7</td>\n",
       "      <td>28.5</td>\n",
       "      <td>20.0</td>\n",
       "      <td>28.0</td>\n",
       "      <td>Driver &amp; Passenger</td>\n",
       "      <td>Front</td>\n",
       "      <td>...</td>\n",
       "      <td>5.0</td>\n",
       "      <td>184.0</td>\n",
       "      <td>105.0</td>\n",
       "      <td>69.0</td>\n",
       "      <td>38.0</td>\n",
       "      <td>30.0</td>\n",
       "      <td>15.0</td>\n",
       "      <td>3245.0</td>\n",
       "      <td>non-USA</td>\n",
       "      <td>Volvo 850</td>\n",
       "    </tr>\n",
       "  </tbody>\n",
       "</table>\n",
       "<p>93 rows × 27 columns</p>\n",
       "</div>"
      ],
      "text/plain": [
       "   Manufacturer    Model  CarType  Min_Price  Price  Max_Price  MPG_city  \\\n",
       "0         Acura  Integra    Small       12.9   15.9       18.8      25.0   \n",
       "1           NaN   Legend  Midsize       29.2   33.9       38.7      18.0   \n",
       "2          Audi       90  Compact       25.9   29.1       32.3      20.0   \n",
       "3          Audi      100  Midsize        NaN   37.7       44.6      19.0   \n",
       "4           BMW     535i  Midsize        NaN   30.0        NaN      22.0   \n",
       "..          ...      ...      ...        ...    ...        ...       ...   \n",
       "88   Volkswagen  Eurovan      Van       16.6   19.7       22.7      17.0   \n",
       "89   Volkswagen   Passat  Compact       17.6   20.0       22.4      21.0   \n",
       "90   Volkswagen  Corrado   Sporty       22.9   23.3       23.7      18.0   \n",
       "91        Volvo      240  Compact       21.8   22.7       23.5      21.0   \n",
       "92          NaN      850  Midsize       24.8   26.7       28.5      20.0   \n",
       "\n",
       "    MPG_highway             AirBags DriveTrain  ... Passengers  Length  \\\n",
       "0          31.0                 NaN      Front  ...        5.0   177.0   \n",
       "1          25.0  Driver & Passenger      Front  ...        5.0   195.0   \n",
       "2          26.0         Driver only      Front  ...        5.0   180.0   \n",
       "3          26.0  Driver & Passenger        NaN  ...        6.0   193.0   \n",
       "4          30.0                 NaN       Rear  ...        4.0   186.0   \n",
       "..          ...                 ...        ...  ...        ...     ...   \n",
       "88         21.0                 NaN      Front  ...        7.0   187.0   \n",
       "89         30.0                 NaN      Front  ...        5.0   180.0   \n",
       "90         25.0                 NaN      Front  ...        4.0   159.0   \n",
       "91         28.0         Driver only       Rear  ...        5.0   190.0   \n",
       "92         28.0  Driver & Passenger      Front  ...        5.0   184.0   \n",
       "\n",
       "    Wheelbase  Width  Turn_circle Rear_seat_room  Luggage_room  Weight  \\\n",
       "0       102.0   68.0         37.0           26.5           NaN  2705.0   \n",
       "1       115.0   71.0         38.0           30.0          15.0  3560.0   \n",
       "2       102.0   67.0         37.0           28.0          14.0  3375.0   \n",
       "3       106.0    NaN         37.0           31.0          17.0  3405.0   \n",
       "4       109.0   69.0         39.0           27.0          13.0  3640.0   \n",
       "..        ...    ...          ...            ...           ...     ...   \n",
       "88      115.0   72.0         38.0           34.0           NaN  3960.0   \n",
       "89      103.0   67.0         35.0           31.5          14.0  2985.0   \n",
       "90       97.0   66.0         36.0           26.0          15.0  2810.0   \n",
       "91      104.0   67.0         37.0           29.5          14.0  2985.0   \n",
       "92      105.0   69.0         38.0           30.0          15.0  3245.0   \n",
       "\n",
       "     Origin                Make  \n",
       "0   non-USA       Acura Integra  \n",
       "1   non-USA        Acura Legend  \n",
       "2   non-USA             Audi 90  \n",
       "3   non-USA            Audi 100  \n",
       "4   non-USA            BMW 535i  \n",
       "..      ...                 ...  \n",
       "88      NaN  Volkswagen Eurovan  \n",
       "89  non-USA   Volkswagen Passat  \n",
       "90  non-USA  Volkswagen Corrado  \n",
       "91  non-USA           Volvo 240  \n",
       "92  non-USA           Volvo 850  \n",
       "\n",
       "[93 rows x 27 columns]"
      ]
     },
     "execution_count": 353,
     "metadata": {},
     "output_type": "execute_result"
    }
   ],
   "source": [
    "# 39. How to rename a specific columns in a dataframe?\n",
    "a = [i.replace('.', '_') for i in df.columns]\n",
    "a[a.index('Type')] = 'CarType'\n",
    "df.columns = a\n",
    "df\n",
    "# df.rename({'Type':'CarType', })"
   ]
  },
  {
   "cell_type": "code",
   "execution_count": 356,
   "id": "512c025e",
   "metadata": {
    "ExecuteTime": {
     "end_time": "2024-12-19T10:39:03.270241Z",
     "start_time": "2024-12-19T10:39:03.264477Z"
    }
   },
   "outputs": [
    {
     "data": {
      "text/plain": [
       "Manufacturer           4\n",
       "Model                  1\n",
       "CarType                3\n",
       "Min_Price              7\n",
       "Price                  2\n",
       "Max_Price              5\n",
       "MPG_city               9\n",
       "MPG_highway            2\n",
       "AirBags               38\n",
       "DriveTrain             7\n",
       "Cylinders              5\n",
       "EngineSize             2\n",
       "Horsepower             7\n",
       "RPM                    3\n",
       "Rev_per_mile           6\n",
       "Man_trans_avail        5\n",
       "Fuel_tank_capacity     8\n",
       "Passengers             2\n",
       "Length                 4\n",
       "Wheelbase              1\n",
       "Width                  6\n",
       "Turn_circle            5\n",
       "Rear_seat_room         4\n",
       "Luggage_room          19\n",
       "Weight                 7\n",
       "Origin                 5\n",
       "Make                   3\n",
       "dtype: int64"
      ]
     },
     "execution_count": 356,
     "metadata": {},
     "output_type": "execute_result"
    },
    {
     "data": {
      "text/plain": [
       "True"
      ]
     },
     "execution_count": 356,
     "metadata": {},
     "output_type": "execute_result"
    }
   ],
   "source": [
    "# 40. How to check if a dataframe has any missing values?\n",
    "\n",
    "df.isnull().sum()\n",
    "df.isnull().values.any()"
   ]
  },
  {
   "cell_type": "code",
   "execution_count": 360,
   "id": "b45bed55",
   "metadata": {
    "ExecuteTime": {
     "end_time": "2024-12-19T10:40:34.338140Z",
     "start_time": "2024-12-19T10:40:34.334212Z"
    }
   },
   "outputs": [
    {
     "data": {
      "text/plain": [
       "'AirBags'"
      ]
     },
     "execution_count": 360,
     "metadata": {},
     "output_type": "execute_result"
    }
   ],
   "source": [
    "# 41. How to count the number of missing values in each column?\n",
    "\n",
    "df.columns[df.isnull().sum().argmax()]"
   ]
  },
  {
   "cell_type": "code",
   "execution_count": 376,
   "id": "bb522a07",
   "metadata": {
    "ExecuteTime": {
     "end_time": "2024-12-19T12:35:45.473704Z",
     "start_time": "2024-12-19T12:35:45.109391Z"
    }
   },
   "outputs": [
    {
     "data": {
      "text/html": [
       "<div>\n",
       "<style scoped>\n",
       "    .dataframe tbody tr th:only-of-type {\n",
       "        vertical-align: middle;\n",
       "    }\n",
       "\n",
       "    .dataframe tbody tr th {\n",
       "        vertical-align: top;\n",
       "    }\n",
       "\n",
       "    .dataframe thead th {\n",
       "        text-align: right;\n",
       "    }\n",
       "</style>\n",
       "<table border=\"1\" class=\"dataframe\">\n",
       "  <thead>\n",
       "    <tr style=\"text-align: right;\">\n",
       "      <th></th>\n",
       "      <th>Min.Price</th>\n",
       "      <th>Max.Price</th>\n",
       "    </tr>\n",
       "  </thead>\n",
       "  <tbody>\n",
       "    <tr>\n",
       "      <th>0</th>\n",
       "      <td>12.900000</td>\n",
       "      <td>18.800000</td>\n",
       "    </tr>\n",
       "    <tr>\n",
       "      <th>1</th>\n",
       "      <td>29.200000</td>\n",
       "      <td>38.700000</td>\n",
       "    </tr>\n",
       "    <tr>\n",
       "      <th>2</th>\n",
       "      <td>25.900000</td>\n",
       "      <td>32.300000</td>\n",
       "    </tr>\n",
       "    <tr>\n",
       "      <th>3</th>\n",
       "      <td>17.118605</td>\n",
       "      <td>44.600000</td>\n",
       "    </tr>\n",
       "    <tr>\n",
       "      <th>4</th>\n",
       "      <td>17.118605</td>\n",
       "      <td>21.459091</td>\n",
       "    </tr>\n",
       "    <tr>\n",
       "      <th>...</th>\n",
       "      <td>...</td>\n",
       "      <td>...</td>\n",
       "    </tr>\n",
       "    <tr>\n",
       "      <th>88</th>\n",
       "      <td>16.600000</td>\n",
       "      <td>22.700000</td>\n",
       "    </tr>\n",
       "    <tr>\n",
       "      <th>89</th>\n",
       "      <td>17.600000</td>\n",
       "      <td>22.400000</td>\n",
       "    </tr>\n",
       "    <tr>\n",
       "      <th>90</th>\n",
       "      <td>22.900000</td>\n",
       "      <td>23.700000</td>\n",
       "    </tr>\n",
       "    <tr>\n",
       "      <th>91</th>\n",
       "      <td>21.800000</td>\n",
       "      <td>23.500000</td>\n",
       "    </tr>\n",
       "    <tr>\n",
       "      <th>92</th>\n",
       "      <td>24.800000</td>\n",
       "      <td>28.500000</td>\n",
       "    </tr>\n",
       "  </tbody>\n",
       "</table>\n",
       "<p>93 rows × 2 columns</p>\n",
       "</div>"
      ],
      "text/plain": [
       "    Min.Price  Max.Price\n",
       "0   12.900000  18.800000\n",
       "1   29.200000  38.700000\n",
       "2   25.900000  32.300000\n",
       "3   17.118605  44.600000\n",
       "4   17.118605  21.459091\n",
       "..        ...        ...\n",
       "88  16.600000  22.700000\n",
       "89  17.600000  22.400000\n",
       "90  22.900000  23.700000\n",
       "91  21.800000  23.500000\n",
       "92  24.800000  28.500000\n",
       "\n",
       "[93 rows x 2 columns]"
      ]
     },
     "execution_count": 376,
     "metadata": {},
     "output_type": "execute_result"
    }
   ],
   "source": [
    "# 42. How to replace missing values of multiple numeric columns with the mean?\n",
    "\n",
    "df = pd.read_csv('https://raw.githubusercontent.com/selva86/datasets/master/Cars93_miss.csv')\n",
    "cols = ['Min.Price','Max.Price']\n",
    "\n",
    "for col in cols:\n",
    "    df[col] = df[col].fillna(df[col].mean())\n",
    "    \n",
    "df[cols]"
   ]
  },
  {
   "cell_type": "code",
   "execution_count": null,
   "id": "bd3210cf",
   "metadata": {},
   "outputs": [],
   "source": [
    "# 43. How to use apply function on existing columns with global variables as additional arguments?\n",
    "# In df, use apply method to replace the missing values in \n",
    "# Min.Price with the column’s mean and those in Max.Price with the column’s median."
   ]
  },
  {
   "cell_type": "code",
   "execution_count": 379,
   "id": "0a61cb4a",
   "metadata": {
    "ExecuteTime": {
     "end_time": "2024-12-19T12:41:15.209193Z",
     "start_time": "2024-12-19T12:41:15.203444Z"
    }
   },
   "outputs": [],
   "source": [
    "d = {'Min.Price': np.nanmean, 'Max.Price': np.nanmedian}\n",
    "df[cols] = df[cols].apply(lambda x, d: x.fillna(d[x.name](x)), args=(d,))"
   ]
  },
  {
   "cell_type": "code",
   "execution_count": 386,
   "id": "6950416d",
   "metadata": {
    "ExecuteTime": {
     "end_time": "2024-12-19T12:43:22.414239Z",
     "start_time": "2024-12-19T12:43:22.407619Z"
    }
   },
   "outputs": [
    {
     "data": {
      "text/html": [
       "<div>\n",
       "<style scoped>\n",
       "    .dataframe tbody tr th:only-of-type {\n",
       "        vertical-align: middle;\n",
       "    }\n",
       "\n",
       "    .dataframe tbody tr th {\n",
       "        vertical-align: top;\n",
       "    }\n",
       "\n",
       "    .dataframe thead th {\n",
       "        text-align: right;\n",
       "    }\n",
       "</style>\n",
       "<table border=\"1\" class=\"dataframe\">\n",
       "  <thead>\n",
       "    <tr style=\"text-align: right;\">\n",
       "      <th></th>\n",
       "      <th>a</th>\n",
       "    </tr>\n",
       "  </thead>\n",
       "  <tbody>\n",
       "    <tr>\n",
       "      <th>0</th>\n",
       "      <td>0</td>\n",
       "    </tr>\n",
       "    <tr>\n",
       "      <th>1</th>\n",
       "      <td>5</td>\n",
       "    </tr>\n",
       "    <tr>\n",
       "      <th>2</th>\n",
       "      <td>10</td>\n",
       "    </tr>\n",
       "    <tr>\n",
       "      <th>3</th>\n",
       "      <td>15</td>\n",
       "    </tr>\n",
       "  </tbody>\n",
       "</table>\n",
       "</div>"
      ],
      "text/plain": [
       "    a\n",
       "0   0\n",
       "1   5\n",
       "2  10\n",
       "3  15"
      ]
     },
     "execution_count": 386,
     "metadata": {},
     "output_type": "execute_result"
    }
   ],
   "source": [
    "# 44. How to select a specific column from a dataframe as a dataframe instead of a series?\n",
    "\n",
    "df = pd.DataFrame(np.arange(20).reshape(-1, 5), columns=list('abcde'))\n",
    "df.iloc[:,[0]]"
   ]
  },
  {
   "cell_type": "markdown",
   "id": "2103f7d1",
   "metadata": {},
   "source": [
    "### 45. How to change the order of columns of a dataframe?\n",
    "\n",
    "1. In df, interchange columns 'a' and 'c'.\n",
    "2. Create a generic function to interchange two columns, without hardcoding column names.\n",
    "3. Sort the columns in reverse alphabetical order, that is colume 'e' first through column 'a' last."
   ]
  },
  {
   "cell_type": "code",
   "execution_count": 397,
   "id": "d04e04f4",
   "metadata": {
    "ExecuteTime": {
     "end_time": "2024-12-19T12:54:22.795311Z",
     "start_time": "2024-12-19T12:54:22.786437Z"
    }
   },
   "outputs": [
    {
     "data": {
      "text/html": [
       "<div>\n",
       "<style scoped>\n",
       "    .dataframe tbody tr th:only-of-type {\n",
       "        vertical-align: middle;\n",
       "    }\n",
       "\n",
       "    .dataframe tbody tr th {\n",
       "        vertical-align: top;\n",
       "    }\n",
       "\n",
       "    .dataframe thead th {\n",
       "        text-align: right;\n",
       "    }\n",
       "</style>\n",
       "<table border=\"1\" class=\"dataframe\">\n",
       "  <thead>\n",
       "    <tr style=\"text-align: right;\">\n",
       "      <th></th>\n",
       "      <th>a</th>\n",
       "      <th>c</th>\n",
       "      <th>b</th>\n",
       "      <th>d</th>\n",
       "      <th>e</th>\n",
       "    </tr>\n",
       "  </thead>\n",
       "  <tbody>\n",
       "    <tr>\n",
       "      <th>0</th>\n",
       "      <td>0</td>\n",
       "      <td>1</td>\n",
       "      <td>2</td>\n",
       "      <td>3</td>\n",
       "      <td>4</td>\n",
       "    </tr>\n",
       "    <tr>\n",
       "      <th>1</th>\n",
       "      <td>5</td>\n",
       "      <td>6</td>\n",
       "      <td>7</td>\n",
       "      <td>8</td>\n",
       "      <td>9</td>\n",
       "    </tr>\n",
       "    <tr>\n",
       "      <th>2</th>\n",
       "      <td>10</td>\n",
       "      <td>11</td>\n",
       "      <td>12</td>\n",
       "      <td>13</td>\n",
       "      <td>14</td>\n",
       "    </tr>\n",
       "    <tr>\n",
       "      <th>3</th>\n",
       "      <td>15</td>\n",
       "      <td>16</td>\n",
       "      <td>17</td>\n",
       "      <td>18</td>\n",
       "      <td>19</td>\n",
       "    </tr>\n",
       "  </tbody>\n",
       "</table>\n",
       "</div>"
      ],
      "text/plain": [
       "    a   c   b   d   e\n",
       "0   0   1   2   3   4\n",
       "1   5   6   7   8   9\n",
       "2  10  11  12  13  14\n",
       "3  15  16  17  18  19"
      ]
     },
     "execution_count": 397,
     "metadata": {},
     "output_type": "execute_result"
    }
   ],
   "source": [
    "def swap_cols(col1, col2):\n",
    "    lst_cols = list(df.columns)\n",
    "    a, b = lst_cols.index(col1), lst_cols.index(col2) \n",
    "    lst_cols[a], lst_cols[b] = lst_cols[b], lst_cols[a]\n",
    "    return lst_cols\n",
    "\n",
    "df.columns = swap_cols('b','c')\n",
    "df"
   ]
  },
  {
   "cell_type": "code",
   "execution_count": 402,
   "id": "6bc16ca3",
   "metadata": {
    "ExecuteTime": {
     "end_time": "2024-12-19T12:57:45.054083Z",
     "start_time": "2024-12-19T12:57:45.049100Z"
    }
   },
   "outputs": [
    {
     "data": {
      "text/plain": [
       "['e', 'd', 'c', 'b', 'a']"
      ]
     },
     "execution_count": 402,
     "metadata": {},
     "output_type": "execute_result"
    }
   ],
   "source": [
    "sorted(list(df.columns), reverse=True)"
   ]
  },
  {
   "cell_type": "code",
   "execution_count": 405,
   "id": "6144de9e",
   "metadata": {
    "ExecuteTime": {
     "end_time": "2024-12-19T13:16:26.393862Z",
     "start_time": "2024-12-19T13:16:26.387111Z"
    }
   },
   "outputs": [
    {
     "data": {
      "text/plain": [
       "0    0.0000\n",
       "1    0.4904\n",
       "2    0.0001\n",
       "3    0.0004\n",
       "dtype: object"
      ]
     },
     "execution_count": 405,
     "metadata": {},
     "output_type": "execute_result"
    }
   ],
   "source": [
    "# 47. How to format or suppress scientific notations in a pandas dataframe?\n",
    "\n",
    "df = pd.DataFrame(np.random.random(4)**10, columns=['random'])\n",
    "df.apply(lambda x: '%.4f' % x, axis=1)"
   ]
  },
  {
   "cell_type": "code",
   "execution_count": 406,
   "id": "eacf11fc",
   "metadata": {
    "ExecuteTime": {
     "end_time": "2024-12-19T13:18:13.095525Z",
     "start_time": "2024-12-19T13:18:01.589941Z"
    }
   },
   "outputs": [
    {
     "data": {
      "text/html": [
       "<div>\n",
       "<style scoped>\n",
       "    .dataframe tbody tr th:only-of-type {\n",
       "        vertical-align: middle;\n",
       "    }\n",
       "\n",
       "    .dataframe tbody tr th {\n",
       "        vertical-align: top;\n",
       "    }\n",
       "\n",
       "    .dataframe thead th {\n",
       "        text-align: right;\n",
       "    }\n",
       "</style>\n",
       "<table border=\"1\" class=\"dataframe\">\n",
       "  <thead>\n",
       "    <tr style=\"text-align: right;\">\n",
       "      <th></th>\n",
       "      <th>Manufacturer</th>\n",
       "      <th>Model</th>\n",
       "      <th>Type</th>\n",
       "      <th>Min.Price</th>\n",
       "      <th>Price</th>\n",
       "      <th>Max.Price</th>\n",
       "      <th>MPG.city</th>\n",
       "      <th>MPG.highway</th>\n",
       "      <th>AirBags</th>\n",
       "      <th>DriveTrain</th>\n",
       "      <th>...</th>\n",
       "      <th>Passengers</th>\n",
       "      <th>Length</th>\n",
       "      <th>Wheelbase</th>\n",
       "      <th>Width</th>\n",
       "      <th>Turn.circle</th>\n",
       "      <th>Rear.seat.room</th>\n",
       "      <th>Luggage.room</th>\n",
       "      <th>Weight</th>\n",
       "      <th>Origin</th>\n",
       "      <th>Make</th>\n",
       "    </tr>\n",
       "  </thead>\n",
       "  <tbody>\n",
       "    <tr>\n",
       "      <th>0</th>\n",
       "      <td>Acura</td>\n",
       "      <td>Integra</td>\n",
       "      <td>Small</td>\n",
       "      <td>12.9</td>\n",
       "      <td>15.9</td>\n",
       "      <td>18.8</td>\n",
       "      <td>25.0</td>\n",
       "      <td>31.0</td>\n",
       "      <td>NaN</td>\n",
       "      <td>Front</td>\n",
       "      <td>...</td>\n",
       "      <td>5.0</td>\n",
       "      <td>177.0</td>\n",
       "      <td>102.0</td>\n",
       "      <td>68.0</td>\n",
       "      <td>37.0</td>\n",
       "      <td>26.5</td>\n",
       "      <td>NaN</td>\n",
       "      <td>2705.0</td>\n",
       "      <td>non-USA</td>\n",
       "      <td>Acura Integra</td>\n",
       "    </tr>\n",
       "    <tr>\n",
       "      <th>1</th>\n",
       "      <td>NaN</td>\n",
       "      <td>Legend</td>\n",
       "      <td>Midsize</td>\n",
       "      <td>29.2</td>\n",
       "      <td>33.9</td>\n",
       "      <td>38.7</td>\n",
       "      <td>18.0</td>\n",
       "      <td>25.0</td>\n",
       "      <td>Driver &amp; Passenger</td>\n",
       "      <td>Front</td>\n",
       "      <td>...</td>\n",
       "      <td>5.0</td>\n",
       "      <td>195.0</td>\n",
       "      <td>115.0</td>\n",
       "      <td>71.0</td>\n",
       "      <td>38.0</td>\n",
       "      <td>30.0</td>\n",
       "      <td>15.0</td>\n",
       "      <td>3560.0</td>\n",
       "      <td>non-USA</td>\n",
       "      <td>Acura Legend</td>\n",
       "    </tr>\n",
       "    <tr>\n",
       "      <th>2</th>\n",
       "      <td>Audi</td>\n",
       "      <td>90</td>\n",
       "      <td>Compact</td>\n",
       "      <td>25.9</td>\n",
       "      <td>29.1</td>\n",
       "      <td>32.3</td>\n",
       "      <td>20.0</td>\n",
       "      <td>26.0</td>\n",
       "      <td>Driver only</td>\n",
       "      <td>Front</td>\n",
       "      <td>...</td>\n",
       "      <td>5.0</td>\n",
       "      <td>180.0</td>\n",
       "      <td>102.0</td>\n",
       "      <td>67.0</td>\n",
       "      <td>37.0</td>\n",
       "      <td>28.0</td>\n",
       "      <td>14.0</td>\n",
       "      <td>3375.0</td>\n",
       "      <td>non-USA</td>\n",
       "      <td>Audi 90</td>\n",
       "    </tr>\n",
       "    <tr>\n",
       "      <th>3</th>\n",
       "      <td>Audi</td>\n",
       "      <td>100</td>\n",
       "      <td>Midsize</td>\n",
       "      <td>NaN</td>\n",
       "      <td>37.7</td>\n",
       "      <td>44.6</td>\n",
       "      <td>19.0</td>\n",
       "      <td>26.0</td>\n",
       "      <td>Driver &amp; Passenger</td>\n",
       "      <td>NaN</td>\n",
       "      <td>...</td>\n",
       "      <td>6.0</td>\n",
       "      <td>193.0</td>\n",
       "      <td>106.0</td>\n",
       "      <td>NaN</td>\n",
       "      <td>37.0</td>\n",
       "      <td>31.0</td>\n",
       "      <td>17.0</td>\n",
       "      <td>3405.0</td>\n",
       "      <td>non-USA</td>\n",
       "      <td>Audi 100</td>\n",
       "    </tr>\n",
       "    <tr>\n",
       "      <th>4</th>\n",
       "      <td>BMW</td>\n",
       "      <td>535i</td>\n",
       "      <td>Midsize</td>\n",
       "      <td>NaN</td>\n",
       "      <td>30.0</td>\n",
       "      <td>NaN</td>\n",
       "      <td>22.0</td>\n",
       "      <td>30.0</td>\n",
       "      <td>NaN</td>\n",
       "      <td>Rear</td>\n",
       "      <td>...</td>\n",
       "      <td>4.0</td>\n",
       "      <td>186.0</td>\n",
       "      <td>109.0</td>\n",
       "      <td>69.0</td>\n",
       "      <td>39.0</td>\n",
       "      <td>27.0</td>\n",
       "      <td>13.0</td>\n",
       "      <td>3640.0</td>\n",
       "      <td>non-USA</td>\n",
       "      <td>BMW 535i</td>\n",
       "    </tr>\n",
       "    <tr>\n",
       "      <th>...</th>\n",
       "      <td>...</td>\n",
       "      <td>...</td>\n",
       "      <td>...</td>\n",
       "      <td>...</td>\n",
       "      <td>...</td>\n",
       "      <td>...</td>\n",
       "      <td>...</td>\n",
       "      <td>...</td>\n",
       "      <td>...</td>\n",
       "      <td>...</td>\n",
       "      <td>...</td>\n",
       "      <td>...</td>\n",
       "      <td>...</td>\n",
       "      <td>...</td>\n",
       "      <td>...</td>\n",
       "      <td>...</td>\n",
       "      <td>...</td>\n",
       "      <td>...</td>\n",
       "      <td>...</td>\n",
       "      <td>...</td>\n",
       "      <td>...</td>\n",
       "    </tr>\n",
       "    <tr>\n",
       "      <th>88</th>\n",
       "      <td>Volkswagen</td>\n",
       "      <td>Eurovan</td>\n",
       "      <td>Van</td>\n",
       "      <td>16.6</td>\n",
       "      <td>19.7</td>\n",
       "      <td>22.7</td>\n",
       "      <td>17.0</td>\n",
       "      <td>21.0</td>\n",
       "      <td>NaN</td>\n",
       "      <td>Front</td>\n",
       "      <td>...</td>\n",
       "      <td>7.0</td>\n",
       "      <td>187.0</td>\n",
       "      <td>115.0</td>\n",
       "      <td>72.0</td>\n",
       "      <td>38.0</td>\n",
       "      <td>34.0</td>\n",
       "      <td>NaN</td>\n",
       "      <td>3960.0</td>\n",
       "      <td>NaN</td>\n",
       "      <td>Volkswagen Eurovan</td>\n",
       "    </tr>\n",
       "    <tr>\n",
       "      <th>89</th>\n",
       "      <td>Volkswagen</td>\n",
       "      <td>Passat</td>\n",
       "      <td>Compact</td>\n",
       "      <td>17.6</td>\n",
       "      <td>20.0</td>\n",
       "      <td>22.4</td>\n",
       "      <td>21.0</td>\n",
       "      <td>30.0</td>\n",
       "      <td>NaN</td>\n",
       "      <td>Front</td>\n",
       "      <td>...</td>\n",
       "      <td>5.0</td>\n",
       "      <td>180.0</td>\n",
       "      <td>103.0</td>\n",
       "      <td>67.0</td>\n",
       "      <td>35.0</td>\n",
       "      <td>31.5</td>\n",
       "      <td>14.0</td>\n",
       "      <td>2985.0</td>\n",
       "      <td>non-USA</td>\n",
       "      <td>Volkswagen Passat</td>\n",
       "    </tr>\n",
       "    <tr>\n",
       "      <th>90</th>\n",
       "      <td>Volkswagen</td>\n",
       "      <td>Corrado</td>\n",
       "      <td>Sporty</td>\n",
       "      <td>22.9</td>\n",
       "      <td>23.3</td>\n",
       "      <td>23.7</td>\n",
       "      <td>18.0</td>\n",
       "      <td>25.0</td>\n",
       "      <td>NaN</td>\n",
       "      <td>Front</td>\n",
       "      <td>...</td>\n",
       "      <td>4.0</td>\n",
       "      <td>159.0</td>\n",
       "      <td>97.0</td>\n",
       "      <td>66.0</td>\n",
       "      <td>36.0</td>\n",
       "      <td>26.0</td>\n",
       "      <td>15.0</td>\n",
       "      <td>2810.0</td>\n",
       "      <td>non-USA</td>\n",
       "      <td>Volkswagen Corrado</td>\n",
       "    </tr>\n",
       "    <tr>\n",
       "      <th>91</th>\n",
       "      <td>Volvo</td>\n",
       "      <td>240</td>\n",
       "      <td>Compact</td>\n",
       "      <td>21.8</td>\n",
       "      <td>22.7</td>\n",
       "      <td>23.5</td>\n",
       "      <td>21.0</td>\n",
       "      <td>28.0</td>\n",
       "      <td>Driver only</td>\n",
       "      <td>Rear</td>\n",
       "      <td>...</td>\n",
       "      <td>5.0</td>\n",
       "      <td>190.0</td>\n",
       "      <td>104.0</td>\n",
       "      <td>67.0</td>\n",
       "      <td>37.0</td>\n",
       "      <td>29.5</td>\n",
       "      <td>14.0</td>\n",
       "      <td>2985.0</td>\n",
       "      <td>non-USA</td>\n",
       "      <td>Volvo 240</td>\n",
       "    </tr>\n",
       "    <tr>\n",
       "      <th>92</th>\n",
       "      <td>NaN</td>\n",
       "      <td>850</td>\n",
       "      <td>Midsize</td>\n",
       "      <td>24.8</td>\n",
       "      <td>26.7</td>\n",
       "      <td>28.5</td>\n",
       "      <td>20.0</td>\n",
       "      <td>28.0</td>\n",
       "      <td>Driver &amp; Passenger</td>\n",
       "      <td>Front</td>\n",
       "      <td>...</td>\n",
       "      <td>5.0</td>\n",
       "      <td>184.0</td>\n",
       "      <td>105.0</td>\n",
       "      <td>69.0</td>\n",
       "      <td>38.0</td>\n",
       "      <td>30.0</td>\n",
       "      <td>15.0</td>\n",
       "      <td>3245.0</td>\n",
       "      <td>non-USA</td>\n",
       "      <td>Volvo 850</td>\n",
       "    </tr>\n",
       "  </tbody>\n",
       "</table>\n",
       "<p>93 rows × 27 columns</p>\n",
       "</div>"
      ],
      "text/plain": [
       "   Manufacturer    Model     Type  Min.Price  Price  Max.Price  MPG.city  \\\n",
       "0         Acura  Integra    Small       12.9   15.9       18.8      25.0   \n",
       "1           NaN   Legend  Midsize       29.2   33.9       38.7      18.0   \n",
       "2          Audi       90  Compact       25.9   29.1       32.3      20.0   \n",
       "3          Audi      100  Midsize        NaN   37.7       44.6      19.0   \n",
       "4           BMW     535i  Midsize        NaN   30.0        NaN      22.0   \n",
       "..          ...      ...      ...        ...    ...        ...       ...   \n",
       "88   Volkswagen  Eurovan      Van       16.6   19.7       22.7      17.0   \n",
       "89   Volkswagen   Passat  Compact       17.6   20.0       22.4      21.0   \n",
       "90   Volkswagen  Corrado   Sporty       22.9   23.3       23.7      18.0   \n",
       "91        Volvo      240  Compact       21.8   22.7       23.5      21.0   \n",
       "92          NaN      850  Midsize       24.8   26.7       28.5      20.0   \n",
       "\n",
       "    MPG.highway             AirBags DriveTrain  ... Passengers  Length  \\\n",
       "0          31.0                 NaN      Front  ...        5.0   177.0   \n",
       "1          25.0  Driver & Passenger      Front  ...        5.0   195.0   \n",
       "2          26.0         Driver only      Front  ...        5.0   180.0   \n",
       "3          26.0  Driver & Passenger        NaN  ...        6.0   193.0   \n",
       "4          30.0                 NaN       Rear  ...        4.0   186.0   \n",
       "..          ...                 ...        ...  ...        ...     ...   \n",
       "88         21.0                 NaN      Front  ...        7.0   187.0   \n",
       "89         30.0                 NaN      Front  ...        5.0   180.0   \n",
       "90         25.0                 NaN      Front  ...        4.0   159.0   \n",
       "91         28.0         Driver only       Rear  ...        5.0   190.0   \n",
       "92         28.0  Driver & Passenger      Front  ...        5.0   184.0   \n",
       "\n",
       "    Wheelbase  Width  Turn.circle Rear.seat.room  Luggage.room  Weight  \\\n",
       "0       102.0   68.0         37.0           26.5           NaN  2705.0   \n",
       "1       115.0   71.0         38.0           30.0          15.0  3560.0   \n",
       "2       102.0   67.0         37.0           28.0          14.0  3375.0   \n",
       "3       106.0    NaN         37.0           31.0          17.0  3405.0   \n",
       "4       109.0   69.0         39.0           27.0          13.0  3640.0   \n",
       "..        ...    ...          ...            ...           ...     ...   \n",
       "88      115.0   72.0         38.0           34.0           NaN  3960.0   \n",
       "89      103.0   67.0         35.0           31.5          14.0  2985.0   \n",
       "90       97.0   66.0         36.0           26.0          15.0  2810.0   \n",
       "91      104.0   67.0         37.0           29.5          14.0  2985.0   \n",
       "92      105.0   69.0         38.0           30.0          15.0  3245.0   \n",
       "\n",
       "     Origin                Make  \n",
       "0   non-USA       Acura Integra  \n",
       "1   non-USA        Acura Legend  \n",
       "2   non-USA             Audi 90  \n",
       "3   non-USA            Audi 100  \n",
       "4   non-USA            BMW 535i  \n",
       "..      ...                 ...  \n",
       "88      NaN  Volkswagen Eurovan  \n",
       "89  non-USA   Volkswagen Passat  \n",
       "90  non-USA  Volkswagen Corrado  \n",
       "91  non-USA           Volvo 240  \n",
       "92  non-USA           Volvo 850  \n",
       "\n",
       "[93 rows x 27 columns]"
      ]
     },
     "execution_count": 406,
     "metadata": {},
     "output_type": "execute_result"
    }
   ],
   "source": [
    "# 49. How to filter every nth row in a dataframe?\n",
    "\n",
    "df = pd.read_csv('https://raw.githubusercontent.com/selva86/datasets/master/Cars93_miss.csv')\n",
    "df"
   ]
  },
  {
   "cell_type": "code",
   "execution_count": 407,
   "id": "50c95b93",
   "metadata": {
    "ExecuteTime": {
     "end_time": "2024-12-19T13:18:32.657750Z",
     "start_time": "2024-12-19T13:18:32.630855Z"
    }
   },
   "outputs": [
    {
     "data": {
      "text/html": [
       "<div>\n",
       "<style scoped>\n",
       "    .dataframe tbody tr th:only-of-type {\n",
       "        vertical-align: middle;\n",
       "    }\n",
       "\n",
       "    .dataframe tbody tr th {\n",
       "        vertical-align: top;\n",
       "    }\n",
       "\n",
       "    .dataframe thead th {\n",
       "        text-align: right;\n",
       "    }\n",
       "</style>\n",
       "<table border=\"1\" class=\"dataframe\">\n",
       "  <thead>\n",
       "    <tr style=\"text-align: right;\">\n",
       "      <th></th>\n",
       "      <th>Manufacturer</th>\n",
       "      <th>Model</th>\n",
       "      <th>Type</th>\n",
       "      <th>Min.Price</th>\n",
       "      <th>Price</th>\n",
       "      <th>Max.Price</th>\n",
       "      <th>MPG.city</th>\n",
       "      <th>MPG.highway</th>\n",
       "      <th>AirBags</th>\n",
       "      <th>DriveTrain</th>\n",
       "      <th>...</th>\n",
       "      <th>Passengers</th>\n",
       "      <th>Length</th>\n",
       "      <th>Wheelbase</th>\n",
       "      <th>Width</th>\n",
       "      <th>Turn.circle</th>\n",
       "      <th>Rear.seat.room</th>\n",
       "      <th>Luggage.room</th>\n",
       "      <th>Weight</th>\n",
       "      <th>Origin</th>\n",
       "      <th>Make</th>\n",
       "    </tr>\n",
       "  </thead>\n",
       "  <tbody>\n",
       "    <tr>\n",
       "      <th>0</th>\n",
       "      <td>Acura</td>\n",
       "      <td>Integra</td>\n",
       "      <td>Small</td>\n",
       "      <td>12.9</td>\n",
       "      <td>15.9</td>\n",
       "      <td>18.8</td>\n",
       "      <td>25.0</td>\n",
       "      <td>31.0</td>\n",
       "      <td>NaN</td>\n",
       "      <td>Front</td>\n",
       "      <td>...</td>\n",
       "      <td>5.0</td>\n",
       "      <td>177.0</td>\n",
       "      <td>102.0</td>\n",
       "      <td>68.0</td>\n",
       "      <td>37.0</td>\n",
       "      <td>26.5</td>\n",
       "      <td>NaN</td>\n",
       "      <td>2705.0</td>\n",
       "      <td>non-USA</td>\n",
       "      <td>Acura Integra</td>\n",
       "    </tr>\n",
       "    <tr>\n",
       "      <th>10</th>\n",
       "      <td>Cadillac</td>\n",
       "      <td>Seville</td>\n",
       "      <td>Midsize</td>\n",
       "      <td>37.5</td>\n",
       "      <td>40.1</td>\n",
       "      <td>42.7</td>\n",
       "      <td>16.0</td>\n",
       "      <td>25.0</td>\n",
       "      <td>Driver &amp; Passenger</td>\n",
       "      <td>Front</td>\n",
       "      <td>...</td>\n",
       "      <td>5.0</td>\n",
       "      <td>204.0</td>\n",
       "      <td>111.0</td>\n",
       "      <td>74.0</td>\n",
       "      <td>44.0</td>\n",
       "      <td>31.0</td>\n",
       "      <td>NaN</td>\n",
       "      <td>3935.0</td>\n",
       "      <td>USA</td>\n",
       "      <td>Cadillac Seville</td>\n",
       "    </tr>\n",
       "    <tr>\n",
       "      <th>20</th>\n",
       "      <td>Chrysler</td>\n",
       "      <td>LeBaron</td>\n",
       "      <td>Compact</td>\n",
       "      <td>14.5</td>\n",
       "      <td>15.8</td>\n",
       "      <td>17.1</td>\n",
       "      <td>23.0</td>\n",
       "      <td>28.0</td>\n",
       "      <td>Driver &amp; Passenger</td>\n",
       "      <td>Front</td>\n",
       "      <td>...</td>\n",
       "      <td>6.0</td>\n",
       "      <td>183.0</td>\n",
       "      <td>104.0</td>\n",
       "      <td>68.0</td>\n",
       "      <td>41.0</td>\n",
       "      <td>30.5</td>\n",
       "      <td>14.0</td>\n",
       "      <td>3085.0</td>\n",
       "      <td>USA</td>\n",
       "      <td>Chrysler LeBaron</td>\n",
       "    </tr>\n",
       "    <tr>\n",
       "      <th>30</th>\n",
       "      <td>Ford</td>\n",
       "      <td>Festiva</td>\n",
       "      <td>Small</td>\n",
       "      <td>6.9</td>\n",
       "      <td>7.4</td>\n",
       "      <td>7.9</td>\n",
       "      <td>31.0</td>\n",
       "      <td>33.0</td>\n",
       "      <td>NaN</td>\n",
       "      <td>Front</td>\n",
       "      <td>...</td>\n",
       "      <td>4.0</td>\n",
       "      <td>141.0</td>\n",
       "      <td>90.0</td>\n",
       "      <td>63.0</td>\n",
       "      <td>33.0</td>\n",
       "      <td>26.0</td>\n",
       "      <td>12.0</td>\n",
       "      <td>1845.0</td>\n",
       "      <td>USA</td>\n",
       "      <td>Ford Festiva</td>\n",
       "    </tr>\n",
       "    <tr>\n",
       "      <th>40</th>\n",
       "      <td>Honda</td>\n",
       "      <td>Prelude</td>\n",
       "      <td>Sporty</td>\n",
       "      <td>17.0</td>\n",
       "      <td>19.8</td>\n",
       "      <td>22.7</td>\n",
       "      <td>24.0</td>\n",
       "      <td>31.0</td>\n",
       "      <td>Driver &amp; Passenger</td>\n",
       "      <td>Front</td>\n",
       "      <td>...</td>\n",
       "      <td>4.0</td>\n",
       "      <td>175.0</td>\n",
       "      <td>100.0</td>\n",
       "      <td>70.0</td>\n",
       "      <td>39.0</td>\n",
       "      <td>23.5</td>\n",
       "      <td>8.0</td>\n",
       "      <td>2865.0</td>\n",
       "      <td>non-USA</td>\n",
       "      <td>Honda Prelude</td>\n",
       "    </tr>\n",
       "    <tr>\n",
       "      <th>50</th>\n",
       "      <td>Lincoln</td>\n",
       "      <td>Continental</td>\n",
       "      <td>Midsize</td>\n",
       "      <td>33.3</td>\n",
       "      <td>34.3</td>\n",
       "      <td>35.3</td>\n",
       "      <td>17.0</td>\n",
       "      <td>26.0</td>\n",
       "      <td>Driver &amp; Passenger</td>\n",
       "      <td>NaN</td>\n",
       "      <td>...</td>\n",
       "      <td>6.0</td>\n",
       "      <td>205.0</td>\n",
       "      <td>109.0</td>\n",
       "      <td>73.0</td>\n",
       "      <td>42.0</td>\n",
       "      <td>30.0</td>\n",
       "      <td>19.0</td>\n",
       "      <td>3695.0</td>\n",
       "      <td>USA</td>\n",
       "      <td>Lincoln Continental</td>\n",
       "    </tr>\n",
       "    <tr>\n",
       "      <th>60</th>\n",
       "      <td>Mercury</td>\n",
       "      <td>Cougar</td>\n",
       "      <td>Midsize</td>\n",
       "      <td>14.9</td>\n",
       "      <td>14.9</td>\n",
       "      <td>14.9</td>\n",
       "      <td>19.0</td>\n",
       "      <td>26.0</td>\n",
       "      <td>NaN</td>\n",
       "      <td>Rear</td>\n",
       "      <td>...</td>\n",
       "      <td>5.0</td>\n",
       "      <td>199.0</td>\n",
       "      <td>113.0</td>\n",
       "      <td>73.0</td>\n",
       "      <td>38.0</td>\n",
       "      <td>28.0</td>\n",
       "      <td>15.0</td>\n",
       "      <td>3610.0</td>\n",
       "      <td>USA</td>\n",
       "      <td>Mercury Cougar</td>\n",
       "    </tr>\n",
       "    <tr>\n",
       "      <th>70</th>\n",
       "      <td>Oldsmobile</td>\n",
       "      <td>Eighty-Eight</td>\n",
       "      <td>Large</td>\n",
       "      <td>19.5</td>\n",
       "      <td>20.7</td>\n",
       "      <td>21.9</td>\n",
       "      <td>NaN</td>\n",
       "      <td>28.0</td>\n",
       "      <td>Driver only</td>\n",
       "      <td>Front</td>\n",
       "      <td>...</td>\n",
       "      <td>6.0</td>\n",
       "      <td>201.0</td>\n",
       "      <td>111.0</td>\n",
       "      <td>74.0</td>\n",
       "      <td>42.0</td>\n",
       "      <td>31.5</td>\n",
       "      <td>17.0</td>\n",
       "      <td>3470.0</td>\n",
       "      <td>USA</td>\n",
       "      <td>Oldsmobile Eighty-Eight</td>\n",
       "    </tr>\n",
       "    <tr>\n",
       "      <th>80</th>\n",
       "      <td>Subaru</td>\n",
       "      <td>Loyale</td>\n",
       "      <td>Small</td>\n",
       "      <td>10.5</td>\n",
       "      <td>10.9</td>\n",
       "      <td>11.3</td>\n",
       "      <td>25.0</td>\n",
       "      <td>30.0</td>\n",
       "      <td>NaN</td>\n",
       "      <td>4WD</td>\n",
       "      <td>...</td>\n",
       "      <td>5.0</td>\n",
       "      <td>175.0</td>\n",
       "      <td>97.0</td>\n",
       "      <td>65.0</td>\n",
       "      <td>35.0</td>\n",
       "      <td>27.5</td>\n",
       "      <td>15.0</td>\n",
       "      <td>2490.0</td>\n",
       "      <td>non-USA</td>\n",
       "      <td>Subaru Loyale</td>\n",
       "    </tr>\n",
       "    <tr>\n",
       "      <th>90</th>\n",
       "      <td>Volkswagen</td>\n",
       "      <td>Corrado</td>\n",
       "      <td>Sporty</td>\n",
       "      <td>22.9</td>\n",
       "      <td>23.3</td>\n",
       "      <td>23.7</td>\n",
       "      <td>18.0</td>\n",
       "      <td>25.0</td>\n",
       "      <td>NaN</td>\n",
       "      <td>Front</td>\n",
       "      <td>...</td>\n",
       "      <td>4.0</td>\n",
       "      <td>159.0</td>\n",
       "      <td>97.0</td>\n",
       "      <td>66.0</td>\n",
       "      <td>36.0</td>\n",
       "      <td>26.0</td>\n",
       "      <td>15.0</td>\n",
       "      <td>2810.0</td>\n",
       "      <td>non-USA</td>\n",
       "      <td>Volkswagen Corrado</td>\n",
       "    </tr>\n",
       "  </tbody>\n",
       "</table>\n",
       "<p>10 rows × 27 columns</p>\n",
       "</div>"
      ],
      "text/plain": [
       "   Manufacturer         Model     Type  Min.Price  Price  Max.Price  MPG.city  \\\n",
       "0         Acura       Integra    Small       12.9   15.9       18.8      25.0   \n",
       "10     Cadillac       Seville  Midsize       37.5   40.1       42.7      16.0   \n",
       "20     Chrysler       LeBaron  Compact       14.5   15.8       17.1      23.0   \n",
       "30         Ford       Festiva    Small        6.9    7.4        7.9      31.0   \n",
       "40        Honda       Prelude   Sporty       17.0   19.8       22.7      24.0   \n",
       "50      Lincoln   Continental  Midsize       33.3   34.3       35.3      17.0   \n",
       "60      Mercury        Cougar  Midsize       14.9   14.9       14.9      19.0   \n",
       "70   Oldsmobile  Eighty-Eight    Large       19.5   20.7       21.9       NaN   \n",
       "80       Subaru        Loyale    Small       10.5   10.9       11.3      25.0   \n",
       "90   Volkswagen       Corrado   Sporty       22.9   23.3       23.7      18.0   \n",
       "\n",
       "    MPG.highway             AirBags DriveTrain  ... Passengers  Length  \\\n",
       "0          31.0                 NaN      Front  ...        5.0   177.0   \n",
       "10         25.0  Driver & Passenger      Front  ...        5.0   204.0   \n",
       "20         28.0  Driver & Passenger      Front  ...        6.0   183.0   \n",
       "30         33.0                 NaN      Front  ...        4.0   141.0   \n",
       "40         31.0  Driver & Passenger      Front  ...        4.0   175.0   \n",
       "50         26.0  Driver & Passenger        NaN  ...        6.0   205.0   \n",
       "60         26.0                 NaN       Rear  ...        5.0   199.0   \n",
       "70         28.0         Driver only      Front  ...        6.0   201.0   \n",
       "80         30.0                 NaN        4WD  ...        5.0   175.0   \n",
       "90         25.0                 NaN      Front  ...        4.0   159.0   \n",
       "\n",
       "    Wheelbase  Width  Turn.circle Rear.seat.room  Luggage.room  Weight  \\\n",
       "0       102.0   68.0         37.0           26.5           NaN  2705.0   \n",
       "10      111.0   74.0         44.0           31.0           NaN  3935.0   \n",
       "20      104.0   68.0         41.0           30.5          14.0  3085.0   \n",
       "30       90.0   63.0         33.0           26.0          12.0  1845.0   \n",
       "40      100.0   70.0         39.0           23.5           8.0  2865.0   \n",
       "50      109.0   73.0         42.0           30.0          19.0  3695.0   \n",
       "60      113.0   73.0         38.0           28.0          15.0  3610.0   \n",
       "70      111.0   74.0         42.0           31.5          17.0  3470.0   \n",
       "80       97.0   65.0         35.0           27.5          15.0  2490.0   \n",
       "90       97.0   66.0         36.0           26.0          15.0  2810.0   \n",
       "\n",
       "     Origin                     Make  \n",
       "0   non-USA            Acura Integra  \n",
       "10      USA         Cadillac Seville  \n",
       "20      USA         Chrysler LeBaron  \n",
       "30      USA             Ford Festiva  \n",
       "40  non-USA            Honda Prelude  \n",
       "50      USA      Lincoln Continental  \n",
       "60      USA           Mercury Cougar  \n",
       "70      USA  Oldsmobile Eighty-Eight  \n",
       "80  non-USA            Subaru Loyale  \n",
       "90  non-USA       Volkswagen Corrado  \n",
       "\n",
       "[10 rows x 27 columns]"
      ]
     },
     "execution_count": 407,
     "metadata": {},
     "output_type": "execute_result"
    }
   ],
   "source": [
    "df.iloc[::10, :]"
   ]
  },
  {
   "cell_type": "code",
   "execution_count": 417,
   "id": "43652fb3",
   "metadata": {
    "ExecuteTime": {
     "end_time": "2024-12-19T13:28:40.424735Z",
     "start_time": "2024-12-19T13:28:40.393844Z"
    }
   },
   "outputs": [
    {
     "data": {
      "text/html": [
       "<div>\n",
       "<style scoped>\n",
       "    .dataframe tbody tr th:only-of-type {\n",
       "        vertical-align: middle;\n",
       "    }\n",
       "\n",
       "    .dataframe tbody tr th {\n",
       "        vertical-align: top;\n",
       "    }\n",
       "\n",
       "    .dataframe thead th {\n",
       "        text-align: right;\n",
       "    }\n",
       "</style>\n",
       "<table border=\"1\" class=\"dataframe\">\n",
       "  <thead>\n",
       "    <tr style=\"text-align: right;\">\n",
       "      <th></th>\n",
       "      <th>Manufacturer</th>\n",
       "      <th>Model</th>\n",
       "      <th>Type</th>\n",
       "      <th>Min.Price</th>\n",
       "      <th>Price</th>\n",
       "      <th>Max.Price</th>\n",
       "      <th>MPG.city</th>\n",
       "      <th>MPG.highway</th>\n",
       "      <th>AirBags</th>\n",
       "      <th>DriveTrain</th>\n",
       "      <th>...</th>\n",
       "      <th>Passengers</th>\n",
       "      <th>Length</th>\n",
       "      <th>Wheelbase</th>\n",
       "      <th>Width</th>\n",
       "      <th>Turn.circle</th>\n",
       "      <th>Rear.seat.room</th>\n",
       "      <th>Luggage.room</th>\n",
       "      <th>Weight</th>\n",
       "      <th>Origin</th>\n",
       "      <th>Make</th>\n",
       "    </tr>\n",
       "    <tr>\n",
       "      <th>name_for_idx</th>\n",
       "      <th></th>\n",
       "      <th></th>\n",
       "      <th></th>\n",
       "      <th></th>\n",
       "      <th></th>\n",
       "      <th></th>\n",
       "      <th></th>\n",
       "      <th></th>\n",
       "      <th></th>\n",
       "      <th></th>\n",
       "      <th></th>\n",
       "      <th></th>\n",
       "      <th></th>\n",
       "      <th></th>\n",
       "      <th></th>\n",
       "      <th></th>\n",
       "      <th></th>\n",
       "      <th></th>\n",
       "      <th></th>\n",
       "      <th></th>\n",
       "      <th></th>\n",
       "    </tr>\n",
       "  </thead>\n",
       "  <tbody>\n",
       "    <tr>\n",
       "      <th>Acura_Integra_Small</th>\n",
       "      <td>Acura</td>\n",
       "      <td>Integra</td>\n",
       "      <td>Small</td>\n",
       "      <td>12.9</td>\n",
       "      <td>15.9</td>\n",
       "      <td>18.8</td>\n",
       "      <td>25.0</td>\n",
       "      <td>31.0</td>\n",
       "      <td>NaN</td>\n",
       "      <td>Front</td>\n",
       "      <td>...</td>\n",
       "      <td>5.0</td>\n",
       "      <td>177.0</td>\n",
       "      <td>102.0</td>\n",
       "      <td>68.0</td>\n",
       "      <td>37.0</td>\n",
       "      <td>26.5</td>\n",
       "      <td>NaN</td>\n",
       "      <td>2705.0</td>\n",
       "      <td>non-USA</td>\n",
       "      <td>Acura Integra</td>\n",
       "    </tr>\n",
       "    <tr>\n",
       "      <th>missing_Legend_Midsize</th>\n",
       "      <td>NaN</td>\n",
       "      <td>Legend</td>\n",
       "      <td>Midsize</td>\n",
       "      <td>29.2</td>\n",
       "      <td>33.9</td>\n",
       "      <td>38.7</td>\n",
       "      <td>18.0</td>\n",
       "      <td>25.0</td>\n",
       "      <td>Driver &amp; Passenger</td>\n",
       "      <td>Front</td>\n",
       "      <td>...</td>\n",
       "      <td>5.0</td>\n",
       "      <td>195.0</td>\n",
       "      <td>115.0</td>\n",
       "      <td>71.0</td>\n",
       "      <td>38.0</td>\n",
       "      <td>30.0</td>\n",
       "      <td>15.0</td>\n",
       "      <td>3560.0</td>\n",
       "      <td>non-USA</td>\n",
       "      <td>Acura Legend</td>\n",
       "    </tr>\n",
       "    <tr>\n",
       "      <th>Audi_90_Compact</th>\n",
       "      <td>Audi</td>\n",
       "      <td>90</td>\n",
       "      <td>Compact</td>\n",
       "      <td>25.9</td>\n",
       "      <td>29.1</td>\n",
       "      <td>32.3</td>\n",
       "      <td>20.0</td>\n",
       "      <td>26.0</td>\n",
       "      <td>Driver only</td>\n",
       "      <td>Front</td>\n",
       "      <td>...</td>\n",
       "      <td>5.0</td>\n",
       "      <td>180.0</td>\n",
       "      <td>102.0</td>\n",
       "      <td>67.0</td>\n",
       "      <td>37.0</td>\n",
       "      <td>28.0</td>\n",
       "      <td>14.0</td>\n",
       "      <td>3375.0</td>\n",
       "      <td>non-USA</td>\n",
       "      <td>Audi 90</td>\n",
       "    </tr>\n",
       "    <tr>\n",
       "      <th>Audi_100_Midsize</th>\n",
       "      <td>Audi</td>\n",
       "      <td>100</td>\n",
       "      <td>Midsize</td>\n",
       "      <td>NaN</td>\n",
       "      <td>37.7</td>\n",
       "      <td>44.6</td>\n",
       "      <td>19.0</td>\n",
       "      <td>26.0</td>\n",
       "      <td>Driver &amp; Passenger</td>\n",
       "      <td>NaN</td>\n",
       "      <td>...</td>\n",
       "      <td>6.0</td>\n",
       "      <td>193.0</td>\n",
       "      <td>106.0</td>\n",
       "      <td>NaN</td>\n",
       "      <td>37.0</td>\n",
       "      <td>31.0</td>\n",
       "      <td>17.0</td>\n",
       "      <td>3405.0</td>\n",
       "      <td>non-USA</td>\n",
       "      <td>Audi 100</td>\n",
       "    </tr>\n",
       "    <tr>\n",
       "      <th>BMW_535i_Midsize</th>\n",
       "      <td>BMW</td>\n",
       "      <td>535i</td>\n",
       "      <td>Midsize</td>\n",
       "      <td>NaN</td>\n",
       "      <td>30.0</td>\n",
       "      <td>NaN</td>\n",
       "      <td>22.0</td>\n",
       "      <td>30.0</td>\n",
       "      <td>NaN</td>\n",
       "      <td>Rear</td>\n",
       "      <td>...</td>\n",
       "      <td>4.0</td>\n",
       "      <td>186.0</td>\n",
       "      <td>109.0</td>\n",
       "      <td>69.0</td>\n",
       "      <td>39.0</td>\n",
       "      <td>27.0</td>\n",
       "      <td>13.0</td>\n",
       "      <td>3640.0</td>\n",
       "      <td>non-USA</td>\n",
       "      <td>BMW 535i</td>\n",
       "    </tr>\n",
       "    <tr>\n",
       "      <th>...</th>\n",
       "      <td>...</td>\n",
       "      <td>...</td>\n",
       "      <td>...</td>\n",
       "      <td>...</td>\n",
       "      <td>...</td>\n",
       "      <td>...</td>\n",
       "      <td>...</td>\n",
       "      <td>...</td>\n",
       "      <td>...</td>\n",
       "      <td>...</td>\n",
       "      <td>...</td>\n",
       "      <td>...</td>\n",
       "      <td>...</td>\n",
       "      <td>...</td>\n",
       "      <td>...</td>\n",
       "      <td>...</td>\n",
       "      <td>...</td>\n",
       "      <td>...</td>\n",
       "      <td>...</td>\n",
       "      <td>...</td>\n",
       "      <td>...</td>\n",
       "    </tr>\n",
       "    <tr>\n",
       "      <th>Volkswagen_Eurovan_Van</th>\n",
       "      <td>Volkswagen</td>\n",
       "      <td>Eurovan</td>\n",
       "      <td>Van</td>\n",
       "      <td>16.6</td>\n",
       "      <td>19.7</td>\n",
       "      <td>22.7</td>\n",
       "      <td>17.0</td>\n",
       "      <td>21.0</td>\n",
       "      <td>NaN</td>\n",
       "      <td>Front</td>\n",
       "      <td>...</td>\n",
       "      <td>7.0</td>\n",
       "      <td>187.0</td>\n",
       "      <td>115.0</td>\n",
       "      <td>72.0</td>\n",
       "      <td>38.0</td>\n",
       "      <td>34.0</td>\n",
       "      <td>NaN</td>\n",
       "      <td>3960.0</td>\n",
       "      <td>NaN</td>\n",
       "      <td>Volkswagen Eurovan</td>\n",
       "    </tr>\n",
       "    <tr>\n",
       "      <th>Volkswagen_Passat_Compact</th>\n",
       "      <td>Volkswagen</td>\n",
       "      <td>Passat</td>\n",
       "      <td>Compact</td>\n",
       "      <td>17.6</td>\n",
       "      <td>20.0</td>\n",
       "      <td>22.4</td>\n",
       "      <td>21.0</td>\n",
       "      <td>30.0</td>\n",
       "      <td>NaN</td>\n",
       "      <td>Front</td>\n",
       "      <td>...</td>\n",
       "      <td>5.0</td>\n",
       "      <td>180.0</td>\n",
       "      <td>103.0</td>\n",
       "      <td>67.0</td>\n",
       "      <td>35.0</td>\n",
       "      <td>31.5</td>\n",
       "      <td>14.0</td>\n",
       "      <td>2985.0</td>\n",
       "      <td>non-USA</td>\n",
       "      <td>Volkswagen Passat</td>\n",
       "    </tr>\n",
       "    <tr>\n",
       "      <th>Volkswagen_Corrado_Sporty</th>\n",
       "      <td>Volkswagen</td>\n",
       "      <td>Corrado</td>\n",
       "      <td>Sporty</td>\n",
       "      <td>22.9</td>\n",
       "      <td>23.3</td>\n",
       "      <td>23.7</td>\n",
       "      <td>18.0</td>\n",
       "      <td>25.0</td>\n",
       "      <td>NaN</td>\n",
       "      <td>Front</td>\n",
       "      <td>...</td>\n",
       "      <td>4.0</td>\n",
       "      <td>159.0</td>\n",
       "      <td>97.0</td>\n",
       "      <td>66.0</td>\n",
       "      <td>36.0</td>\n",
       "      <td>26.0</td>\n",
       "      <td>15.0</td>\n",
       "      <td>2810.0</td>\n",
       "      <td>non-USA</td>\n",
       "      <td>Volkswagen Corrado</td>\n",
       "    </tr>\n",
       "    <tr>\n",
       "      <th>Volvo_240_Compact</th>\n",
       "      <td>Volvo</td>\n",
       "      <td>240</td>\n",
       "      <td>Compact</td>\n",
       "      <td>21.8</td>\n",
       "      <td>22.7</td>\n",
       "      <td>23.5</td>\n",
       "      <td>21.0</td>\n",
       "      <td>28.0</td>\n",
       "      <td>Driver only</td>\n",
       "      <td>Rear</td>\n",
       "      <td>...</td>\n",
       "      <td>5.0</td>\n",
       "      <td>190.0</td>\n",
       "      <td>104.0</td>\n",
       "      <td>67.0</td>\n",
       "      <td>37.0</td>\n",
       "      <td>29.5</td>\n",
       "      <td>14.0</td>\n",
       "      <td>2985.0</td>\n",
       "      <td>non-USA</td>\n",
       "      <td>Volvo 240</td>\n",
       "    </tr>\n",
       "    <tr>\n",
       "      <th>missing_850_Midsize</th>\n",
       "      <td>NaN</td>\n",
       "      <td>850</td>\n",
       "      <td>Midsize</td>\n",
       "      <td>24.8</td>\n",
       "      <td>26.7</td>\n",
       "      <td>28.5</td>\n",
       "      <td>20.0</td>\n",
       "      <td>28.0</td>\n",
       "      <td>Driver &amp; Passenger</td>\n",
       "      <td>Front</td>\n",
       "      <td>...</td>\n",
       "      <td>5.0</td>\n",
       "      <td>184.0</td>\n",
       "      <td>105.0</td>\n",
       "      <td>69.0</td>\n",
       "      <td>38.0</td>\n",
       "      <td>30.0</td>\n",
       "      <td>15.0</td>\n",
       "      <td>3245.0</td>\n",
       "      <td>non-USA</td>\n",
       "      <td>Volvo 850</td>\n",
       "    </tr>\n",
       "  </tbody>\n",
       "</table>\n",
       "<p>93 rows × 27 columns</p>\n",
       "</div>"
      ],
      "text/plain": [
       "                          Manufacturer    Model     Type  Min.Price  Price  \\\n",
       "name_for_idx                                                                 \n",
       "Acura_Integra_Small              Acura  Integra    Small       12.9   15.9   \n",
       "missing_Legend_Midsize             NaN   Legend  Midsize       29.2   33.9   \n",
       "Audi_90_Compact                   Audi       90  Compact       25.9   29.1   \n",
       "Audi_100_Midsize                  Audi      100  Midsize        NaN   37.7   \n",
       "BMW_535i_Midsize                   BMW     535i  Midsize        NaN   30.0   \n",
       "...                                ...      ...      ...        ...    ...   \n",
       "Volkswagen_Eurovan_Van      Volkswagen  Eurovan      Van       16.6   19.7   \n",
       "Volkswagen_Passat_Compact   Volkswagen   Passat  Compact       17.6   20.0   \n",
       "Volkswagen_Corrado_Sporty   Volkswagen  Corrado   Sporty       22.9   23.3   \n",
       "Volvo_240_Compact                Volvo      240  Compact       21.8   22.7   \n",
       "missing_850_Midsize                NaN      850  Midsize       24.8   26.7   \n",
       "\n",
       "                           Max.Price  MPG.city  MPG.highway  \\\n",
       "name_for_idx                                                  \n",
       "Acura_Integra_Small             18.8      25.0         31.0   \n",
       "missing_Legend_Midsize          38.7      18.0         25.0   \n",
       "Audi_90_Compact                 32.3      20.0         26.0   \n",
       "Audi_100_Midsize                44.6      19.0         26.0   \n",
       "BMW_535i_Midsize                 NaN      22.0         30.0   \n",
       "...                              ...       ...          ...   \n",
       "Volkswagen_Eurovan_Van          22.7      17.0         21.0   \n",
       "Volkswagen_Passat_Compact       22.4      21.0         30.0   \n",
       "Volkswagen_Corrado_Sporty       23.7      18.0         25.0   \n",
       "Volvo_240_Compact               23.5      21.0         28.0   \n",
       "missing_850_Midsize             28.5      20.0         28.0   \n",
       "\n",
       "                                      AirBags DriveTrain  ... Passengers  \\\n",
       "name_for_idx                                              ...              \n",
       "Acura_Integra_Small                       NaN      Front  ...        5.0   \n",
       "missing_Legend_Midsize     Driver & Passenger      Front  ...        5.0   \n",
       "Audi_90_Compact                   Driver only      Front  ...        5.0   \n",
       "Audi_100_Midsize           Driver & Passenger        NaN  ...        6.0   \n",
       "BMW_535i_Midsize                          NaN       Rear  ...        4.0   \n",
       "...                                       ...        ...  ...        ...   \n",
       "Volkswagen_Eurovan_Van                    NaN      Front  ...        7.0   \n",
       "Volkswagen_Passat_Compact                 NaN      Front  ...        5.0   \n",
       "Volkswagen_Corrado_Sporty                 NaN      Front  ...        4.0   \n",
       "Volvo_240_Compact                 Driver only       Rear  ...        5.0   \n",
       "missing_850_Midsize        Driver & Passenger      Front  ...        5.0   \n",
       "\n",
       "                           Length  Wheelbase  Width  Turn.circle  \\\n",
       "name_for_idx                                                       \n",
       "Acura_Integra_Small         177.0      102.0   68.0         37.0   \n",
       "missing_Legend_Midsize      195.0      115.0   71.0         38.0   \n",
       "Audi_90_Compact             180.0      102.0   67.0         37.0   \n",
       "Audi_100_Midsize            193.0      106.0    NaN         37.0   \n",
       "BMW_535i_Midsize            186.0      109.0   69.0         39.0   \n",
       "...                           ...        ...    ...          ...   \n",
       "Volkswagen_Eurovan_Van      187.0      115.0   72.0         38.0   \n",
       "Volkswagen_Passat_Compact   180.0      103.0   67.0         35.0   \n",
       "Volkswagen_Corrado_Sporty   159.0       97.0   66.0         36.0   \n",
       "Volvo_240_Compact           190.0      104.0   67.0         37.0   \n",
       "missing_850_Midsize         184.0      105.0   69.0         38.0   \n",
       "\n",
       "                          Rear.seat.room  Luggage.room  Weight   Origin  \\\n",
       "name_for_idx                                                              \n",
       "Acura_Integra_Small                 26.5           NaN  2705.0  non-USA   \n",
       "missing_Legend_Midsize              30.0          15.0  3560.0  non-USA   \n",
       "Audi_90_Compact                     28.0          14.0  3375.0  non-USA   \n",
       "Audi_100_Midsize                    31.0          17.0  3405.0  non-USA   \n",
       "BMW_535i_Midsize                    27.0          13.0  3640.0  non-USA   \n",
       "...                                  ...           ...     ...      ...   \n",
       "Volkswagen_Eurovan_Van              34.0           NaN  3960.0      NaN   \n",
       "Volkswagen_Passat_Compact           31.5          14.0  2985.0  non-USA   \n",
       "Volkswagen_Corrado_Sporty           26.0          15.0  2810.0  non-USA   \n",
       "Volvo_240_Compact                   29.5          14.0  2985.0  non-USA   \n",
       "missing_850_Midsize                 30.0          15.0  3245.0  non-USA   \n",
       "\n",
       "                                         Make  \n",
       "name_for_idx                                   \n",
       "Acura_Integra_Small             Acura Integra  \n",
       "missing_Legend_Midsize           Acura Legend  \n",
       "Audi_90_Compact                       Audi 90  \n",
       "Audi_100_Midsize                     Audi 100  \n",
       "BMW_535i_Midsize                     BMW 535i  \n",
       "...                                       ...  \n",
       "Volkswagen_Eurovan_Van     Volkswagen Eurovan  \n",
       "Volkswagen_Passat_Compact   Volkswagen Passat  \n",
       "Volkswagen_Corrado_Sporty  Volkswagen Corrado  \n",
       "Volvo_240_Compact                   Volvo 240  \n",
       "missing_850_Midsize                 Volvo 850  \n",
       "\n",
       "[93 rows x 27 columns]"
      ]
     },
     "execution_count": 417,
     "metadata": {},
     "output_type": "execute_result"
    }
   ],
   "source": [
    "# 50. How to create a primary key index by combining relevant columns?\n",
    "\n",
    "# In df, Replace NaNs with ‘missing’ in columns \n",
    "# 'Manufacturer', 'Model' and 'Type' \n",
    "# and create a index as a combination \n",
    "# of these three columns and check if the index is a primary key.\n",
    "\n",
    "df['name_for_idx'] = df[['Manufacturer', 'Model', 'Type']].replace(np.nan, 'missing').apply(lambda x: \\\n",
    "                                                                       '{}_{}_{}'.\\\n",
    "                                                                       format(x['Manufacturer'],\n",
    "                                                                             x['Model'],\n",
    "                                                                             x['Type']), axis=1)\n",
    "df.set_index('name_for_idx', inplace=True, drop=True)\n",
    "df"
   ]
  },
  {
   "cell_type": "code",
   "execution_count": 437,
   "id": "4e0bf778",
   "metadata": {
    "ExecuteTime": {
     "end_time": "2024-12-19T13:45:07.196209Z",
     "start_time": "2024-12-19T13:45:07.182324Z"
    }
   },
   "outputs": [
    {
     "data": {
      "text/html": [
       "<div>\n",
       "<style scoped>\n",
       "    .dataframe tbody tr th:only-of-type {\n",
       "        vertical-align: middle;\n",
       "    }\n",
       "\n",
       "    .dataframe tbody tr th {\n",
       "        vertical-align: top;\n",
       "    }\n",
       "\n",
       "    .dataframe thead th {\n",
       "        text-align: right;\n",
       "    }\n",
       "</style>\n",
       "<table border=\"1\" class=\"dataframe\">\n",
       "  <thead>\n",
       "    <tr style=\"text-align: right;\">\n",
       "      <th></th>\n",
       "      <th>a</th>\n",
       "      <th>b</th>\n",
       "      <th>c</th>\n",
       "    </tr>\n",
       "  </thead>\n",
       "  <tbody>\n",
       "    <tr>\n",
       "      <th>0</th>\n",
       "      <td>25</td>\n",
       "      <td>3</td>\n",
       "      <td>1</td>\n",
       "    </tr>\n",
       "    <tr>\n",
       "      <th>1</th>\n",
       "      <td>8</td>\n",
       "      <td>21</td>\n",
       "      <td>14</td>\n",
       "    </tr>\n",
       "    <tr>\n",
       "      <th>2</th>\n",
       "      <td>14</td>\n",
       "      <td>23</td>\n",
       "      <td>25</td>\n",
       "    </tr>\n",
       "    <tr>\n",
       "      <th>3</th>\n",
       "      <td>5</td>\n",
       "      <td>11</td>\n",
       "      <td>4</td>\n",
       "    </tr>\n",
       "    <tr>\n",
       "      <th>4</th>\n",
       "      <td>25</td>\n",
       "      <td>15</td>\n",
       "      <td>18</td>\n",
       "    </tr>\n",
       "    <tr>\n",
       "      <th>5</th>\n",
       "      <td>26</td>\n",
       "      <td>20</td>\n",
       "      <td>3</td>\n",
       "    </tr>\n",
       "    <tr>\n",
       "      <th>6</th>\n",
       "      <td>19</td>\n",
       "      <td>14</td>\n",
       "      <td>1</td>\n",
       "    </tr>\n",
       "    <tr>\n",
       "      <th>7</th>\n",
       "      <td>17</td>\n",
       "      <td>11</td>\n",
       "      <td>3</td>\n",
       "    </tr>\n",
       "    <tr>\n",
       "      <th>8</th>\n",
       "      <td>8</td>\n",
       "      <td>13</td>\n",
       "      <td>10</td>\n",
       "    </tr>\n",
       "    <tr>\n",
       "      <th>9</th>\n",
       "      <td>22</td>\n",
       "      <td>19</td>\n",
       "      <td>22</td>\n",
       "    </tr>\n",
       "  </tbody>\n",
       "</table>\n",
       "</div>"
      ],
      "text/plain": [
       "    a   b   c\n",
       "0  25   3   1\n",
       "1   8  21  14\n",
       "2  14  23  25\n",
       "3   5  11   4\n",
       "4  25  15  18\n",
       "5  26  20   3\n",
       "6  19  14   1\n",
       "7  17  11   3\n",
       "8   8  13  10\n",
       "9  22  19  22"
      ]
     },
     "execution_count": 437,
     "metadata": {},
     "output_type": "execute_result"
    },
    {
     "data": {
      "text/plain": [
       "5    26\n",
       "4    25\n",
       "0    25\n",
       "9    22\n",
       "6    19\n",
       "7    17\n",
       "2    14\n",
       "8     8\n",
       "1     8\n",
       "3     5\n",
       "Name: a, dtype: int32"
      ]
     },
     "execution_count": 437,
     "metadata": {},
     "output_type": "execute_result"
    },
    {
     "data": {
      "text/plain": [
       "1"
      ]
     },
     "execution_count": 437,
     "metadata": {},
     "output_type": "execute_result"
    }
   ],
   "source": [
    "# <!-- 51. How to get the row number of the nth largest value in a column? -->\n",
    "\n",
    "df = pd.DataFrame(np.random.randint(1, 30, 30).reshape(10,-1), columns=list('abc'))\n",
    "df\n",
    "\n",
    "# df[df['a'] == df['a'].max()].index\n",
    "# np.where(df['a'] == df['a'].max())\n",
    "\n",
    "n=1\n",
    "df['a'].sort_values()[::-1]\n",
    "df['a'].argsort()[::-1][n]\n"
   ]
  },
  {
   "cell_type": "code",
   "execution_count": 454,
   "id": "311b78ba",
   "metadata": {
    "ExecuteTime": {
     "end_time": "2024-12-19T13:54:48.129052Z",
     "start_time": "2024-12-19T13:54:48.117713Z"
    }
   },
   "outputs": [
    {
     "data": {
      "text/plain": [
       "0      7\n",
       "1     77\n",
       "2     17\n",
       "3     80\n",
       "4     31\n",
       "5     87\n",
       "6     22\n",
       "7      2\n",
       "8     11\n",
       "9     18\n",
       "10    49\n",
       "11    68\n",
       "12    45\n",
       "13    64\n",
       "14    59\n",
       "dtype: int32"
      ]
     },
     "execution_count": 454,
     "metadata": {},
     "output_type": "execute_result"
    },
    {
     "data": {
      "text/plain": [
       "3    80\n",
       "dtype: int32"
      ]
     },
     "execution_count": 454,
     "metadata": {},
     "output_type": "execute_result"
    },
    {
     "data": {
      "text/plain": [
       "array([3], dtype=int64)"
      ]
     },
     "execution_count": 454,
     "metadata": {},
     "output_type": "execute_result"
    }
   ],
   "source": [
    "# 52. How to find the position of the nth largest value greater than a given value?\n",
    "\n",
    "ser = pd.Series(np.random.randint(1, 100, 15))\n",
    "ser\n",
    "n = 1\n",
    "val = ser[ser > ser.mean()].iloc[n]\n",
    "ser[ser == val]\n",
    "np.argwhere(ser > ser.mean())[1]"
   ]
  },
  {
   "cell_type": "code",
<<<<<<< HEAD
   "execution_count": 456,
=======
   "execution_count": 7,
>>>>>>> 58
   "id": "ca550f4f",
   "metadata": {
    "ExecuteTime": {
     "end_time": "2024-12-19T13:58:10.278770Z",
     "start_time": "2024-12-19T13:58:10.270374Z"
    }
   },
   "outputs": [
    {
     "data": {
      "text/html": [
       "<div>\n",
       "<style scoped>\n",
       "    .dataframe tbody tr th:only-of-type {\n",
       "        vertical-align: middle;\n",
       "    }\n",
       "\n",
       "    .dataframe tbody tr th {\n",
       "        vertical-align: top;\n",
       "    }\n",
       "\n",
       "    .dataframe thead th {\n",
       "        text-align: right;\n",
       "    }\n",
       "</style>\n",
       "<table border=\"1\" class=\"dataframe\">\n",
       "  <thead>\n",
       "    <tr style=\"text-align: right;\">\n",
       "      <th></th>\n",
       "      <th>0</th>\n",
       "      <th>1</th>\n",
       "      <th>2</th>\n",
       "      <th>3</th>\n",
       "    </tr>\n",
       "  </thead>\n",
       "  <tbody>\n",
       "    <tr>\n",
       "      <th>0</th>\n",
<<<<<<< HEAD
       "      <td>11</td>\n",
       "      <td>12</td>\n",
       "      <td>35</td>\n",
       "      <td>29</td>\n",
       "    </tr>\n",
       "    <tr>\n",
       "      <th>1</th>\n",
       "      <td>25</td>\n",
       "      <td>10</td>\n",
       "      <td>36</td>\n",
       "      <td>37</td>\n",
       "    </tr>\n",
       "    <tr>\n",
       "      <th>2</th>\n",
       "      <td>30</td>\n",
       "      <td>18</td>\n",
       "      <td>10</td>\n",
       "      <td>15</td>\n",
       "    </tr>\n",
       "    <tr>\n",
       "      <th>3</th>\n",
       "      <td>25</td>\n",
       "      <td>20</td>\n",
       "      <td>39</td>\n",
       "      <td>20</td>\n",
       "    </tr>\n",
       "    <tr>\n",
       "      <th>4</th>\n",
       "      <td>35</td>\n",
       "      <td>10</td>\n",
       "      <td>26</td>\n",
       "      <td>28</td>\n",
       "    </tr>\n",
       "    <tr>\n",
       "      <th>5</th>\n",
       "      <td>32</td>\n",
       "      <td>17</td>\n",
       "      <td>24</td>\n",
       "      <td>32</td>\n",
       "    </tr>\n",
       "    <tr>\n",
       "      <th>6</th>\n",
       "      <td>26</td>\n",
       "      <td>17</td>\n",
       "      <td>29</td>\n",
       "      <td>29</td>\n",
       "    </tr>\n",
       "    <tr>\n",
       "      <th>7</th>\n",
       "      <td>25</td>\n",
       "      <td>32</td>\n",
       "      <td>30</td>\n",
       "      <td>14</td>\n",
       "    </tr>\n",
       "    <tr>\n",
       "      <th>8</th>\n",
       "      <td>35</td>\n",
       "      <td>23</td>\n",
       "      <td>28</td>\n",
       "      <td>36</td>\n",
       "    </tr>\n",
       "    <tr>\n",
       "      <th>9</th>\n",
       "      <td>14</td>\n",
       "      <td>19</td>\n",
       "      <td>28</td>\n",
       "      <td>20</td>\n",
       "    </tr>\n",
       "    <tr>\n",
       "      <th>10</th>\n",
       "      <td>15</td>\n",
       "      <td>39</td>\n",
       "      <td>29</td>\n",
       "      <td>36</td>\n",
       "    </tr>\n",
       "    <tr>\n",
       "      <th>11</th>\n",
       "      <td>38</td>\n",
       "      <td>31</td>\n",
       "      <td>27</td>\n",
       "      <td>29</td>\n",
       "    </tr>\n",
       "    <tr>\n",
       "      <th>12</th>\n",
       "      <td>22</td>\n",
       "      <td>36</td>\n",
       "      <td>14</td>\n",
=======
       "      <td>28</td>\n",
       "      <td>39</td>\n",
       "      <td>12</td>\n",
       "      <td>38</td>\n",
       "    </tr>\n",
       "    <tr>\n",
       "      <th>1</th>\n",
       "      <td>21</td>\n",
       "      <td>34</td>\n",
       "      <td>38</td>\n",
       "      <td>14</td>\n",
       "    </tr>\n",
       "    <tr>\n",
       "      <th>2</th>\n",
       "      <td>18</td>\n",
       "      <td>25</td>\n",
       "      <td>36</td>\n",
       "      <td>13</td>\n",
       "    </tr>\n",
       "    <tr>\n",
       "      <th>3</th>\n",
       "      <td>23</td>\n",
       "      <td>26</td>\n",
       "      <td>28</td>\n",
       "      <td>34</td>\n",
       "    </tr>\n",
       "    <tr>\n",
       "      <th>4</th>\n",
       "      <td>29</td>\n",
       "      <td>16</td>\n",
       "      <td>15</td>\n",
       "      <td>23</td>\n",
       "    </tr>\n",
       "    <tr>\n",
       "      <th>5</th>\n",
       "      <td>23</td>\n",
       "      <td>12</td>\n",
       "      <td>32</td>\n",
       "      <td>30</td>\n",
       "    </tr>\n",
       "    <tr>\n",
       "      <th>6</th>\n",
       "      <td>34</td>\n",
       "      <td>35</td>\n",
       "      <td>23</td>\n",
       "      <td>16</td>\n",
       "    </tr>\n",
       "    <tr>\n",
       "      <th>7</th>\n",
       "      <td>37</td>\n",
       "      <td>30</td>\n",
       "      <td>10</td>\n",
       "      <td>38</td>\n",
       "    </tr>\n",
       "    <tr>\n",
       "      <th>8</th>\n",
       "      <td>28</td>\n",
       "      <td>30</td>\n",
       "      <td>32</td>\n",
       "      <td>26</td>\n",
       "    </tr>\n",
       "    <tr>\n",
       "      <th>9</th>\n",
       "      <td>25</td>\n",
       "      <td>25</td>\n",
       "      <td>32</td>\n",
       "      <td>23</td>\n",
       "    </tr>\n",
       "    <tr>\n",
       "      <th>10</th>\n",
       "      <td>28</td>\n",
       "      <td>12</td>\n",
       "      <td>17</td>\n",
       "      <td>28</td>\n",
       "    </tr>\n",
       "    <tr>\n",
       "      <th>11</th>\n",
       "      <td>28</td>\n",
       "      <td>37</td>\n",
       "      <td>17</td>\n",
       "      <td>17</td>\n",
       "    </tr>\n",
       "    <tr>\n",
       "      <th>12</th>\n",
       "      <td>11</td>\n",
       "      <td>21</td>\n",
       "      <td>25</td>\n",
>>>>>>> 58
       "      <td>21</td>\n",
       "    </tr>\n",
       "    <tr>\n",
       "      <th>13</th>\n",
<<<<<<< HEAD
       "      <td>38</td>\n",
       "      <td>18</td>\n",
       "      <td>26</td>\n",
       "      <td>10</td>\n",
       "    </tr>\n",
       "    <tr>\n",
       "      <th>14</th>\n",
       "      <td>15</td>\n",
       "      <td>26</td>\n",
       "      <td>16</td>\n",
       "      <td>18</td>\n",
=======
       "      <td>22</td>\n",
       "      <td>11</td>\n",
       "      <td>34</td>\n",
       "      <td>16</td>\n",
       "    </tr>\n",
       "    <tr>\n",
       "      <th>14</th>\n",
       "      <td>23</td>\n",
       "      <td>13</td>\n",
       "      <td>18</td>\n",
       "      <td>31</td>\n",
>>>>>>> 58
       "    </tr>\n",
       "  </tbody>\n",
       "</table>\n",
       "</div>"
      ],
      "text/plain": [
       "     0   1   2   3\n",
<<<<<<< HEAD
       "0   11  12  35  29\n",
       "1   25  10  36  37\n",
       "2   30  18  10  15\n",
       "3   25  20  39  20\n",
       "4   35  10  26  28\n",
       "5   32  17  24  32\n",
       "6   26  17  29  29\n",
       "7   25  32  30  14\n",
       "8   35  23  28  36\n",
       "9   14  19  28  20\n",
       "10  15  39  29  36\n",
       "11  38  31  27  29\n",
       "12  22  36  14  21\n",
       "13  38  18  26  10\n",
       "14  15  26  16  18"
      ]
     },
     "execution_count": 456,
=======
       "0   28  39  12  38\n",
       "1   21  34  38  14\n",
       "2   18  25  36  13\n",
       "3   23  26  28  34\n",
       "4   29  16  15  23\n",
       "5   23  12  32  30\n",
       "6   34  35  23  16\n",
       "7   37  30  10  38\n",
       "8   28  30  32  26\n",
       "9   25  25  32  23\n",
       "10  28  12  17  28\n",
       "11  28  37  17  17\n",
       "12  11  21  25  21\n",
       "13  22  11  34  16\n",
       "14  23  13  18  31"
      ]
     },
     "execution_count": 7,
>>>>>>> 58
     "metadata": {},
     "output_type": "execute_result"
    }
   ],
   "source": [
    "# 53. How to get the last n rows of a dataframe with row sum > 100?\n",
    "\n",
    "df = pd.DataFrame(np.random.randint(10, 40, 60).reshape(-1, 4))\n",
    "df"
   ]
  },
  {
   "cell_type": "code",
<<<<<<< HEAD
   "execution_count": 498,
=======
   "execution_count": 11,
>>>>>>> 58
   "id": "b9d786e4",
   "metadata": {
    "ExecuteTime": {
     "end_time": "2024-12-19T14:14:11.144384Z",
     "start_time": "2024-12-19T14:14:11.138726Z"
    }
   },
   "outputs": [
    {
     "data": {
      "text/plain": [
<<<<<<< HEAD
       "0      87\n",
       "1     108\n",
       "2      73\n",
       "3     104\n",
       "4      99\n",
       "5     105\n",
       "6     101\n",
       "7     101\n",
       "8     122\n",
       "9      81\n",
       "10    119\n",
       "11    125\n",
       "12     93\n",
       "13     92\n",
       "14     75\n",
       "dtype: int64"
      ]
     },
     "execution_count": 498,
=======
       "12     78\n",
       "4      83\n",
       "13     83\n",
       "10     85\n",
       "14     85\n",
       "2      92\n",
       "5      97\n",
       "11     99\n",
       "9     105\n",
       "1     107\n",
       "6     108\n",
       "3     111\n",
       "7     115\n",
       "8     116\n",
       "0     117\n",
       "dtype: int64"
      ]
     },
     "execution_count": 11,
>>>>>>> 58
     "metadata": {},
     "output_type": "execute_result"
    }
   ],
   "source": [
<<<<<<< HEAD
    "df.apply(np.sum, axis=1)"
=======
    "df.apply(np.sum, axis=1).sort_values()"
>>>>>>> 58
   ]
  },
  {
   "cell_type": "code",
<<<<<<< HEAD
   "execution_count": 497,
=======
   "execution_count": 12,
>>>>>>> 58
   "id": "5a52aa3a",
   "metadata": {
    "ExecuteTime": {
     "end_time": "2024-12-19T14:13:47.880902Z",
     "start_time": "2024-12-19T14:13:47.874745Z"
    }
   },
   "outputs": [
    {
     "data": {
<<<<<<< HEAD
      "text/plain": [
       "11"
      ]
     },
     "execution_count": 497,
=======
      "text/html": [
       "<div>\n",
       "<style scoped>\n",
       "    .dataframe tbody tr th:only-of-type {\n",
       "        vertical-align: middle;\n",
       "    }\n",
       "\n",
       "    .dataframe tbody tr th {\n",
       "        vertical-align: top;\n",
       "    }\n",
       "\n",
       "    .dataframe thead th {\n",
       "        text-align: right;\n",
       "    }\n",
       "</style>\n",
       "<table border=\"1\" class=\"dataframe\">\n",
       "  <thead>\n",
       "    <tr style=\"text-align: right;\">\n",
       "      <th></th>\n",
       "      <th>0</th>\n",
       "      <th>1</th>\n",
       "      <th>2</th>\n",
       "      <th>3</th>\n",
       "    </tr>\n",
       "  </thead>\n",
       "  <tbody>\n",
       "    <tr>\n",
       "      <th>8</th>\n",
       "      <td>28</td>\n",
       "      <td>30</td>\n",
       "      <td>32</td>\n",
       "      <td>26</td>\n",
       "    </tr>\n",
       "    <tr>\n",
       "      <th>9</th>\n",
       "      <td>25</td>\n",
       "      <td>25</td>\n",
       "      <td>32</td>\n",
       "      <td>23</td>\n",
       "    </tr>\n",
       "  </tbody>\n",
       "</table>\n",
       "</div>"
      ],
      "text/plain": [
       "    0   1   2   3\n",
       "8  28  30  32  26\n",
       "9  25  25  32  23"
      ]
     },
     "execution_count": 12,
>>>>>>> 58
     "metadata": {},
     "output_type": "execute_result"
    }
   ],
   "source": [
<<<<<<< HEAD
    "np.where(df.apply(np.sum, axis=1) > 100)[0][-1]"
=======
    "df.iloc[np.where(df.apply(np.sum, axis=1) > 100)[0][-2:],:]"
>>>>>>> 58
   ]
  },
  {
   "cell_type": "code",
<<<<<<< HEAD
   "execution_count": null,
   "id": "9640edfe",
=======
   "execution_count": 15,
   "id": "9640edfe",
   "metadata": {
    "scrolled": true
   },
   "outputs": [
    {
     "data": {
      "text/plain": [
       "0      0.016049\n",
       "1      0.016049\n",
       "2      0.018874\n",
       "3      0.025929\n",
       "4      0.035622\n",
       "5      0.048939\n",
       "6      0.067234\n",
       "7      0.092367\n",
       "8      0.126896\n",
       "9      0.174333\n",
       "10     0.239503\n",
       "11     0.329034\n",
       "12     0.452035\n",
       "13     0.621017\n",
       "14     0.853168\n",
       "15     1.172102\n",
       "16     1.610262\n",
       "17     2.212216\n",
       "18     3.039195\n",
       "19     4.175319\n",
       "20     5.736153\n",
       "21     7.880463\n",
       "22    10.826367\n",
       "23    14.873521\n",
       "24    20.433597\n",
       "25    28.072162\n",
       "26    38.566204\n",
       "27    52.983169\n",
       "28    63.876672\n",
       "29    63.876672\n",
       "dtype: float64"
      ]
     },
     "execution_count": 15,
     "metadata": {},
     "output_type": "execute_result"
    }
   ],
   "source": [
    "# 54. How to find and cap outliers from a series or dataframe column?\n",
    "# Replace all values of ser in the lower 5%ile and greater than 95%ile with respective 5th and 95th %ile value\n",
    "\n",
    "ser = pd.Series(np.logspace(-2, 2, 30))\n",
    "ser[ser > ser.quantile(0.95)] = ser.quantile(0.95)\n",
    "ser[ser < ser.quantile(0.05)] = ser.quantile(0.05)\n",
    "\n",
    "ser"
   ]
  },
  {
   "cell_type": "code",
   "execution_count": 16,
   "id": "0fcc955d",
   "metadata": {},
   "outputs": [
    {
     "data": {
      "text/html": [
       "<div>\n",
       "<style scoped>\n",
       "    .dataframe tbody tr th:only-of-type {\n",
       "        vertical-align: middle;\n",
       "    }\n",
       "\n",
       "    .dataframe tbody tr th {\n",
       "        vertical-align: top;\n",
       "    }\n",
       "\n",
       "    .dataframe thead th {\n",
       "        text-align: right;\n",
       "    }\n",
       "</style>\n",
       "<table border=\"1\" class=\"dataframe\">\n",
       "  <thead>\n",
       "    <tr style=\"text-align: right;\">\n",
       "      <th></th>\n",
       "      <th>0</th>\n",
       "      <th>1</th>\n",
       "      <th>2</th>\n",
       "      <th>3</th>\n",
       "      <th>4</th>\n",
       "      <th>5</th>\n",
       "      <th>6</th>\n",
       "      <th>7</th>\n",
       "      <th>8</th>\n",
       "      <th>9</th>\n",
       "    </tr>\n",
       "  </thead>\n",
       "  <tbody>\n",
       "    <tr>\n",
       "      <th>0</th>\n",
       "      <td>8</td>\n",
       "      <td>31</td>\n",
       "      <td>32</td>\n",
       "      <td>45</td>\n",
       "      <td>5</td>\n",
       "      <td>35</td>\n",
       "      <td>-13</td>\n",
       "      <td>32</td>\n",
       "      <td>14</td>\n",
       "      <td>-19</td>\n",
       "    </tr>\n",
       "    <tr>\n",
       "      <th>1</th>\n",
       "      <td>46</td>\n",
       "      <td>37</td>\n",
       "      <td>-15</td>\n",
       "      <td>-5</td>\n",
       "      <td>3</td>\n",
       "      <td>41</td>\n",
       "      <td>30</td>\n",
       "      <td>-20</td>\n",
       "      <td>4</td>\n",
       "      <td>31</td>\n",
       "    </tr>\n",
       "    <tr>\n",
       "      <th>2</th>\n",
       "      <td>39</td>\n",
       "      <td>28</td>\n",
       "      <td>-7</td>\n",
       "      <td>19</td>\n",
       "      <td>28</td>\n",
       "      <td>34</td>\n",
       "      <td>5</td>\n",
       "      <td>-11</td>\n",
       "      <td>-20</td>\n",
       "      <td>9</td>\n",
       "    </tr>\n",
       "    <tr>\n",
       "      <th>3</th>\n",
       "      <td>32</td>\n",
       "      <td>-11</td>\n",
       "      <td>41</td>\n",
       "      <td>46</td>\n",
       "      <td>-5</td>\n",
       "      <td>44</td>\n",
       "      <td>-6</td>\n",
       "      <td>37</td>\n",
       "      <td>-1</td>\n",
       "      <td>40</td>\n",
       "    </tr>\n",
       "    <tr>\n",
       "      <th>4</th>\n",
       "      <td>27</td>\n",
       "      <td>0</td>\n",
       "      <td>11</td>\n",
       "      <td>-3</td>\n",
       "      <td>31</td>\n",
       "      <td>22</td>\n",
       "      <td>43</td>\n",
       "      <td>-7</td>\n",
       "      <td>25</td>\n",
       "      <td>-8</td>\n",
       "    </tr>\n",
       "    <tr>\n",
       "      <th>5</th>\n",
       "      <td>33</td>\n",
       "      <td>28</td>\n",
       "      <td>-12</td>\n",
       "      <td>19</td>\n",
       "      <td>31</td>\n",
       "      <td>42</td>\n",
       "      <td>-8</td>\n",
       "      <td>42</td>\n",
       "      <td>7</td>\n",
       "      <td>18</td>\n",
       "    </tr>\n",
       "    <tr>\n",
       "      <th>6</th>\n",
       "      <td>0</td>\n",
       "      <td>39</td>\n",
       "      <td>15</td>\n",
       "      <td>6</td>\n",
       "      <td>3</td>\n",
       "      <td>-17</td>\n",
       "      <td>48</td>\n",
       "      <td>21</td>\n",
       "      <td>-14</td>\n",
       "      <td>21</td>\n",
       "    </tr>\n",
       "    <tr>\n",
       "      <th>7</th>\n",
       "      <td>10</td>\n",
       "      <td>7</td>\n",
       "      <td>-7</td>\n",
       "      <td>15</td>\n",
       "      <td>29</td>\n",
       "      <td>18</td>\n",
       "      <td>48</td>\n",
       "      <td>-17</td>\n",
       "      <td>30</td>\n",
       "      <td>2</td>\n",
       "    </tr>\n",
       "    <tr>\n",
       "      <th>8</th>\n",
       "      <td>-1</td>\n",
       "      <td>5</td>\n",
       "      <td>-12</td>\n",
       "      <td>25</td>\n",
       "      <td>48</td>\n",
       "      <td>18</td>\n",
       "      <td>8</td>\n",
       "      <td>28</td>\n",
       "      <td>38</td>\n",
       "      <td>3</td>\n",
       "    </tr>\n",
       "    <tr>\n",
       "      <th>9</th>\n",
       "      <td>-2</td>\n",
       "      <td>-9</td>\n",
       "      <td>-13</td>\n",
       "      <td>-17</td>\n",
       "      <td>45</td>\n",
       "      <td>33</td>\n",
       "      <td>9</td>\n",
       "      <td>13</td>\n",
       "      <td>46</td>\n",
       "      <td>3</td>\n",
       "    </tr>\n",
       "  </tbody>\n",
       "</table>\n",
       "</div>"
      ],
      "text/plain": [
       "    0   1   2   3   4   5   6   7   8   9\n",
       "0   8  31  32  45   5  35 -13  32  14 -19\n",
       "1  46  37 -15  -5   3  41  30 -20   4  31\n",
       "2  39  28  -7  19  28  34   5 -11 -20   9\n",
       "3  32 -11  41  46  -5  44  -6  37  -1  40\n",
       "4  27   0  11  -3  31  22  43  -7  25  -8\n",
       "5  33  28 -12  19  31  42  -8  42   7  18\n",
       "6   0  39  15   6   3 -17  48  21 -14  21\n",
       "7  10   7  -7  15  29  18  48 -17  30   2\n",
       "8  -1   5 -12  25  48  18   8  28  38   3\n",
       "9  -2  -9 -13 -17  45  33   9  13  46   3"
      ]
     },
     "execution_count": 16,
     "metadata": {},
     "output_type": "execute_result"
    }
   ],
   "source": [
    "# 55. How to reshape a dataframe to the largest possible square after removing the negative values?\n",
    "\n",
    "df = pd.DataFrame(np.random.randint(-20, 50, 100).reshape(10,-1))\n",
    "df"
   ]
  },
  {
   "cell_type": "code",
   "execution_count": 68,
   "id": "4a524e35",
   "metadata": {},
   "outputs": [
    {
     "ename": "ValueError",
     "evalue": "cannot reshape array of size 100 into shape (9,9)",
     "output_type": "error",
     "traceback": [
      "\u001b[0;31m---------------------------------------------------------------------------\u001b[0m",
      "\u001b[0;31mValueError\u001b[0m                                Traceback (most recent call last)",
      "Cell \u001b[0;32mIn[68], line 10\u001b[0m\n\u001b[1;32m      7\u001b[0m     \u001b[38;5;28;01mreturn\u001b[39;00m df_filt\u001b[38;5;241m.\u001b[39mvalues\u001b[38;5;241m.\u001b[39mreshape(max_dim, max_dim)\n\u001b[1;32m      8\u001b[0m \u001b[38;5;66;03m#     return max_dim\u001b[39;00m\n\u001b[0;32m---> 10\u001b[0m \u001b[43mget_square\u001b[49m\u001b[43m(\u001b[49m\u001b[43mdf\u001b[49m\u001b[43m)\u001b[49m\n",
      "Cell \u001b[0;32mIn[68], line 7\u001b[0m, in \u001b[0;36mget_square\u001b[0;34m(df)\u001b[0m\n\u001b[1;32m      3\u001b[0m \u001b[38;5;66;03m#     max_col = df_filt.isnull().sum(axis=1).max()\u001b[39;00m\n\u001b[1;32m      4\u001b[0m \u001b[38;5;66;03m#     max_row = df_filt.isnull().sum(axis=0).max()\u001b[39;00m\n\u001b[1;32m      5\u001b[0m \u001b[38;5;66;03m#     max_dim = max([max_col, max_row])\u001b[39;00m\n\u001b[1;32m      6\u001b[0m     max_dim \u001b[38;5;241m=\u001b[39m np\u001b[38;5;241m.\u001b[39mceil(np\u001b[38;5;241m.\u001b[39msqrt(np\u001b[38;5;241m.\u001b[39mprod(df\u001b[38;5;241m.\u001b[39mshape) \u001b[38;5;241m-\u001b[39m df_filt\u001b[38;5;241m.\u001b[39misnull()\u001b[38;5;241m.\u001b[39msum()\u001b[38;5;241m.\u001b[39msum()))\u001b[38;5;241m.\u001b[39mastype(\u001b[38;5;28mint\u001b[39m)\n\u001b[0;32m----> 7\u001b[0m     \u001b[38;5;28;01mreturn\u001b[39;00m \u001b[43mdf_filt\u001b[49m\u001b[38;5;241;43m.\u001b[39;49m\u001b[43mvalues\u001b[49m\u001b[38;5;241;43m.\u001b[39;49m\u001b[43mreshape\u001b[49m\u001b[43m(\u001b[49m\u001b[43mmax_dim\u001b[49m\u001b[43m,\u001b[49m\u001b[43m \u001b[49m\u001b[43mmax_dim\u001b[49m\u001b[43m)\u001b[49m\n",
      "\u001b[0;31mValueError\u001b[0m: cannot reshape array of size 100 into shape (9,9)"
     ]
    }
   ],
   "source": [
    "def get_square(df: pd.DataFrame) -> pd.DataFrame:\n",
    "    df_filt = df[df > 0]\n",
    "#     max_col = df_filt.isnull().sum(axis=1).max()\n",
    "#     max_row = df_filt.isnull().sum(axis=0).max()\n",
    "#     max_dim = max([max_col, max_row])\n",
    "    max_dim = np.ceil(np.sqrt(np.prod(df.shape) - df_filt.isnull().sum().sum())).astype(int)\n",
    "    return df_filt.values.reshape(max_dim, max_dim)\n",
    "#     return max_dim\n",
    "\n",
    "get_square(df)"
   ]
  },
  {
   "cell_type": "code",
   "execution_count": 71,
   "id": "7799e0b0",
   "metadata": {},
   "outputs": [
    {
     "data": {
      "text/plain": [
       "8"
      ]
     },
     "execution_count": 71,
     "metadata": {},
     "output_type": "execute_result"
    }
   ],
   "source": [
    "arr =  df[df > 0].values.flatten()\n",
    "arr_filt = arr[~np.isnan(arr)]\n",
    "n = np.floor(np.sqrt(arr_filt.shape))[0].astype(int)\n",
    "n"
   ]
  },
  {
   "cell_type": "code",
   "execution_count": 85,
   "id": "d5256f5d",
   "metadata": {},
   "outputs": [
    {
     "data": {
      "text/html": [
       "<div>\n",
       "<style scoped>\n",
       "    .dataframe tbody tr th:only-of-type {\n",
       "        vertical-align: middle;\n",
       "    }\n",
       "\n",
       "    .dataframe tbody tr th {\n",
       "        vertical-align: top;\n",
       "    }\n",
       "\n",
       "    .dataframe thead th {\n",
       "        text-align: right;\n",
       "    }\n",
       "</style>\n",
       "<table border=\"1\" class=\"dataframe\">\n",
       "  <thead>\n",
       "    <tr style=\"text-align: right;\">\n",
       "      <th></th>\n",
       "      <th>0</th>\n",
       "      <th>1</th>\n",
       "      <th>2</th>\n",
       "      <th>3</th>\n",
       "      <th>4</th>\n",
       "      <th>5</th>\n",
       "      <th>6</th>\n",
       "      <th>7</th>\n",
       "    </tr>\n",
       "  </thead>\n",
       "  <tbody>\n",
       "    <tr>\n",
       "      <th>0</th>\n",
       "      <td>8.0</td>\n",
       "      <td>31.0</td>\n",
       "      <td>32.0</td>\n",
       "      <td>45.0</td>\n",
       "      <td>5.0</td>\n",
       "      <td>35.0</td>\n",
       "      <td>32.0</td>\n",
       "      <td>14.0</td>\n",
       "    </tr>\n",
       "    <tr>\n",
       "      <th>1</th>\n",
       "      <td>46.0</td>\n",
       "      <td>37.0</td>\n",
       "      <td>41.0</td>\n",
       "      <td>30.0</td>\n",
       "      <td>31.0</td>\n",
       "      <td>39.0</td>\n",
       "      <td>28.0</td>\n",
       "      <td>19.0</td>\n",
       "    </tr>\n",
       "    <tr>\n",
       "      <th>2</th>\n",
       "      <td>28.0</td>\n",
       "      <td>34.0</td>\n",
       "      <td>5.0</td>\n",
       "      <td>9.0</td>\n",
       "      <td>32.0</td>\n",
       "      <td>41.0</td>\n",
       "      <td>46.0</td>\n",
       "      <td>44.0</td>\n",
       "    </tr>\n",
       "    <tr>\n",
       "      <th>3</th>\n",
       "      <td>37.0</td>\n",
       "      <td>40.0</td>\n",
       "      <td>27.0</td>\n",
       "      <td>11.0</td>\n",
       "      <td>31.0</td>\n",
       "      <td>22.0</td>\n",
       "      <td>43.0</td>\n",
       "      <td>25.0</td>\n",
       "    </tr>\n",
       "    <tr>\n",
       "      <th>4</th>\n",
       "      <td>33.0</td>\n",
       "      <td>28.0</td>\n",
       "      <td>19.0</td>\n",
       "      <td>31.0</td>\n",
       "      <td>42.0</td>\n",
       "      <td>42.0</td>\n",
       "      <td>7.0</td>\n",
       "      <td>18.0</td>\n",
       "    </tr>\n",
       "    <tr>\n",
       "      <th>5</th>\n",
       "      <td>39.0</td>\n",
       "      <td>15.0</td>\n",
       "      <td>6.0</td>\n",
       "      <td>48.0</td>\n",
       "      <td>21.0</td>\n",
       "      <td>21.0</td>\n",
       "      <td>10.0</td>\n",
       "      <td>7.0</td>\n",
       "    </tr>\n",
       "    <tr>\n",
       "      <th>6</th>\n",
       "      <td>15.0</td>\n",
       "      <td>29.0</td>\n",
       "      <td>18.0</td>\n",
       "      <td>48.0</td>\n",
       "      <td>30.0</td>\n",
       "      <td>25.0</td>\n",
       "      <td>48.0</td>\n",
       "      <td>18.0</td>\n",
       "    </tr>\n",
       "    <tr>\n",
       "      <th>7</th>\n",
       "      <td>8.0</td>\n",
       "      <td>28.0</td>\n",
       "      <td>38.0</td>\n",
       "      <td>45.0</td>\n",
       "      <td>33.0</td>\n",
       "      <td>9.0</td>\n",
       "      <td>13.0</td>\n",
       "      <td>46.0</td>\n",
       "    </tr>\n",
       "  </tbody>\n",
       "</table>\n",
       "</div>"
      ],
      "text/plain": [
       "      0     1     2     3     4     5     6     7\n",
       "0   8.0  31.0  32.0  45.0   5.0  35.0  32.0  14.0\n",
       "1  46.0  37.0  41.0  30.0  31.0  39.0  28.0  19.0\n",
       "2  28.0  34.0   5.0   9.0  32.0  41.0  46.0  44.0\n",
       "3  37.0  40.0  27.0  11.0  31.0  22.0  43.0  25.0\n",
       "4  33.0  28.0  19.0  31.0  42.0  42.0   7.0  18.0\n",
       "5  39.0  15.0   6.0  48.0  21.0  21.0  10.0   7.0\n",
       "6  15.0  29.0  18.0  48.0  30.0  25.0  48.0  18.0\n",
       "7   8.0  28.0  38.0  45.0  33.0   9.0  13.0  46.0"
      ]
     },
     "execution_count": 85,
     "metadata": {},
     "output_type": "execute_result"
    }
   ],
   "source": [
    "top_indexes = np.argsort(arr_filt)[::-1]\n",
    "output = np.take(arr_filt, sorted(top_indexes[:n**2])).reshape(n, -1)\n",
    "pd.DataFrame(output)"
   ]
  },
  {
   "cell_type": "code",
   "execution_count": 86,
   "id": "96c116e6",
   "metadata": {},
   "outputs": [
    {
     "data": {
      "text/html": [
       "<div>\n",
       "<style scoped>\n",
       "    .dataframe tbody tr th:only-of-type {\n",
       "        vertical-align: middle;\n",
       "    }\n",
       "\n",
       "    .dataframe tbody tr th {\n",
       "        vertical-align: top;\n",
       "    }\n",
       "\n",
       "    .dataframe thead th {\n",
       "        text-align: right;\n",
       "    }\n",
       "</style>\n",
       "<table border=\"1\" class=\"dataframe\">\n",
       "  <thead>\n",
       "    <tr style=\"text-align: right;\">\n",
       "      <th></th>\n",
       "      <th>0</th>\n",
       "      <th>1</th>\n",
       "      <th>2</th>\n",
       "      <th>3</th>\n",
       "      <th>4</th>\n",
       "    </tr>\n",
       "  </thead>\n",
       "  <tbody>\n",
       "    <tr>\n",
       "      <th>0</th>\n",
       "      <td>0</td>\n",
       "      <td>1</td>\n",
       "      <td>2</td>\n",
       "      <td>3</td>\n",
       "      <td>4</td>\n",
       "    </tr>\n",
       "    <tr>\n",
       "      <th>1</th>\n",
       "      <td>5</td>\n",
       "      <td>6</td>\n",
       "      <td>7</td>\n",
       "      <td>8</td>\n",
       "      <td>9</td>\n",
       "    </tr>\n",
       "    <tr>\n",
       "      <th>2</th>\n",
       "      <td>10</td>\n",
       "      <td>11</td>\n",
       "      <td>12</td>\n",
       "      <td>13</td>\n",
       "      <td>14</td>\n",
       "    </tr>\n",
       "    <tr>\n",
       "      <th>3</th>\n",
       "      <td>15</td>\n",
       "      <td>16</td>\n",
       "      <td>17</td>\n",
       "      <td>18</td>\n",
       "      <td>19</td>\n",
       "    </tr>\n",
       "    <tr>\n",
       "      <th>4</th>\n",
       "      <td>20</td>\n",
       "      <td>21</td>\n",
       "      <td>22</td>\n",
       "      <td>23</td>\n",
       "      <td>24</td>\n",
       "    </tr>\n",
       "  </tbody>\n",
       "</table>\n",
       "</div>"
      ],
      "text/plain": [
       "    0   1   2   3   4\n",
       "0   0   1   2   3   4\n",
       "1   5   6   7   8   9\n",
       "2  10  11  12  13  14\n",
       "3  15  16  17  18  19\n",
       "4  20  21  22  23  24"
      ]
     },
     "execution_count": 86,
     "metadata": {},
     "output_type": "execute_result"
    }
   ],
   "source": [
    "# 56. How to swap two rows of a dataframe?\n",
    "\n",
    "df = pd.DataFrame(np.arange(25).reshape(5, -1))\n",
    "df"
   ]
  },
  {
   "cell_type": "code",
   "execution_count": 93,
   "id": "a6a1106f",
   "metadata": {},
   "outputs": [
    {
     "data": {
      "text/html": [
       "<div>\n",
       "<style scoped>\n",
       "    .dataframe tbody tr th:only-of-type {\n",
       "        vertical-align: middle;\n",
       "    }\n",
       "\n",
       "    .dataframe tbody tr th {\n",
       "        vertical-align: top;\n",
       "    }\n",
       "\n",
       "    .dataframe thead th {\n",
       "        text-align: right;\n",
       "    }\n",
       "</style>\n",
       "<table border=\"1\" class=\"dataframe\">\n",
       "  <thead>\n",
       "    <tr style=\"text-align: right;\">\n",
       "      <th></th>\n",
       "      <th>0</th>\n",
       "      <th>1</th>\n",
       "      <th>2</th>\n",
       "      <th>3</th>\n",
       "      <th>4</th>\n",
       "    </tr>\n",
       "  </thead>\n",
       "  <tbody>\n",
       "    <tr>\n",
       "      <th>0</th>\n",
       "      <td>0</td>\n",
       "      <td>1</td>\n",
       "      <td>2</td>\n",
       "      <td>3</td>\n",
       "      <td>4</td>\n",
       "    </tr>\n",
       "    <tr>\n",
       "      <th>1</th>\n",
       "      <td>10</td>\n",
       "      <td>11</td>\n",
       "      <td>12</td>\n",
       "      <td>13</td>\n",
       "      <td>14</td>\n",
       "    </tr>\n",
       "    <tr>\n",
       "      <th>2</th>\n",
       "      <td>5</td>\n",
       "      <td>6</td>\n",
       "      <td>7</td>\n",
       "      <td>8</td>\n",
       "      <td>9</td>\n",
       "    </tr>\n",
       "    <tr>\n",
       "      <th>3</th>\n",
       "      <td>15</td>\n",
       "      <td>16</td>\n",
       "      <td>17</td>\n",
       "      <td>18</td>\n",
       "      <td>19</td>\n",
       "    </tr>\n",
       "    <tr>\n",
       "      <th>4</th>\n",
       "      <td>20</td>\n",
       "      <td>21</td>\n",
       "      <td>22</td>\n",
       "      <td>23</td>\n",
       "      <td>24</td>\n",
       "    </tr>\n",
       "  </tbody>\n",
       "</table>\n",
       "</div>"
      ],
      "text/plain": [
       "    0   1   2   3   4\n",
       "0   0   1   2   3   4\n",
       "1  10  11  12  13  14\n",
       "2   5   6   7   8   9\n",
       "3  15  16  17  18  19\n",
       "4  20  21  22  23  24"
      ]
     },
     "execution_count": 93,
     "metadata": {},
     "output_type": "execute_result"
    }
   ],
   "source": [
    "def swap_rows(row1, row2):\n",
    "    lst_index = list(df.index)\n",
    "    a, b = lst_index.index(row1), lst_index.index(row2) \n",
    "    lst_index[a], lst_index[b] = lst_index[b], lst_index[a]\n",
    "    return lst_index\n",
    "\n",
    "df = df.reindex(swap_rows(1,2)\n",
    "               )\n",
    "df"
   ]
  },
  {
   "cell_type": "code",
   "execution_count": 95,
   "id": "0c0427fa",
   "metadata": {},
   "outputs": [
    {
     "data": {
      "text/html": [
       "<div>\n",
       "<style scoped>\n",
       "    .dataframe tbody tr th:only-of-type {\n",
       "        vertical-align: middle;\n",
       "    }\n",
       "\n",
       "    .dataframe tbody tr th {\n",
       "        vertical-align: top;\n",
       "    }\n",
       "\n",
       "    .dataframe thead th {\n",
       "        text-align: right;\n",
       "    }\n",
       "</style>\n",
       "<table border=\"1\" class=\"dataframe\">\n",
       "  <thead>\n",
       "    <tr style=\"text-align: right;\">\n",
       "      <th></th>\n",
       "      <th>0</th>\n",
       "      <th>1</th>\n",
       "      <th>2</th>\n",
       "      <th>3</th>\n",
       "      <th>4</th>\n",
       "    </tr>\n",
       "  </thead>\n",
       "  <tbody>\n",
       "    <tr>\n",
       "      <th>4</th>\n",
       "      <td>20</td>\n",
       "      <td>21</td>\n",
       "      <td>22</td>\n",
       "      <td>23</td>\n",
       "      <td>24</td>\n",
       "    </tr>\n",
       "    <tr>\n",
       "      <th>3</th>\n",
       "      <td>15</td>\n",
       "      <td>16</td>\n",
       "      <td>17</td>\n",
       "      <td>18</td>\n",
       "      <td>19</td>\n",
       "    </tr>\n",
       "    <tr>\n",
       "      <th>2</th>\n",
       "      <td>10</td>\n",
       "      <td>11</td>\n",
       "      <td>12</td>\n",
       "      <td>13</td>\n",
       "      <td>14</td>\n",
       "    </tr>\n",
       "    <tr>\n",
       "      <th>1</th>\n",
       "      <td>5</td>\n",
       "      <td>6</td>\n",
       "      <td>7</td>\n",
       "      <td>8</td>\n",
       "      <td>9</td>\n",
       "    </tr>\n",
       "    <tr>\n",
       "      <th>0</th>\n",
       "      <td>0</td>\n",
       "      <td>1</td>\n",
       "      <td>2</td>\n",
       "      <td>3</td>\n",
       "      <td>4</td>\n",
       "    </tr>\n",
       "  </tbody>\n",
       "</table>\n",
       "</div>"
      ],
      "text/plain": [
       "    0   1   2   3   4\n",
       "4  20  21  22  23  24\n",
       "3  15  16  17  18  19\n",
       "2  10  11  12  13  14\n",
       "1   5   6   7   8   9\n",
       "0   0   1   2   3   4"
      ]
     },
     "execution_count": 95,
     "metadata": {},
     "output_type": "execute_result"
    }
   ],
   "source": [
    "# 57. How to reverse the rows of a dataframe?\n",
    "\n",
    "df = pd.DataFrame(np.arange(25).reshape(5, -1))\n",
    "df.iloc[::-1,:]"
   ]
  },
  {
   "cell_type": "code",
   "execution_count": 97,
   "id": "4bf9dbe3",
   "metadata": {},
   "outputs": [],
   "source": [
    "# 58. How to create one-hot encodings of a categorical variable (dummy variables)?\n",
    "\n"
   ]
  },
  {
   "cell_type": "code",
   "execution_count": null,
   "id": "b4fb88ba",
>>>>>>> 58
   "metadata": {},
   "outputs": [],
   "source": []
  }
 ],
 "metadata": {
  "kernelspec": {
   "display_name": "Python 3 (ipykernel)",
   "language": "python",
   "name": "python3"
  },
  "language_info": {
   "codemirror_mode": {
    "name": "ipython",
    "version": 3
   },
   "file_extension": ".py",
   "mimetype": "text/x-python",
   "name": "python",
   "nbconvert_exporter": "python",
   "pygments_lexer": "ipython3",
   "version": "3.12.3"
  }
 },
 "nbformat": 4,
 "nbformat_minor": 5
}
